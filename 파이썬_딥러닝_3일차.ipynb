{
  "nbformat": 4,
  "nbformat_minor": 0,
  "metadata": {
    "colab": {
      "name": "파이썬-딥러닝 3일차.ipynb",
      "provenance": [],
      "mount_file_id": "1m6As44Wx4Z6jgRp4tHGt3Fl2gdS-eGyk",
      "authorship_tag": "ABX9TyNFbX4CuJZ+jcFh5xQ2rGjU",
      "include_colab_link": true
    },
    "kernelspec": {
      "name": "python3",
      "display_name": "Python 3"
    },
    "language_info": {
      "name": "python"
    }
  },
  "cells": [
    {
      "cell_type": "markdown",
      "metadata": {
        "id": "view-in-github",
        "colab_type": "text"
      },
      "source": [
        "<a href=\"https://colab.research.google.com/github/ahnjongin/deeplearning/blob/main/%ED%8C%8C%EC%9D%B4%EC%8D%AC_%EB%94%A5%EB%9F%AC%EB%8B%9D_3%EC%9D%BC%EC%B0%A8.ipynb\" target=\"_parent\"><img src=\"https://colab.research.google.com/assets/colab-badge.svg\" alt=\"Open In Colab\"/></a>"
      ]
    },
    {
      "cell_type": "markdown",
      "metadata": {
        "id": "cmUMMxTmbaiK"
      },
      "source": [
        "#MNIST 파일 구조 분석"
      ]
    },
    {
      "cell_type": "code",
      "metadata": {
        "id": "EWwzPBgKfl3W"
      },
      "source": [
        "import numpy as np\n",
        "import keras\n",
        "from tensorflow import keras\n",
        "from keras.utils import np_utils\n",
        "from sklearn.linear_model import LinearRegression"
      ],
      "execution_count": null,
      "outputs": []
    },
    {
      "cell_type": "code",
      "metadata": {
        "colab": {
          "base_uri": "https://localhost:8080/"
        },
        "id": "TmFB2XPFhdMR",
        "outputId": "e8ef8837-af0c-4723-8928-376f53677c5b"
      },
      "source": [
        "(x_train,y_train),(x_test,y_test) = keras.datasets.mnist.load_data()\n",
        "x_train.shape,y_train.shape"
      ],
      "execution_count": null,
      "outputs": [
        {
          "output_type": "execute_result",
          "data": {
            "text/plain": [
              "((60000, 28, 28), (60000,))"
            ]
          },
          "metadata": {
            "tags": []
          },
          "execution_count": 2
        }
      ]
    },
    {
      "cell_type": "code",
      "metadata": {
        "colab": {
          "base_uri": "https://localhost:8080/"
        },
        "id": "0pePvyTKiEwu",
        "outputId": "8851b620-9dd8-4c91-cfd3-974a19a87423"
      },
      "source": [
        "y_train"
      ],
      "execution_count": null,
      "outputs": [
        {
          "output_type": "execute_result",
          "data": {
            "text/plain": [
              "array([5, 0, 4, ..., 5, 6, 8], dtype=uint8)"
            ]
          },
          "metadata": {
            "tags": []
          },
          "execution_count": 3
        }
      ]
    },
    {
      "cell_type": "code",
      "metadata": {
        "id": "a5oznZVpiIQS"
      },
      "source": [
        "for r in range(28):\n",
        "  for c in range(28):\n",
        "    if(x_test[0][r][c]!=0):\n",
        "      print(\"ㅁ\",end=' ')\n",
        "    else:\n",
        "      print(\"  \",end=' ')\n",
        "    print()"
      ],
      "execution_count": null,
      "outputs": []
    },
    {
      "cell_type": "code",
      "metadata": {
        "colab": {
          "base_uri": "https://localhost:8080/"
        },
        "id": "r9cP-T66i5IL",
        "outputId": "818fe5e3-7e07-4232-e0e7-dc852182cbf3"
      },
      "source": [
        "x_test.shape, y_test.shape"
      ],
      "execution_count": null,
      "outputs": [
        {
          "output_type": "execute_result",
          "data": {
            "text/plain": [
              "((10000, 28, 28), (10000,))"
            ]
          },
          "metadata": {
            "tags": []
          },
          "execution_count": 5
        }
      ]
    },
    {
      "cell_type": "code",
      "metadata": {
        "colab": {
          "base_uri": "https://localhost:8080/"
        },
        "id": "pv_MX395i9yY",
        "outputId": "13fdee16-46b0-49fe-d285-e738ac81fe61"
      },
      "source": [
        "y_test"
      ],
      "execution_count": null,
      "outputs": [
        {
          "output_type": "execute_result",
          "data": {
            "text/plain": [
              "array([7, 2, 1, ..., 4, 5, 6], dtype=uint8)"
            ]
          },
          "metadata": {
            "tags": []
          },
          "execution_count": 6
        }
      ]
    },
    {
      "cell_type": "markdown",
      "metadata": {
        "id": "YePAke72jWdl"
      },
      "source": [
        "MNIST 데이터로 손글씨 인식 - 머신러닝"
      ]
    },
    {
      "cell_type": "code",
      "metadata": {
        "colab": {
          "base_uri": "https://localhost:8080/"
        },
        "id": "SpXe3QJ8kUzc",
        "outputId": "591d6fd5-ee44-4a28-d740-cdd5980fc159"
      },
      "source": [
        "#내가 사용할 모델에 맞게 데이터의 구조와 값을 수정\n",
        "x_train2=x_train.reshape(-1,28*28) #2차원 형태의 독립변수 구조를 1차원 형태의 독립변수 구조로 변경\n",
        "x_train.shape, x_train2.shape"
      ],
      "execution_count": null,
      "outputs": [
        {
          "output_type": "execute_result",
          "data": {
            "text/plain": [
              "((60000, 28, 28), (60000, 784))"
            ]
          },
          "metadata": {
            "tags": []
          },
          "execution_count": 7
        }
      ]
    },
    {
      "cell_type": "code",
      "metadata": {
        "id": "RnX9m6fukprK"
      },
      "source": [
        "x_test2 = x_test.reshape(-1,28*28)"
      ],
      "execution_count": null,
      "outputs": []
    },
    {
      "cell_type": "code",
      "metadata": {
        "colab": {
          "base_uri": "https://localhost:8080/"
        },
        "id": "oiGz8-Yekvml",
        "outputId": "becb2c6a-3bba-4fbd-e0fc-0315376b4e1d"
      },
      "source": [
        "y_train2 = np_utils.to_categorical(y_train)\n",
        "y_train[0], y_train2[0]"
      ],
      "execution_count": null,
      "outputs": [
        {
          "output_type": "execute_result",
          "data": {
            "text/plain": [
              "(5, array([0., 0., 0., 0., 0., 1., 0., 0., 0., 0.], dtype=float32))"
            ]
          },
          "metadata": {
            "tags": []
          },
          "execution_count": 9
        }
      ]
    },
    {
      "cell_type": "code",
      "metadata": {
        "id": "-5md-Rfeltp6"
      },
      "source": [
        "y_test2 = np_utils.to_categorical(y_test)"
      ],
      "execution_count": null,
      "outputs": []
    },
    {
      "cell_type": "code",
      "metadata": {
        "colab": {
          "base_uri": "https://localhost:8080/"
        },
        "id": "B1sX1YiolzVb",
        "outputId": "eaf1bc1d-84f4-4696-b050-9cdb4571473e"
      },
      "source": [
        "mv=min(x_train2[0])\n",
        "Mv=max(x_train2[0])\n",
        "mv,Mv"
      ],
      "execution_count": null,
      "outputs": [
        {
          "output_type": "execute_result",
          "data": {
            "text/plain": [
              "(0, 255)"
            ]
          },
          "metadata": {
            "tags": []
          },
          "execution_count": 11
        }
      ]
    },
    {
      "cell_type": "code",
      "metadata": {
        "colab": {
          "base_uri": "https://localhost:8080/"
        },
        "id": "rQQxo_CimVy4",
        "outputId": "f7c19971-ae27-4e4d-bbb9-6577fe8de3d9"
      },
      "source": [
        "x_train3=x_train2/255.0\n",
        "x_test3=x_test2/255.0\n",
        "mv2=min(x_train3[0])\n",
        "Mv2=max(x_train3[0])\n",
        "mv2,Mv2"
      ],
      "execution_count": null,
      "outputs": [
        {
          "output_type": "execute_result",
          "data": {
            "text/plain": [
              "(0.0, 1.0)"
            ]
          },
          "metadata": {
            "tags": []
          },
          "execution_count": 22
        }
      ]
    },
    {
      "cell_type": "code",
      "metadata": {
        "id": "vnF_Zu_8jdEF"
      },
      "source": [
        "#선형 회귀 모델 생성\n",
        "lr=LinearRegression()"
      ],
      "execution_count": null,
      "outputs": []
    },
    {
      "cell_type": "code",
      "metadata": {
        "colab": {
          "base_uri": "https://localhost:8080/"
        },
        "id": "0AWe0GZ7mmBO",
        "outputId": "29e2a741-20c9-4d51-d47f-23f3ef35fdb9"
      },
      "source": [
        "#학습\n",
        "lr.fit(x_train3,y_train2)\n"
      ],
      "execution_count": null,
      "outputs": [
        {
          "output_type": "execute_result",
          "data": {
            "text/plain": [
              "LinearRegression(copy_X=True, fit_intercept=True, n_jobs=None, normalize=False)"
            ]
          },
          "metadata": {
            "tags": []
          },
          "execution_count": 24
        }
      ]
    },
    {
      "cell_type": "code",
      "metadata": {
        "id": "UIM--8xYm8-l"
      },
      "source": [
        "#예측\n",
        "result = lr.predict(x_test3)"
      ],
      "execution_count": null,
      "outputs": []
    },
    {
      "cell_type": "code",
      "metadata": {
        "colab": {
          "base_uri": "https://localhost:8080/"
        },
        "id": "r8GkbmPJnKq5",
        "outputId": "b8091b54-8b92-4cb1-a866-f1ea9960a8e7"
      },
      "source": [
        "result[0],y_test[0],y_test2[0]"
      ],
      "execution_count": null,
      "outputs": [
        {
          "output_type": "execute_result",
          "data": {
            "text/plain": [
              "(array([ 0.02770996,  0.00618298,  0.10690041,  0.10259679, -0.11571961,\n",
              "        -0.01106006, -0.01830345,  0.90581385, -0.08378306,  0.08020427]),\n",
              " 7,\n",
              " array([0., 0., 0., 0., 0., 0., 0., 1., 0., 0.], dtype=float32))"
            ]
          },
          "metadata": {
            "tags": []
          },
          "execution_count": 26
        }
      ]
    },
    {
      "cell_type": "code",
      "metadata": {
        "colab": {
          "base_uri": "https://localhost:8080/"
        },
        "id": "sb3YgNNFngSe",
        "outputId": "ead49fee-43ab-43bb-f766-64ae484f8f9a"
      },
      "source": [
        "res=[]\n",
        "for r in range(len(result)):\n",
        "  res.append(np.argmax(result[r]))  #제일 큰 값이 있는 인덱스를 얻어와서 res에 추가\n",
        "res2=np.array(res)\n",
        "res2,y_test\n"
      ],
      "execution_count": null,
      "outputs": [
        {
          "output_type": "execute_result",
          "data": {
            "text/plain": [
              "(array([7, 2, 1, ..., 4, 5, 6]), array([7, 2, 1, ..., 4, 5, 6], dtype=uint8))"
            ]
          },
          "metadata": {
            "tags": []
          },
          "execution_count": 27
        }
      ]
    },
    {
      "cell_type": "markdown",
      "metadata": {
        "id": "59GUT8O2usC9"
      },
      "source": [
        "군집화"
      ]
    },
    {
      "cell_type": "code",
      "metadata": {
        "colab": {
          "base_uri": "https://localhost:8080/",
          "height": 359
        },
        "id": "KQs0-BiWutdw",
        "outputId": "553813e0-24cf-4f60-a8ac-6ac53e45c729"
      },
      "source": [
        "import pandas as pd\n",
        "from sklearn.cluster import KMeans\n",
        "import matplotlib.pyplot as plt\n",
        "import seaborn as sns\n",
        "\n",
        "df=pd.DataFrame(columns=['x','y'])\n",
        "df.loc[0]=[1,4]\n",
        "df.loc[1]=[1,3]\n",
        "df.loc[2]=[2,5]\n",
        "df.loc[3]=[2,2]\n",
        "df.loc[4]=[1,12]\n",
        "df.loc[5]=[2,13]\n",
        "df.loc[6]=[3,12]\n",
        "df.loc[7]=[4,6]\n",
        "df.loc[8]=[4,8]\n",
        "df.loc[9]=[5,7]\n",
        "df"
      ],
      "execution_count": null,
      "outputs": [
        {
          "output_type": "execute_result",
          "data": {
            "text/html": [
              "<div>\n",
              "<style scoped>\n",
              "    .dataframe tbody tr th:only-of-type {\n",
              "        vertical-align: middle;\n",
              "    }\n",
              "\n",
              "    .dataframe tbody tr th {\n",
              "        vertical-align: top;\n",
              "    }\n",
              "\n",
              "    .dataframe thead th {\n",
              "        text-align: right;\n",
              "    }\n",
              "</style>\n",
              "<table border=\"1\" class=\"dataframe\">\n",
              "  <thead>\n",
              "    <tr style=\"text-align: right;\">\n",
              "      <th></th>\n",
              "      <th>x</th>\n",
              "      <th>y</th>\n",
              "    </tr>\n",
              "  </thead>\n",
              "  <tbody>\n",
              "    <tr>\n",
              "      <th>0</th>\n",
              "      <td>1</td>\n",
              "      <td>4</td>\n",
              "    </tr>\n",
              "    <tr>\n",
              "      <th>1</th>\n",
              "      <td>1</td>\n",
              "      <td>3</td>\n",
              "    </tr>\n",
              "    <tr>\n",
              "      <th>2</th>\n",
              "      <td>2</td>\n",
              "      <td>5</td>\n",
              "    </tr>\n",
              "    <tr>\n",
              "      <th>3</th>\n",
              "      <td>2</td>\n",
              "      <td>2</td>\n",
              "    </tr>\n",
              "    <tr>\n",
              "      <th>4</th>\n",
              "      <td>1</td>\n",
              "      <td>12</td>\n",
              "    </tr>\n",
              "    <tr>\n",
              "      <th>5</th>\n",
              "      <td>2</td>\n",
              "      <td>13</td>\n",
              "    </tr>\n",
              "    <tr>\n",
              "      <th>6</th>\n",
              "      <td>3</td>\n",
              "      <td>12</td>\n",
              "    </tr>\n",
              "    <tr>\n",
              "      <th>7</th>\n",
              "      <td>4</td>\n",
              "      <td>6</td>\n",
              "    </tr>\n",
              "    <tr>\n",
              "      <th>8</th>\n",
              "      <td>4</td>\n",
              "      <td>8</td>\n",
              "    </tr>\n",
              "    <tr>\n",
              "      <th>9</th>\n",
              "      <td>5</td>\n",
              "      <td>7</td>\n",
              "    </tr>\n",
              "  </tbody>\n",
              "</table>\n",
              "</div>"
            ],
            "text/plain": [
              "   x   y\n",
              "0  1   4\n",
              "1  1   3\n",
              "2  2   5\n",
              "3  2   2\n",
              "4  1  12\n",
              "5  2  13\n",
              "6  3  12\n",
              "7  4   6\n",
              "8  4   8\n",
              "9  5   7"
            ]
          },
          "metadata": {
            "tags": []
          },
          "execution_count": 28
        }
      ]
    },
    {
      "cell_type": "code",
      "metadata": {
        "colab": {
          "base_uri": "https://localhost:8080/",
          "height": 457
        },
        "id": "6rK98GYZv9Vu",
        "outputId": "7325f345-0d53-447e-ffcb-4106b34297ab"
      },
      "source": [
        "#테스트 데이터를 도면에 그리기\n",
        "sns.lmplot('x','y', data=df, fit_reg=False)"
      ],
      "execution_count": null,
      "outputs": [
        {
          "output_type": "stream",
          "text": [
            "/usr/local/lib/python3.7/dist-packages/seaborn/_decorators.py:43: FutureWarning: Pass the following variables as keyword args: x, y. From version 0.12, the only valid positional argument will be `data`, and passing other arguments without an explicit keyword will result in an error or misinterpretation.\n",
            "  FutureWarning\n"
          ],
          "name": "stderr"
        },
        {
          "output_type": "execute_result",
          "data": {
            "text/plain": [
              "<seaborn.axisgrid.FacetGrid at 0x7f31a51c1050>"
            ]
          },
          "metadata": {
            "tags": []
          },
          "execution_count": 29
        },
        {
          "output_type": "display_data",
          "data": {
            "image/png": "[encoded data removed]",
            "text/plain": [
              "<Figure size 360x360 with 1 Axes>"
            ]
          },
          "metadata": {
            "tags": [],
            "needs_background": "light"
          }
        }
      ]
    },
    {
      "cell_type": "code",
      "metadata": {
        "colab": {
          "base_uri": "https://localhost:8080/"
        },
        "id": "b7_v_KfJwf05",
        "outputId": "18e9ac94-d54d-42d2-a865-0e012206a2b3"
      },
      "source": [
        "data_points=df.values\n",
        "data_points"
      ],
      "execution_count": null,
      "outputs": [
        {
          "output_type": "execute_result",
          "data": {
            "text/plain": [
              "array([[1, 4],\n",
              "       [1, 3],\n",
              "       [2, 5],\n",
              "       [2, 2],\n",
              "       [1, 12],\n",
              "       [2, 13],\n",
              "       [3, 12],\n",
              "       [4, 6],\n",
              "       [4, 8],\n",
              "       [5, 7]], dtype=object)"
            ]
          },
          "metadata": {
            "tags": []
          },
          "execution_count": 30
        }
      ]
    },
    {
      "cell_type": "code",
      "metadata": {
        "id": "KQUBaq4Jw0NF"
      },
      "source": [
        "#KMeans 모델로 군집화\n",
        "md = KMeans(n_clusters=3) #n_clusters는 군집 개수\n",
        "kmeans = md.fit(data_points)"
      ],
      "execution_count": null,
      "outputs": []
    },
    {
      "cell_type": "code",
      "metadata": {
        "colab": {
          "base_uri": "https://localhost:8080/",
          "height": 359
        },
        "id": "SqNGsca7xLk5",
        "outputId": "c7c55a9c-9e57-4b79-97e1-6f9d19175425"
      },
      "source": [
        "df['label']=kmeans.labels_\n",
        "df"
      ],
      "execution_count": null,
      "outputs": [
        {
          "output_type": "execute_result",
          "data": {
            "text/html": [
              "<div>\n",
              "<style scoped>\n",
              "    .dataframe tbody tr th:only-of-type {\n",
              "        vertical-align: middle;\n",
              "    }\n",
              "\n",
              "    .dataframe tbody tr th {\n",
              "        vertical-align: top;\n",
              "    }\n",
              "\n",
              "    .dataframe thead th {\n",
              "        text-align: right;\n",
              "    }\n",
              "</style>\n",
              "<table border=\"1\" class=\"dataframe\">\n",
              "  <thead>\n",
              "    <tr style=\"text-align: right;\">\n",
              "      <th></th>\n",
              "      <th>x</th>\n",
              "      <th>y</th>\n",
              "      <th>label</th>\n",
              "    </tr>\n",
              "  </thead>\n",
              "  <tbody>\n",
              "    <tr>\n",
              "      <th>0</th>\n",
              "      <td>1</td>\n",
              "      <td>4</td>\n",
              "      <td>0</td>\n",
              "    </tr>\n",
              "    <tr>\n",
              "      <th>1</th>\n",
              "      <td>1</td>\n",
              "      <td>3</td>\n",
              "      <td>0</td>\n",
              "    </tr>\n",
              "    <tr>\n",
              "      <th>2</th>\n",
              "      <td>2</td>\n",
              "      <td>5</td>\n",
              "      <td>0</td>\n",
              "    </tr>\n",
              "    <tr>\n",
              "      <th>3</th>\n",
              "      <td>2</td>\n",
              "      <td>2</td>\n",
              "      <td>0</td>\n",
              "    </tr>\n",
              "    <tr>\n",
              "      <th>4</th>\n",
              "      <td>1</td>\n",
              "      <td>12</td>\n",
              "      <td>1</td>\n",
              "    </tr>\n",
              "    <tr>\n",
              "      <th>5</th>\n",
              "      <td>2</td>\n",
              "      <td>13</td>\n",
              "      <td>1</td>\n",
              "    </tr>\n",
              "    <tr>\n",
              "      <th>6</th>\n",
              "      <td>3</td>\n",
              "      <td>12</td>\n",
              "      <td>1</td>\n",
              "    </tr>\n",
              "    <tr>\n",
              "      <th>7</th>\n",
              "      <td>4</td>\n",
              "      <td>6</td>\n",
              "      <td>2</td>\n",
              "    </tr>\n",
              "    <tr>\n",
              "      <th>8</th>\n",
              "      <td>4</td>\n",
              "      <td>8</td>\n",
              "      <td>2</td>\n",
              "    </tr>\n",
              "    <tr>\n",
              "      <th>9</th>\n",
              "      <td>5</td>\n",
              "      <td>7</td>\n",
              "      <td>2</td>\n",
              "    </tr>\n",
              "  </tbody>\n",
              "</table>\n",
              "</div>"
            ],
            "text/plain": [
              "   x   y  label\n",
              "0  1   4      0\n",
              "1  1   3      0\n",
              "2  2   5      0\n",
              "3  2   2      0\n",
              "4  1  12      1\n",
              "5  2  13      1\n",
              "6  3  12      1\n",
              "7  4   6      2\n",
              "8  4   8      2\n",
              "9  5   7      2"
            ]
          },
          "metadata": {
            "tags": []
          },
          "execution_count": 32
        }
      ]
    },
    {
      "cell_type": "code",
      "metadata": {
        "colab": {
          "base_uri": "https://localhost:8080/",
          "height": 439
        },
        "id": "4JzTYkULxdOH",
        "outputId": "6bb014fd-ab40-4cfc-a10f-8c2941613c4d"
      },
      "source": [
        "#군집별 도면으로 그리기\n",
        "sns.lmplot('x','y',data=df, fit_reg=False, scatter_kws={\"s\":20},hue='label')\n",
        "plt.show()"
      ],
      "execution_count": null,
      "outputs": [
        {
          "output_type": "stream",
          "text": [
            "/usr/local/lib/python3.7/dist-packages/seaborn/_decorators.py:43: FutureWarning: Pass the following variables as keyword args: x, y. From version 0.12, the only valid positional argument will be `data`, and passing other arguments without an explicit keyword will result in an error or misinterpretation.\n",
            "  FutureWarning\n"
          ],
          "name": "stderr"
        },
        {
          "output_type": "display_data",
          "data": {
            "image/png": "[encoded data removed]",
            "text/plain": [
              "<Figure size 402.375x360 with 1 Axes>"
            ]
          },
          "metadata": {
            "tags": [],
            "needs_background": "light"
          }
        }
      ]
    },
    {
      "cell_type": "markdown",
      "metadata": {
        "id": "RV3RobiPzJPS"
      },
      "source": [
        "#딥러닝-선형 회귀를 이용한 손글씨 인식"
      ]
    },
    {
      "cell_type": "code",
      "metadata": {
        "id": "Rg8OxN0zzM3A"
      },
      "source": [
        "from keras import layers,models"
      ],
      "execution_count": null,
      "outputs": []
    },
    {
      "cell_type": "code",
      "metadata": {
        "id": "qf3Xygd1zfyN"
      },
      "source": [
        "#선형 회귀 모델 생성\n",
        "model=models.Sequential()"
      ],
      "execution_count": null,
      "outputs": []
    },
    {
      "cell_type": "code",
      "metadata": {
        "id": "xeupCVQ2MyzJ"
      },
      "source": [
        "model.add(layers.Dense(100,activation='relu',input_shape=(784,)))  #입력계층: 784 -> 100\n",
        "model.add(layers.Dense(28,activation='relu'))  #은닉 계층: 100->28\n",
        "model.add(layers.Dense(10,activation=\"softmax\"))  #출력 계층: 28->10"
      ],
      "execution_count": null,
      "outputs": []
    },
    {
      "cell_type": "code",
      "metadata": {
        "id": "ysE4iTPPN8OF"
      },
      "source": [
        "#모델을 동작 가능한 상태로 만들기- 컴파일\n",
        "model.compile(loss='categorical_crossentropy',optimizer='adam',metrics=['accuracy'])"
      ],
      "execution_count": null,
      "outputs": []
    },
    {
      "cell_type": "code",
      "metadata": {
        "colab": {
          "base_uri": "https://localhost:8080/"
        },
        "id": "8HhtPV5XNz-q",
        "outputId": "fcd5f8c6-4a87-4525-e0bd-ef7f22a436a0"
      },
      "source": [
        "#학습\n",
        "model.fit(x_train3,y_train2, epochs=15)"
      ],
      "execution_count": null,
      "outputs": [
        {
          "output_type": "stream",
          "text": [
            "Epoch 1/15\n",
            "1875/1875 [==============================] - 17s 2ms/step - loss: 0.4664 - accuracy: 0.8645\n",
            "Epoch 2/15\n",
            "1875/1875 [==============================] - 4s 2ms/step - loss: 0.1217 - accuracy: 0.9644\n",
            "Epoch 3/15\n",
            "1875/1875 [==============================] - 4s 2ms/step - loss: 0.0839 - accuracy: 0.9745\n",
            "Epoch 4/15\n",
            "1875/1875 [==============================] - 4s 2ms/step - loss: 0.0654 - accuracy: 0.9797\n",
            "Epoch 5/15\n",
            "1875/1875 [==============================] - 4s 2ms/step - loss: 0.0505 - accuracy: 0.9847\n",
            "Epoch 6/15\n",
            "1875/1875 [==============================] - 4s 2ms/step - loss: 0.0407 - accuracy: 0.9866\n",
            "Epoch 7/15\n",
            "1875/1875 [==============================] - 4s 2ms/step - loss: 0.0354 - accuracy: 0.9892\n",
            "Epoch 8/15\n",
            "1875/1875 [==============================] - 4s 2ms/step - loss: 0.0265 - accuracy: 0.9913\n",
            "Epoch 9/15\n",
            "1875/1875 [==============================] - 4s 2ms/step - loss: 0.0217 - accuracy: 0.9927\n",
            "Epoch 10/15\n",
            "1875/1875 [==============================] - 4s 2ms/step - loss: 0.0219 - accuracy: 0.9926\n",
            "Epoch 11/15\n",
            "1875/1875 [==============================] - 4s 2ms/step - loss: 0.0175 - accuracy: 0.9943\n",
            "Epoch 12/15\n",
            "1875/1875 [==============================] - 4s 2ms/step - loss: 0.0150 - accuracy: 0.9951\n",
            "Epoch 13/15\n",
            "1875/1875 [==============================] - 4s 2ms/step - loss: 0.0163 - accuracy: 0.9948\n",
            "Epoch 14/15\n",
            "1875/1875 [==============================] - 4s 2ms/step - loss: 0.0122 - accuracy: 0.9963\n",
            "Epoch 15/15\n",
            "1875/1875 [==============================] - 4s 2ms/step - loss: 0.0107 - accuracy: 0.9967\n"
          ],
          "name": "stdout"
        },
        {
          "output_type": "execute_result",
          "data": {
            "text/plain": [
              "<keras.callbacks.History at 0x7f3194132dd0>"
            ]
          },
          "metadata": {
            "tags": []
          },
          "execution_count": 38
        }
      ]
    },
    {
      "cell_type": "code",
      "metadata": {
        "colab": {
          "base_uri": "https://localhost:8080/"
        },
        "id": "TBdTraGISeMG",
        "outputId": "f8365e6d-52b9-4414-c341-308612ef070d"
      },
      "source": [
        "x_test3.shape"
      ],
      "execution_count": null,
      "outputs": [
        {
          "output_type": "execute_result",
          "data": {
            "text/plain": [
              "(10000, 784)"
            ]
          },
          "metadata": {
            "tags": []
          },
          "execution_count": 39
        }
      ]
    },
    {
      "cell_type": "code",
      "metadata": {
        "colab": {
          "base_uri": "https://localhost:8080/"
        },
        "id": "xQ2MjwC5RatF",
        "outputId": "e05daa3b-2640-42e8-f96c-eb7fb581e7e0"
      },
      "source": [
        "#학습한 것을 가지고 실제 테스트를 하여 평가해보자\n",
        "score = model.evaluate(x_test3,y_test2)\n",
        "score"
      ],
      "execution_count": null,
      "outputs": [
        {
          "output_type": "stream",
          "text": [
            "313/313 [==============================] - 1s 1ms/step - loss: 0.1074 - accuracy: 0.9781\n"
          ],
          "name": "stdout"
        },
        {
          "output_type": "execute_result",
          "data": {
            "text/plain": [
              "[0.10737800598144531, 0.9781000018119812]"
            ]
          },
          "metadata": {
            "tags": []
          },
          "execution_count": 41
        }
      ]
    },
    {
      "cell_type": "markdown",
      "metadata": {
        "id": "Q10K5lfqkdh5"
      },
      "source": [
        "독버섯인지 판별하기"
      ]
    },
    {
      "cell_type": "code",
      "metadata": {
        "id": "xv_ylnfKkffi"
      },
      "source": [
        "import pandas as pd\n",
        "from sklearn import svm,metrics\n",
        "import random"
      ],
      "execution_count": null,
      "outputs": []
    },
    {
      "cell_type": "code",
      "metadata": {
        "id": "tAHrgugopYVK"
      },
      "source": [
        "def read_data(fname):\n",
        "  mr = pd.read_csv(fname, header=None) #CSV 파일을 읽어오세요\n",
        "  train_label=[]  #학습에 사용할 종속 변수 컬렉션\n",
        "  test_label=[]  #테스트에 종속 변수를 보관할 컬렉션\n",
        "\n",
        "  train_data=[]  #학습에 사용할 독립 변수 컬렉션\n",
        "  test_data=[]  #테스트에 사용할 독립 변수를 보관할 컬렉션\n",
        "  label=[] #종속 변수를 보관할 컬렉션\n",
        "  data=[]  #독립 변수를 보관할 컬렉션\n",
        "  for ri, row in mr.iterrows(): #로딩한 데이터를 한 줄씩 해석하는 것을 반복하여라\n",
        "    r=random.randint(1,5)  #1이 나오면 테스트 데이터로, 그 외의 값이 나오면 학습 데이터로 사용하자\n",
        "    if r ==1:\n",
        "      test_label.append(ord(row.loc[0]))\n",
        "    else:\n",
        "      train_label.append(ord(row.loc[0]))\n",
        "    \n",
        "    ot=[]\n",
        "    for v in row.loc[1:]:  #인덱스 1에서 맨 마지막 요소까지 반복하여라.\n",
        "      ot.append(ord(v))  #데이터 v를 정수 형식으로 변환하여 ot컬렉션에 추가하여라.\n",
        "    if r==1:\n",
        "      test_data.append(ot)\n",
        "    else:\n",
        "      train_data.append(ot)\n",
        "  return train_data, train_label, test_data, test_label"
      ],
      "execution_count": null,
      "outputs": []
    },
    {
      "cell_type": "code",
      "metadata": {
        "id": "SF66dNJusaN6"
      },
      "source": [
        "tr_d, tr_l, te_d, te_l = read_data(\"/content/drive/MyDrive/딥러닝캠프/mushrooms.csv\")"
      ],
      "execution_count": null,
      "outputs": []
    },
    {
      "cell_type": "code",
      "metadata": {
        "colab": {
          "base_uri": "https://localhost:8080/"
        },
        "id": "ov7ATPkdswlb",
        "outputId": "9d1c2b5c-c5e7-45a5-b9b0-44d4bfce1f2f"
      },
      "source": [
        "tr_darr=np.array(tr_d[0])\n",
        "tr_darr"
      ],
      "execution_count": null,
      "outputs": [
        {
          "output_type": "execute_result",
          "data": {
            "text/plain": [
              "array([120, 115, 121, 116,  97, 102,  99,  98, 107, 101,  99, 115, 115,\n",
              "       119, 119, 112, 119, 111, 112, 110, 110, 103])"
            ]
          },
          "metadata": {
            "tags": []
          },
          "execution_count": 65
        }
      ]
    },
    {
      "cell_type": "code",
      "metadata": {
        "colab": {
          "base_uri": "https://localhost:8080/"
        },
        "id": "7jPL9_NCs8dW",
        "outputId": "bad22dca-7862-4248-b57d-ad4152b857df"
      },
      "source": [
        "len(tr_d), len(tr_l), len(te_d), len(te_l)"
      ],
      "execution_count": null,
      "outputs": [
        {
          "output_type": "execute_result",
          "data": {
            "text/plain": [
              "(6450, 6450, 1674, 1674)"
            ]
          },
          "metadata": {
            "tags": []
          },
          "execution_count": 66
        }
      ]
    },
    {
      "cell_type": "code",
      "metadata": {
        "id": "vJrfmpPptPGK"
      },
      "source": [
        "#모델 생성\n",
        "clf=svm.SVC()"
      ],
      "execution_count": null,
      "outputs": []
    },
    {
      "cell_type": "code",
      "metadata": {
        "colab": {
          "base_uri": "https://localhost:8080/"
        },
        "id": "M8s77QSztTOU",
        "outputId": "acef061c-612e-410d-a269-68d703a69aed"
      },
      "source": [
        "#학습\n",
        "clf.fit(tr_d,tr_l)"
      ],
      "execution_count": null,
      "outputs": [
        {
          "output_type": "execute_result",
          "data": {
            "text/plain": [
              "SVC(C=1.0, break_ties=False, cache_size=200, class_weight=None, coef0=0.0,\n",
              "    decision_function_shape='ovr', degree=3, gamma='scale', kernel='rbf',\n",
              "    max_iter=-1, probability=False, random_state=None, shrinking=True,\n",
              "    tol=0.001, verbose=False)"
            ]
          },
          "metadata": {
            "tags": []
          },
          "execution_count": 68
        }
      ]
    },
    {
      "cell_type": "code",
      "metadata": {
        "id": "fOrKez8JtX-6"
      },
      "source": [
        "#예측\n",
        "result = clf.predict(te_d)"
      ],
      "execution_count": null,
      "outputs": []
    },
    {
      "cell_type": "code",
      "metadata": {
        "id": "0-ypjD_RtfaB"
      },
      "source": [
        "#비교\n",
        "rarr = np.array(result)\n",
        "tearr = np.array(te_l)"
      ],
      "execution_count": null,
      "outputs": []
    },
    {
      "cell_type": "code",
      "metadata": {
        "colab": {
          "base_uri": "https://localhost:8080/"
        },
        "id": "x58yUCKRt5dU",
        "outputId": "166474ce-ddfa-478d-aa5d-06b4d597361e"
      },
      "source": [
        "#정확도를 계산하자\n",
        "score = metrics.accuracy_score(result,te_l)\n",
        "score"
      ],
      "execution_count": null,
      "outputs": [
        {
          "output_type": "execute_result",
          "data": {
            "text/plain": [
              "0.9958183990442055"
            ]
          },
          "metadata": {
            "tags": []
          },
          "execution_count": 71
        }
      ]
    }
  ]
}