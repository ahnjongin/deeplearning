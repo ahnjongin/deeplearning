{
  "nbformat": 4,
  "nbformat_minor": 0,
  "metadata": {
    "colab": {
      "name": "파이썬-딥러닝 4일차.ipynb",
      "provenance": [],
      "collapsed_sections": [],
      "authorship_tag": "ABX9TyMeiquJaogjiOBSptogEnuw",
      "include_colab_link": true
    },
    "kernelspec": {
      "display_name": "Python 3",
      "name": "python3"
    },
    "language_info": {
      "name": "python"
    },
    "accelerator": "GPU"
  },
  "cells": [
    {
      "cell_type": "markdown",
      "metadata": {
        "id": "view-in-github",
        "colab_type": "text"
      },
      "source": [
        "<a href=\"https://colab.research.google.com/github/ahnjongin/deeplearning/blob/main/%ED%8C%8C%EC%9D%B4%EC%8D%AC_%EB%94%A5%EB%9F%AC%EB%8B%9D_4%EC%9D%BC%EC%B0%A8.ipynb\" target=\"_parent\"><img src=\"https://colab.research.google.com/assets/colab-badge.svg\" alt=\"Open In Colab\"/></a>"
      ]
    },
    {
      "cell_type": "markdown",
      "metadata": {
        "id": "dO8NNCyMsICX"
      },
      "source": [
        "#MNIST CNN"
      ]
    },
    {
      "cell_type": "code",
      "metadata": {
        "id": "nfcK5zTMsJxf"
      },
      "source": [
        "#필요한 모듈 포함\n",
        "import keras\n",
        "from keras import models, layers\n",
        "from keras import backend\n",
        "from keras import datasets\n",
        "import tensorflow as tf\n",
        "from tensorflow import keras"
      ],
      "execution_count": null,
      "outputs": []
    },
    {
      "cell_type": "code",
      "metadata": {
        "id": "UyyHOvSLsfvp"
      },
      "source": [
        "#학습인자\n",
        "batch_size = 128 #학습 과정에서 히스토리 기록을 하는 단위\n",
        "epochs = 10 #반복 학습할 횟수\n",
        "num_classes = 10  #분류할 개수(숫자 0~9이므로 10)"
      ],
      "execution_count": null,
      "outputs": []
    },
    {
      "cell_type": "code",
      "metadata": {
        "id": "CnpAsw9WtP66"
      },
      "source": [
        "#mnist 데이터 로딩\n",
        "mdata = keras.datasets.mnist.load_data()  #손글씨 데이터 로딩\n",
        "train,test = mdata  #학습 데이터와 테스트 데이터로 분리\n",
        "x_train, y_train = train  #학습 데이터를 독립변수와 종속 변수로 분리\n",
        "x_test, y_test = test  #테스트 데이터를 독립변수와 종속 변수로 분리"
      ],
      "execution_count": null,
      "outputs": []
    },
    {
      "cell_type": "code",
      "metadata": {
        "colab": {
          "base_uri": "https://localhost:8080/"
        },
        "id": "WFjh0FqLt88k",
        "outputId": "8f783a56-ddb9-4527-f6c0-6350d5d3161b"
      },
      "source": [
        "x_train.shape, y_train.shape  #학습 데이터의 구조 확인"
      ],
      "execution_count": null,
      "outputs": [
        {
          "output_type": "execute_result",
          "data": {
            "text/plain": [
              "((60000, 28, 28), (60000,))"
            ]
          },
          "metadata": {
            "tags": []
          },
          "execution_count": 44
        }
      ]
    },
    {
      "cell_type": "code",
      "metadata": {
        "colab": {
          "base_uri": "https://localhost:8080/",
          "height": 1000
        },
        "id": "9PhJNHwfuLID",
        "outputId": "97be7897-77de-45c4-8cb5-0dfb9ef29ed2"
      },
      "source": [
        "import matplotlib.pyplot as plt\n",
        "for i in range(10):\n",
        "  print(i)\n",
        "  plt.figure(figsize=(4,4))\n",
        "  plt.imshow(x_train[i])\n",
        "  plt.show()"
      ],
      "execution_count": null,
      "outputs": [
        {
          "output_type": "stream",
          "text": [
            "0\n"
          ],
          "name": "stdout"
        },
        {
          "output_type": "display_data",
          "data": {
            "image/png": "[encoded data removed]",
            "text/plain": [
              "<Figure size 288x288 with 1 Axes>"
            ]
          },
          "metadata": {
            "tags": [],
            "needs_background": "light"
          }
        },
        {
          "output_type": "stream",
          "text": [
            "1\n"
          ],
          "name": "stdout"
        },
        {
          "output_type": "display_data",
          "data": {
            "image/png": "[encoded data removed]",
            "text/plain": [
              "<Figure size 288x288 with 1 Axes>"
            ]
          },
          "metadata": {
            "tags": [],
            "needs_background": "light"
          }
        },
        {
          "output_type": "stream",
          "text": [
            "2\n"
          ],
          "name": "stdout"
        },
        {
          "output_type": "display_data",
          "data": {
            "image/png": "[encoded data removed]",
            "text/plain": [
              "<Figure size 288x288 with 1 Axes>"
            ]
          },
          "metadata": {
            "tags": [],
            "needs_background": "light"
          }
        },
        {
          "output_type": "stream",
          "text": [
            "3\n"
          ],
          "name": "stdout"
        },
        {
          "output_type": "display_data",
          "data": {
            "image/png": "[encoded data removed]",
            "text/plain": [
              "<Figure size 288x288 with 1 Axes>"
            ]
          },
          "metadata": {
            "tags": [],
            "needs_background": "light"
          }
        },
        {
          "output_type": "stream",
          "text": [
            "4\n"
          ],
          "name": "stdout"
        },
        {
          "output_type": "display_data",
          "data": {
            "image/png": "[encoded data removed]",
            "text/plain": [
              "<Figure size 288x288 with 1 Axes>"
            ]
          },
          "metadata": {
            "tags": [],
            "needs_background": "light"
          }
        },
        {
          "output_type": "stream",
          "text": [
            "5\n"
          ],
          "name": "stdout"
        },
        {
          "output_type": "display_data",
          "data": {
            "image/png": "[encoded data removed]",
            "text/plain": [
              "<Figure size 288x288 with 1 Axes>"
            ]
          },
          "metadata": {
            "tags": [],
            "needs_background": "light"
          }
        },
        {
          "output_type": "stream",
          "text": [
            "6\n"
          ],
          "name": "stdout"
        },
        {
          "output_type": "display_data",
          "data": {
            "image/png": "[encoded data removed]",
            "text/plain": [
              "<Figure size 288x288 with 1 Axes>"
            ]
          },
          "metadata": {
            "tags": [],
            "needs_background": "light"
          }
        },
        {
          "output_type": "stream",
          "text": [
            "7\n"
          ],
          "name": "stdout"
        },
        {
          "output_type": "display_data",
          "data": {
            "image/png": "[encoded data removed]",
            "text/plain": [
              "<Figure size 288x288 with 1 Axes>"
            ]
          },
          "metadata": {
            "tags": [],
            "needs_background": "light"
          }
        },
        {
          "output_type": "stream",
          "text": [
            "8\n"
          ],
          "name": "stdout"
        },
        {
          "output_type": "display_data",
          "data": {
            "image/png": "[encoded data removed]",
            "text/plain": [
              "<Figure size 288x288 with 1 Axes>"
            ]
          },
          "metadata": {
            "tags": [],
            "needs_background": "light"
          }
        },
        {
          "output_type": "stream",
          "text": [
            "9\n"
          ],
          "name": "stdout"
        },
        {
          "output_type": "display_data",
          "data": {
            "image/png": "[encoded data removed]",
            "text/plain": [
              "<Figure size 288x288 with 1 Axes>"
            ]
          },
          "metadata": {
            "tags": [],
            "needs_background": "light"
          }
        }
      ]
    },
    {
      "cell_type": "code",
      "metadata": {
        "colab": {
          "base_uri": "https://localhost:8080/"
        },
        "id": "-OGN8QlHwwDA",
        "outputId": "ef456a0a-a2a5-44e9-e260-02044c1417b8"
      },
      "source": [
        "#데이터 정제화\n",
        "x_train2=x_train.reshape(60000,28,28,1)  #하드코딩\n",
        "x_train2.shape, x_train.shape"
      ],
      "execution_count": null,
      "outputs": [
        {
          "output_type": "execute_result",
          "data": {
            "text/plain": [
              "((60000, 28, 28, 1), (60000, 28, 28))"
            ]
          },
          "metadata": {
            "tags": []
          },
          "execution_count": 46
        }
      ]
    },
    {
      "cell_type": "code",
      "metadata": {
        "colab": {
          "base_uri": "https://localhost:8080/"
        },
        "id": "mqktiGfQxTud",
        "outputId": "20c2f90f-aa57-4bd3-da4c-8dae91b32a63"
      },
      "source": [
        "img_rows, img_cols = x_test.shape[1:]\n",
        "x_test2= x_test.reshape(x_test.shape[0],img_rows,img_cols,1)  #소프트코딩\n",
        "input_shape=(img_rows,img_cols,1)\n",
        "x_test2.shape, input_shape"
      ],
      "execution_count": null,
      "outputs": [
        {
          "output_type": "execute_result",
          "data": {
            "text/plain": [
              "((10000, 28, 28, 1), (28, 28, 1))"
            ]
          },
          "metadata": {
            "tags": []
          },
          "execution_count": 47
        }
      ]
    },
    {
      "cell_type": "code",
      "metadata": {
        "colab": {
          "base_uri": "https://localhost:8080/"
        },
        "id": "u9MlgT0DyR9A",
        "outputId": "96a0421f-6011-468e-f327-0667f7371500"
      },
      "source": [
        "x_test_dummy = x_test.reshape(-1,)\n",
        "mv=max(x_test_dummy)\n",
        "mv"
      ],
      "execution_count": null,
      "outputs": [
        {
          "output_type": "execute_result",
          "data": {
            "text/plain": [
              "255"
            ]
          },
          "metadata": {
            "tags": []
          },
          "execution_count": 48
        }
      ]
    },
    {
      "cell_type": "code",
      "metadata": {
        "id": "a8qwJ_ICzVyS"
      },
      "source": [
        "#독립변수의 값을 0~1.0 사이의 값으로 치환\n",
        "x_train3= x_train2/mv\n",
        "x_test3=x_test2/mv"
      ],
      "execution_count": null,
      "outputs": []
    },
    {
      "cell_type": "code",
      "metadata": {
        "colab": {
          "base_uri": "https://localhost:8080/"
        },
        "id": "vz5iUfPXzeNg",
        "outputId": "ba6fa039-8070-4b13-b3b9-8546f9c6b97f"
      },
      "source": [
        "x_test_dummy2= x_train3.reshape(-1,)\n",
        "mv2 = max(x_test_dummy2)\n",
        "mv2"
      ],
      "execution_count": null,
      "outputs": [
        {
          "output_type": "execute_result",
          "data": {
            "text/plain": [
              "1.0"
            ]
          },
          "metadata": {
            "tags": []
          },
          "execution_count": 50
        }
      ]
    },
    {
      "cell_type": "code",
      "metadata": {
        "colab": {
          "base_uri": "https://localhost:8080/"
        },
        "id": "YM3BWYmM3APb",
        "outputId": "489e8c6c-3c3d-40d1-fc45-bd5f6668f0d3"
      },
      "source": [
        "y_train2=keras.utils.to_categorical(y_train,num_classes)\n",
        "y_test2=keras.utils.to_categorical(y_test,num_classes)\n",
        "y_train, y_train2"
      ],
      "execution_count": null,
      "outputs": [
        {
          "output_type": "execute_result",
          "data": {
            "text/plain": [
              "(array([5, 0, 4, ..., 5, 6, 8], dtype=uint8),\n",
              " array([[0., 0., 0., ..., 0., 0., 0.],\n",
              "        [1., 0., 0., ..., 0., 0., 0.],\n",
              "        [0., 0., 0., ..., 0., 0., 0.],\n",
              "        ...,\n",
              "        [0., 0., 0., ..., 0., 0., 0.],\n",
              "        [0., 0., 0., ..., 0., 0., 0.],\n",
              "        [0., 0., 0., ..., 0., 1., 0.]], dtype=float32))"
            ]
          },
          "metadata": {
            "tags": []
          },
          "execution_count": 51
        }
      ]
    },
    {
      "cell_type": "code",
      "metadata": {
        "colab": {
          "base_uri": "https://localhost:8080/"
        },
        "id": "FuIlASDL4O--",
        "outputId": "5e0d06e6-ab24-41bb-9cbc-4e05b3c7683f"
      },
      "source": [
        "x_test4 = x_test.reshape(-1,784)\n",
        "x_train4= x_train3.reshape(-1,784)\n",
        "x_train4.shape, y_train2.shape"
      ],
      "execution_count": null,
      "outputs": [
        {
          "output_type": "execute_result",
          "data": {
            "text/plain": [
              "((60000, 784), (60000, 10))"
            ]
          },
          "metadata": {
            "tags": []
          },
          "execution_count": 52
        }
      ]
    },
    {
      "cell_type": "code",
      "metadata": {
        "id": "Mlf88YXbvNED"
      },
      "source": [
        "#모델 생성\n",
        "model = models.Sequential()"
      ],
      "execution_count": null,
      "outputs": []
    },
    {
      "cell_type": "code",
      "metadata": {
        "id": "Tgksy5-MvTim"
      },
      "source": [
        "#계층 쌓기\n",
        "model.add(layers.Dense(100,activation='relu', input_shape=(784,)))\n",
        "model.add(layers.Dense(28,activation='relu'))\n",
        "model.add(layers.Dense(10,activation='softmax'))"
      ],
      "execution_count": null,
      "outputs": []
    },
    {
      "cell_type": "code",
      "metadata": {
        "id": "OM46qLBewN7i"
      },
      "source": [
        "#컴파일\n",
        "model.compile(loss='categorical_crossentropy',optimizer='adam',metrics=['accuracy'])"
      ],
      "execution_count": null,
      "outputs": []
    },
    {
      "cell_type": "code",
      "metadata": {
        "colab": {
          "base_uri": "https://localhost:8080/"
        },
        "id": "dUwXfada7O85",
        "outputId": "dfc433e3-4b92-44ba-f11d-260e6e820d9e"
      },
      "source": [
        "x_train4.shape, y_train2.shape"
      ],
      "execution_count": null,
      "outputs": [
        {
          "output_type": "execute_result",
          "data": {
            "text/plain": [
              "((60000, 784), (60000, 10))"
            ]
          },
          "metadata": {
            "tags": []
          },
          "execution_count": 56
        }
      ]
    },
    {
      "cell_type": "code",
      "metadata": {
        "colab": {
          "base_uri": "https://localhost:8080/"
        },
        "id": "R9cbbVzMwg9z",
        "outputId": "45f8d634-d0c5-44dc-e5ed-298af9778835"
      },
      "source": [
        "#학습\n",
        "model.fit(x_train4,y_train2,epochs=15)"
      ],
      "execution_count": null,
      "outputs": [
        {
          "output_type": "stream",
          "text": [
            "Epoch 1/15\n",
            "1875/1875 [==============================] - 16s 2ms/step - loss: 0.4735 - accuracy: 0.8586\n",
            "Epoch 2/15\n",
            "1875/1875 [==============================] - 4s 2ms/step - loss: 0.1277 - accuracy: 0.9600\n",
            "Epoch 3/15\n",
            "1875/1875 [==============================] - 4s 2ms/step - loss: 0.0813 - accuracy: 0.9754\n",
            "Epoch 4/15\n",
            "1875/1875 [==============================] - 4s 2ms/step - loss: 0.0640 - accuracy: 0.9807\n",
            "Epoch 5/15\n",
            "1875/1875 [==============================] - 4s 2ms/step - loss: 0.0476 - accuracy: 0.9851\n",
            "Epoch 6/15\n",
            "1875/1875 [==============================] - 4s 2ms/step - loss: 0.0371 - accuracy: 0.9882\n",
            "Epoch 7/15\n",
            "1875/1875 [==============================] - 4s 2ms/step - loss: 0.0321 - accuracy: 0.9896\n",
            "Epoch 8/15\n",
            "1875/1875 [==============================] - 4s 2ms/step - loss: 0.0274 - accuracy: 0.9911\n",
            "Epoch 9/15\n",
            "1875/1875 [==============================] - 4s 2ms/step - loss: 0.0242 - accuracy: 0.9917\n",
            "Epoch 10/15\n",
            "1875/1875 [==============================] - 4s 2ms/step - loss: 0.0193 - accuracy: 0.9936\n",
            "Epoch 11/15\n",
            "1875/1875 [==============================] - 4s 2ms/step - loss: 0.0170 - accuracy: 0.9943\n",
            "Epoch 12/15\n",
            "1875/1875 [==============================] - 4s 2ms/step - loss: 0.0158 - accuracy: 0.9947\n",
            "Epoch 13/15\n",
            "1875/1875 [==============================] - 4s 2ms/step - loss: 0.0138 - accuracy: 0.9952\n",
            "Epoch 14/15\n",
            "1875/1875 [==============================] - 4s 2ms/step - loss: 0.0116 - accuracy: 0.9964\n",
            "Epoch 15/15\n",
            "1875/1875 [==============================] - 4s 2ms/step - loss: 0.0105 - accuracy: 0.9963\n"
          ],
          "name": "stdout"
        },
        {
          "output_type": "execute_result",
          "data": {
            "text/plain": [
              "<keras.callbacks.History at 0x7fd64012e6d0>"
            ]
          },
          "metadata": {
            "tags": []
          },
          "execution_count": 17
        }
      ]
    },
    {
      "cell_type": "code",
      "metadata": {
        "colab": {
          "base_uri": "https://localhost:8080/"
        },
        "id": "i3xbkdx05vrO",
        "outputId": "fae27512-90b7-41d8-9782-d3a1ffa9e078"
      },
      "source": [
        "x_train3.shape, x_test3.shape #CNN에서 사용할 데이터 구조, DNN에서 사용할 데이터 구조"
      ],
      "execution_count": null,
      "outputs": [
        {
          "output_type": "execute_result",
          "data": {
            "text/plain": [
              "((60000, 28, 28, 1), (10000, 28, 28, 1))"
            ]
          },
          "metadata": {
            "tags": []
          },
          "execution_count": 57
        }
      ]
    },
    {
      "cell_type": "markdown",
      "metadata": {
        "id": "MbGpb0m-6JH2"
      },
      "source": [
        "#CNN"
      ]
    },
    {
      "cell_type": "code",
      "metadata": {
        "id": "qYQc2R2X6LWN"
      },
      "source": [
        "#모델 생성\n",
        "modelc = models.Sequential()"
      ],
      "execution_count": null,
      "outputs": []
    },
    {
      "cell_type": "code",
      "metadata": {
        "id": "lH5DKkJy6TKV"
      },
      "source": [
        "#CNN 계층 쌓기\n",
        "modelc.add(layers.Conv2D(32,kernel_size=(3,3), activation='relu', input_shape=input_shape))  #원본이미지와 커널 사이에 컨벌루션 연산을 통해 특성 이미지를 추추하여라\n",
        "modelc.add(layers.Conv2D(64,(3,3),activation=\"relu\"))\n",
        "modelc.add(layers.MaxPooling2D(pool_size=(2,2)))  #인접한 2x2쉘에 있는 값중에 최대값만 사용(독립변수 개수가 1/4로 줄여지는 효과)\n",
        "modelc.add(layers.Dropout(0.25))  #은닉층에 독립변수의 개수를 25%로 버려서 학습하세요.\n",
        "modelc.add(layers.Flatten())  #평면 혹은 입체 데이터 구조를 1차원 데이터로 구조 변경(DNN에 독립변수는 1차원이어야 함)\n",
        "#DNN 계층 쌓기\n",
        "modelc.add(layers.Dense(128,activation='relu'))\n",
        "modelc.add(layers.Dropout(0.5))  #은닉층에 독립 변수를 50%로 버려서 학습하세요\n",
        "modelc.add(layers.Dense(num_classes, activation='softmax')) \n"
      ],
      "execution_count": null,
      "outputs": []
    },
    {
      "cell_type": "code",
      "metadata": {
        "id": "OQN3GvVK9eUK"
      },
      "source": [
        "#학습 가능한 모델로 만들기 - 컴파일\n",
        "modelc.compile(loss=keras.losses.categorical_crossentropy, optimizer='adam', metrics=['accuracy'])"
      ],
      "execution_count": null,
      "outputs": []
    },
    {
      "cell_type": "code",
      "metadata": {
        "colab": {
          "base_uri": "https://localhost:8080/"
        },
        "id": "xphh62RC92Tr",
        "outputId": "eedf5eb7-d803-452e-83b5-8df3172824d3"
      },
      "source": [
        "#학습\n",
        "hist = modelc.fit(x_train3,y_train2,batch_size= batch_size, epochs=epochs)"
      ],
      "execution_count": null,
      "outputs": [
        {
          "output_type": "stream",
          "text": [
            "Epoch 1/10\n",
            "469/469 [==============================] - 8s 8ms/step - loss: 0.4825 - accuracy: 0.8488\n",
            "Epoch 2/10\n",
            "469/469 [==============================] - 4s 8ms/step - loss: 0.0908 - accuracy: 0.9723\n",
            "Epoch 3/10\n",
            "469/469 [==============================] - 4s 8ms/step - loss: 0.0655 - accuracy: 0.9800\n",
            "Epoch 4/10\n",
            "469/469 [==============================] - 4s 8ms/step - loss: 0.0501 - accuracy: 0.9850\n",
            "Epoch 5/10\n",
            "469/469 [==============================] - 4s 8ms/step - loss: 0.0418 - accuracy: 0.9877\n",
            "Epoch 6/10\n",
            "469/469 [==============================] - 4s 8ms/step - loss: 0.0382 - accuracy: 0.9879\n",
            "Epoch 7/10\n",
            "469/469 [==============================] - 4s 8ms/step - loss: 0.0346 - accuracy: 0.9887\n",
            "Epoch 8/10\n",
            "469/469 [==============================] - 4s 8ms/step - loss: 0.0277 - accuracy: 0.9914\n",
            "Epoch 9/10\n",
            "469/469 [==============================] - 4s 8ms/step - loss: 0.0280 - accuracy: 0.9910\n",
            "Epoch 10/10\n",
            "469/469 [==============================] - 4s 8ms/step - loss: 0.0261 - accuracy: 0.9913\n"
          ],
          "name": "stdout"
        }
      ]
    },
    {
      "cell_type": "code",
      "metadata": {
        "colab": {
          "base_uri": "https://localhost:8080/"
        },
        "id": "ralEMvY0STKd",
        "outputId": "6a337f00-df7c-46ae-ec63-88a841a43f73"
      },
      "source": [
        "#평가\n",
        "score= modelc.evaluate(x_test3, y_test2)\n",
        "score"
      ],
      "execution_count": null,
      "outputs": [
        {
          "output_type": "stream",
          "text": [
            "313/313 [==============================] - 2s 3ms/step - loss: 2.3031 - accuracy: 0.0949\n"
          ],
          "name": "stdout"
        },
        {
          "output_type": "execute_result",
          "data": {
            "text/plain": [
              "[2.3014872074127197, 0.09830000251531601]"
            ]
          },
          "metadata": {
            "tags": []
          },
          "execution_count": 61
        }
      ]
    },
    {
      "cell_type": "code",
      "metadata": {
        "colab": {
          "base_uri": "https://localhost:8080/"
        },
        "id": "scgo06k4Sibk",
        "outputId": "0fb2ffe1-e8dd-4d20-f2b3-c0f4b142c9b2"
      },
      "source": [
        "score[0] #loss"
      ],
      "execution_count": null,
      "outputs": [
        {
          "output_type": "execute_result",
          "data": {
            "text/plain": [
              "2.3014872074127197"
            ]
          },
          "metadata": {
            "tags": []
          },
          "execution_count": 62
        }
      ]
    },
    {
      "cell_type": "code",
      "metadata": {
        "colab": {
          "base_uri": "https://localhost:8080/"
        },
        "id": "tgfymLErSmZV",
        "outputId": "ffaf5511-6727-4b50-c27a-0c5d35a7bffa"
      },
      "source": [
        "score[1]  #accuracy"
      ],
      "execution_count": null,
      "outputs": [
        {
          "output_type": "execute_result",
          "data": {
            "text/plain": [
              "0.09830000251531601"
            ]
          },
          "metadata": {
            "tags": []
          },
          "execution_count": 63
        }
      ]
    },
    {
      "cell_type": "code",
      "metadata": {
        "colab": {
          "base_uri": "https://localhost:8080/"
        },
        "id": "P9ageYRiTfc6",
        "outputId": "89635be5-cc02-4fe1-c877-519cc94c1ae3"
      },
      "source": [
        "hist.history['loss']"
      ],
      "execution_count": null,
      "outputs": [
        {
          "output_type": "execute_result",
          "data": {
            "text/plain": [
              "[0.2382890284061432,\n",
              " 0.08653831481933594,\n",
              " 0.06438110768795013,\n",
              " 0.051447223871946335,\n",
              " 0.04227501153945923,\n",
              " 0.038305118680000305,\n",
              " 0.033437877893447876,\n",
              " 0.02970747835934162,\n",
              " 0.02711956948041916,\n",
              " 0.025037730112671852]"
            ]
          },
          "metadata": {
            "tags": []
          },
          "execution_count": 64
        }
      ]
    },
    {
      "cell_type": "code",
      "metadata": {
        "colab": {
          "base_uri": "https://localhost:8080/"
        },
        "id": "QBNQiA2zTH7x",
        "outputId": "21633cad-40e6-45ed-e596-52bd6c237de3"
      },
      "source": [
        "hist.history['accuracy']"
      ],
      "execution_count": null,
      "outputs": [
        {
          "output_type": "execute_result",
          "data": {
            "text/plain": [
              "[0.9279999732971191,\n",
              " 0.9737499952316284,\n",
              " 0.9807000160217285,\n",
              " 0.9843500256538391,\n",
              " 0.987500011920929,\n",
              " 0.987500011920929,\n",
              " 0.9893666505813599,\n",
              " 0.9906666874885559,\n",
              " 0.991266667842865,\n",
              " 0.9916166663169861]"
            ]
          },
          "metadata": {
            "tags": []
          },
          "execution_count": 65
        }
      ]
    },
    {
      "cell_type": "code",
      "metadata": {
        "colab": {
          "base_uri": "https://localhost:8080/",
          "height": 333
        },
        "id": "HwjejTsWTocQ",
        "outputId": "194f7ebe-467b-4a51-f852-759ff5ae72c0"
      },
      "source": [
        "fig,loss_ax= plt.subplots(figsize=(10,5))\n",
        "acc_ax = loss_ax.twinx()\n",
        "\n",
        "loss_ax.plot(hist.history['loss'],'y',label='train loss')\n",
        "loss_ax.set_xlabel('epoch')\n",
        "loss_ax.set_ylabel('loss')\n",
        "acc_ax.plot(hist.history['accuracy'],'b', label='train acc')\n",
        "acc_ax.set_ylabel('accuracy')\n",
        "\n",
        "loss_ax.legend(loc='upper left')\n",
        "acc_ax.legend(loc='lower left')\n",
        "\n",
        "plt.show()"
      ],
      "execution_count": null,
      "outputs": [
        {
          "output_type": "display_data",
          "data": {
            "image/png": "[encoded data removed]",
            "text/plain": [
              "<Figure size 720x360 with 2 Axes>"
            ]
          },
          "metadata": {
            "tags": [],
            "needs_background": "light"
          }
        }
      ]
    },
    {
      "cell_type": "markdown",
      "metadata": {
        "id": "5VaTeqvYVmlT"
      },
      "source": [
        "#Fashion mnist CNN"
      ]
    },
    {
      "cell_type": "code",
      "metadata": {
        "id": "Z03Ytg0eVp0z"
      },
      "source": [
        "#모듈 임포트\n",
        "import tensorflow as tf\n",
        "from tensorflow import keras\n",
        "import numpy as np\n",
        "import matplotlib.pyplot as plt"
      ],
      "execution_count": null,
      "outputs": []
    },
    {
      "cell_type": "code",
      "metadata": {
        "colab": {
          "base_uri": "https://localhost:8080/"
        },
        "id": "iR5VFnNuWUFD",
        "outputId": "7a171e8a-0565-4225-f806-059b4ead80e9"
      },
      "source": [
        "#Fashion 데이터 로딩\n",
        "fdata = keras.datasets.fashion_mnist.load_data()\n",
        "fdata"
      ],
      "execution_count": null,
      "outputs": [
        {
          "output_type": "execute_result",
          "data": {
            "text/plain": [
              "((array([[[0, 0, 0, ..., 0, 0, 0],\n",
              "          [0, 0, 0, ..., 0, 0, 0],\n",
              "          [0, 0, 0, ..., 0, 0, 0],\n",
              "          ...,\n",
              "          [0, 0, 0, ..., 0, 0, 0],\n",
              "          [0, 0, 0, ..., 0, 0, 0],\n",
              "          [0, 0, 0, ..., 0, 0, 0]],\n",
              "  \n",
              "         [[0, 0, 0, ..., 0, 0, 0],\n",
              "          [0, 0, 0, ..., 0, 0, 0],\n",
              "          [0, 0, 0, ..., 0, 0, 0],\n",
              "          ...,\n",
              "          [0, 0, 0, ..., 0, 0, 0],\n",
              "          [0, 0, 0, ..., 0, 0, 0],\n",
              "          [0, 0, 0, ..., 0, 0, 0]],\n",
              "  \n",
              "         [[0, 0, 0, ..., 0, 0, 0],\n",
              "          [0, 0, 0, ..., 0, 0, 0],\n",
              "          [0, 0, 0, ..., 0, 0, 0],\n",
              "          ...,\n",
              "          [0, 0, 0, ..., 0, 0, 0],\n",
              "          [0, 0, 0, ..., 0, 0, 0],\n",
              "          [0, 0, 0, ..., 0, 0, 0]],\n",
              "  \n",
              "         ...,\n",
              "  \n",
              "         [[0, 0, 0, ..., 0, 0, 0],\n",
              "          [0, 0, 0, ..., 0, 0, 0],\n",
              "          [0, 0, 0, ..., 0, 0, 0],\n",
              "          ...,\n",
              "          [0, 0, 0, ..., 0, 0, 0],\n",
              "          [0, 0, 0, ..., 0, 0, 0],\n",
              "          [0, 0, 0, ..., 0, 0, 0]],\n",
              "  \n",
              "         [[0, 0, 0, ..., 0, 0, 0],\n",
              "          [0, 0, 0, ..., 0, 0, 0],\n",
              "          [0, 0, 0, ..., 0, 0, 0],\n",
              "          ...,\n",
              "          [0, 0, 0, ..., 0, 0, 0],\n",
              "          [0, 0, 0, ..., 0, 0, 0],\n",
              "          [0, 0, 0, ..., 0, 0, 0]],\n",
              "  \n",
              "         [[0, 0, 0, ..., 0, 0, 0],\n",
              "          [0, 0, 0, ..., 0, 0, 0],\n",
              "          [0, 0, 0, ..., 0, 0, 0],\n",
              "          ...,\n",
              "          [0, 0, 0, ..., 0, 0, 0],\n",
              "          [0, 0, 0, ..., 0, 0, 0],\n",
              "          [0, 0, 0, ..., 0, 0, 0]]], dtype=uint8),\n",
              "  array([9, 0, 0, ..., 3, 0, 5], dtype=uint8)),\n",
              " (array([[[0, 0, 0, ..., 0, 0, 0],\n",
              "          [0, 0, 0, ..., 0, 0, 0],\n",
              "          [0, 0, 0, ..., 0, 0, 0],\n",
              "          ...,\n",
              "          [0, 0, 0, ..., 0, 0, 0],\n",
              "          [0, 0, 0, ..., 0, 0, 0],\n",
              "          [0, 0, 0, ..., 0, 0, 0]],\n",
              "  \n",
              "         [[0, 0, 0, ..., 0, 0, 0],\n",
              "          [0, 0, 0, ..., 0, 0, 0],\n",
              "          [0, 0, 0, ..., 0, 0, 0],\n",
              "          ...,\n",
              "          [0, 0, 0, ..., 0, 0, 0],\n",
              "          [0, 0, 0, ..., 0, 0, 0],\n",
              "          [0, 0, 0, ..., 0, 0, 0]],\n",
              "  \n",
              "         [[0, 0, 0, ..., 0, 0, 0],\n",
              "          [0, 0, 0, ..., 0, 0, 0],\n",
              "          [0, 0, 0, ..., 0, 0, 0],\n",
              "          ...,\n",
              "          [0, 0, 0, ..., 0, 0, 0],\n",
              "          [0, 0, 0, ..., 0, 0, 0],\n",
              "          [0, 0, 0, ..., 0, 0, 0]],\n",
              "  \n",
              "         ...,\n",
              "  \n",
              "         [[0, 0, 0, ..., 0, 0, 0],\n",
              "          [0, 0, 0, ..., 0, 0, 0],\n",
              "          [0, 0, 0, ..., 0, 0, 0],\n",
              "          ...,\n",
              "          [0, 0, 0, ..., 0, 0, 0],\n",
              "          [0, 0, 0, ..., 0, 0, 0],\n",
              "          [0, 0, 0, ..., 0, 0, 0]],\n",
              "  \n",
              "         [[0, 0, 0, ..., 0, 0, 0],\n",
              "          [0, 0, 0, ..., 0, 0, 0],\n",
              "          [0, 0, 0, ..., 0, 0, 0],\n",
              "          ...,\n",
              "          [0, 0, 0, ..., 0, 0, 0],\n",
              "          [0, 0, 0, ..., 0, 0, 0],\n",
              "          [0, 0, 0, ..., 0, 0, 0]],\n",
              "  \n",
              "         [[0, 0, 0, ..., 0, 0, 0],\n",
              "          [0, 0, 0, ..., 0, 0, 0],\n",
              "          [0, 0, 0, ..., 0, 0, 0],\n",
              "          ...,\n",
              "          [0, 0, 0, ..., 0, 0, 0],\n",
              "          [0, 0, 0, ..., 0, 0, 0],\n",
              "          [0, 0, 0, ..., 0, 0, 0]]], dtype=uint8),\n",
              "  array([9, 2, 1, ..., 8, 1, 5], dtype=uint8)))"
            ]
          },
          "metadata": {
            "tags": []
          },
          "execution_count": 68
        }
      ]
    },
    {
      "cell_type": "code",
      "metadata": {
        "colab": {
          "base_uri": "https://localhost:8080/"
        },
        "id": "FdULYsleWntY",
        "outputId": "7107fdf7-13c2-4e4f-eaa1-d08d558a73c2"
      },
      "source": [
        "#Fashion 데이터를 학습 데이터와 테스트 데이터로 분리\n",
        "train_data, test_data = fdata\n",
        "train_data"
      ],
      "execution_count": null,
      "outputs": [
        {
          "output_type": "execute_result",
          "data": {
            "text/plain": [
              "(array([[[0, 0, 0, ..., 0, 0, 0],\n",
              "         [0, 0, 0, ..., 0, 0, 0],\n",
              "         [0, 0, 0, ..., 0, 0, 0],\n",
              "         ...,\n",
              "         [0, 0, 0, ..., 0, 0, 0],\n",
              "         [0, 0, 0, ..., 0, 0, 0],\n",
              "         [0, 0, 0, ..., 0, 0, 0]],\n",
              " \n",
              "        [[0, 0, 0, ..., 0, 0, 0],\n",
              "         [0, 0, 0, ..., 0, 0, 0],\n",
              "         [0, 0, 0, ..., 0, 0, 0],\n",
              "         ...,\n",
              "         [0, 0, 0, ..., 0, 0, 0],\n",
              "         [0, 0, 0, ..., 0, 0, 0],\n",
              "         [0, 0, 0, ..., 0, 0, 0]],\n",
              " \n",
              "        [[0, 0, 0, ..., 0, 0, 0],\n",
              "         [0, 0, 0, ..., 0, 0, 0],\n",
              "         [0, 0, 0, ..., 0, 0, 0],\n",
              "         ...,\n",
              "         [0, 0, 0, ..., 0, 0, 0],\n",
              "         [0, 0, 0, ..., 0, 0, 0],\n",
              "         [0, 0, 0, ..., 0, 0, 0]],\n",
              " \n",
              "        ...,\n",
              " \n",
              "        [[0, 0, 0, ..., 0, 0, 0],\n",
              "         [0, 0, 0, ..., 0, 0, 0],\n",
              "         [0, 0, 0, ..., 0, 0, 0],\n",
              "         ...,\n",
              "         [0, 0, 0, ..., 0, 0, 0],\n",
              "         [0, 0, 0, ..., 0, 0, 0],\n",
              "         [0, 0, 0, ..., 0, 0, 0]],\n",
              " \n",
              "        [[0, 0, 0, ..., 0, 0, 0],\n",
              "         [0, 0, 0, ..., 0, 0, 0],\n",
              "         [0, 0, 0, ..., 0, 0, 0],\n",
              "         ...,\n",
              "         [0, 0, 0, ..., 0, 0, 0],\n",
              "         [0, 0, 0, ..., 0, 0, 0],\n",
              "         [0, 0, 0, ..., 0, 0, 0]],\n",
              " \n",
              "        [[0, 0, 0, ..., 0, 0, 0],\n",
              "         [0, 0, 0, ..., 0, 0, 0],\n",
              "         [0, 0, 0, ..., 0, 0, 0],\n",
              "         ...,\n",
              "         [0, 0, 0, ..., 0, 0, 0],\n",
              "         [0, 0, 0, ..., 0, 0, 0],\n",
              "         [0, 0, 0, ..., 0, 0, 0]]], dtype=uint8),\n",
              " array([9, 0, 0, ..., 3, 0, 5], dtype=uint8))"
            ]
          },
          "metadata": {
            "tags": []
          },
          "execution_count": 69
        }
      ]
    },
    {
      "cell_type": "code",
      "metadata": {
        "colab": {
          "base_uri": "https://localhost:8080/"
        },
        "id": "z0W1pTe6W4kH",
        "outputId": "bbaa22c6-7ed9-4459-d16c-cac86151c574"
      },
      "source": [
        "#학습 데이터를 독립변수와 종속 변수로 분리\n",
        "fx_train,fy_train = train_data\n",
        "fx_train.shape, fy_train.shape"
      ],
      "execution_count": null,
      "outputs": [
        {
          "output_type": "execute_result",
          "data": {
            "text/plain": [
              "((60000, 28, 28), (60000,))"
            ]
          },
          "metadata": {
            "tags": []
          },
          "execution_count": 71
        }
      ]
    },
    {
      "cell_type": "code",
      "metadata": {
        "colab": {
          "base_uri": "https://localhost:8080/"
        },
        "id": "kvoaDPQXXN5w",
        "outputId": "dbdae13f-baf2-4131-8b7f-ecb3a6e43508"
      },
      "source": [
        "#테스트 데이터를 독립 변수와 종속 변수로 분리\n",
        "fx_test, fy_test = test_data\n",
        "fx_test.shape, fy_test.shape"
      ],
      "execution_count": null,
      "outputs": [
        {
          "output_type": "execute_result",
          "data": {
            "text/plain": [
              "((10000, 28, 28), (10000,))"
            ]
          },
          "metadata": {
            "tags": []
          },
          "execution_count": 73
        }
      ]
    },
    {
      "cell_type": "code",
      "metadata": {
        "colab": {
          "base_uri": "https://localhost:8080/",
          "height": 1000
        },
        "id": "uqdxk6TPXZS8",
        "outputId": "a45555ef-60c7-451f-8e06-406c86320b9d"
      },
      "source": [
        "#학습 데이터의 독립 변수 10개\n",
        "for index in range(10):\n",
        "  print(index)\n",
        "  plt.figure(figsize=(5,5))\n",
        "  plt.imshow(fx_train[index])\n",
        "  plt.show()"
      ],
      "execution_count": null,
      "outputs": [
        {
          "output_type": "stream",
          "text": [
            "0\n"
          ],
          "name": "stdout"
        },
        {
          "output_type": "display_data",
          "data": {
            "image/png": "[encoded data removed]",
            "text/plain": [
              "<Figure size 360x360 with 1 Axes>"
            ]
          },
          "metadata": {
            "tags": [],
            "needs_background": "light"
          }
        },
        {
          "output_type": "stream",
          "text": [
            "1\n"
          ],
          "name": "stdout"
        },
        {
          "output_type": "display_data",
          "data": {
            "image/png": "[encoded data removed]",
            "text/plain": [
              "<Figure size 360x360 with 1 Axes>"
            ]
          },
          "metadata": {
            "tags": [],
            "needs_background": "light"
          }
        },
        {
          "output_type": "stream",
          "text": [
            "2\n"
          ],
          "name": "stdout"
        },
        {
          "output_type": "display_data",
          "data": {
            "image/png": "[encoded data removed]",
            "text/plain": [
              "<Figure size 360x360 with 1 Axes>"
            ]
          },
          "metadata": {
            "tags": [],
            "needs_background": "light"
          }
        },
        {
          "output_type": "stream",
          "text": [
            "3\n"
          ],
          "name": "stdout"
        },
        {
          "output_type": "display_data",
          "data": {
            "image/png": "[encoded data removed]",
            "text/plain": [
              "<Figure size 360x360 with 1 Axes>"
            ]
          },
          "metadata": {
            "tags": [],
            "needs_background": "light"
          }
        },
        {
          "output_type": "stream",
          "text": [
            "4\n"
          ],
          "name": "stdout"
        },
        {
          "output_type": "display_data",
          "data": {
            "image/png": "[encoded data removed]",
            "text/plain": [
              "<Figure size 360x360 with 1 Axes>"
            ]
          },
          "metadata": {
            "tags": [],
            "needs_background": "light"
          }
        },
        {
          "output_type": "stream",
          "text": [
            "5\n"
          ],
          "name": "stdout"
        },
        {
          "output_type": "display_data",
          "data": {
            "image/png": "[encoded data removed]",
            "text/plain": [
              "<Figure size 360x360 with 1 Axes>"
            ]
          },
          "metadata": {
            "tags": [],
            "needs_background": "light"
          }
        },
        {
          "output_type": "stream",
          "text": [
            "6\n"
          ],
          "name": "stdout"
        },
        {
          "output_type": "display_data",
          "data": {
            "image/png": "[encoded data removed]",
            "text/plain": [
              "<Figure size 360x360 with 1 Axes>"
            ]
          },
          "metadata": {
            "tags": [],
            "needs_background": "light"
          }
        },
        {
          "output_type": "stream",
          "text": [
            "7\n"
          ],
          "name": "stdout"
        },
        {
          "output_type": "display_data",
          "data": {
            "image/png": "[encoded data removed]",
            "text/plain": [
              "<Figure size 360x360 with 1 Axes>"
            ]
          },
          "metadata": {
            "tags": [],
            "needs_background": "light"
          }
        },
        {
          "output_type": "stream",
          "text": [
            "8\n"
          ],
          "name": "stdout"
        },
        {
          "output_type": "display_data",
          "data": {
            "image/png": "[encoded data removed]",
            "text/plain": [
              "<Figure size 360x360 with 1 Axes>"
            ]
          },
          "metadata": {
            "tags": [],
            "needs_background": "light"
          }
        },
        {
          "output_type": "stream",
          "text": [
            "9\n"
          ],
          "name": "stdout"
        },
        {
          "output_type": "display_data",
          "data": {
            "image/png": "[encoded data removed]",
            "text/plain": [
              "<Figure size 360x360 with 1 Axes>"
            ]
          },
          "metadata": {
            "tags": [],
            "needs_background": "light"
          }
        }
      ]
    },
    {
      "cell_type": "code",
      "metadata": {
        "colab": {
          "base_uri": "https://localhost:8080/",
          "height": 323
        },
        "id": "cSB2fBc3YAd-",
        "outputId": "c13ef6f4-c994-4c02-abad-b7d1651f6981"
      },
      "source": [
        "#학습 데이터의 독립 변수 100개를 도면에 표시\n",
        "plt.figure(figsize=(5,5))\n",
        "for index in range(100):\n",
        "  plt.subplot(10,10,index+1)\n",
        "  plt.imshow(fx_train[index])\n",
        "plt.show()"
      ],
      "execution_count": null,
      "outputs": [
        {
          "output_type": "display_data",
          "data": {
            "image/png": "[encoded data removed]",
            "text/plain": [
              "<Figure size 360x360 with 100 Axes>"
            ]
          },
          "metadata": {
            "tags": [],
            "needs_background": "light"
          }
        }
      ]
    },
    {
      "cell_type": "code",
      "metadata": {
        "colab": {
          "base_uri": "https://localhost:8080/"
        },
        "id": "QQC8w63oY8LZ",
        "outputId": "ee82f3c6-d693-472c-f55b-9bd688698482"
      },
      "source": [
        "#Fashion MNist의 클래스\n",
        "class_name = ['T-shirt','Trouser', 'Pullover', 'Dress', 'Coat', \"Sandal\",\"Shirt\",\"Sneaker\",\"Bag\", \"Ankle boot\"]\n",
        "fy_test"
      ],
      "execution_count": null,
      "outputs": [
        {
          "output_type": "execute_result",
          "data": {
            "text/plain": [
              "array([9, 2, 1, ..., 8, 1, 5], dtype=uint8)"
            ]
          },
          "metadata": {
            "tags": []
          },
          "execution_count": 76
        }
      ]
    },
    {
      "cell_type": "code",
      "metadata": {
        "colab": {
          "base_uri": "https://localhost:8080/"
        },
        "id": "HAj1yhBYfw3O",
        "outputId": "d6ce6c8c-25e8-433d-a385-b744cb479065"
      },
      "source": [
        "fy_train[0], y_train[0], y_train2[0]"
      ],
      "execution_count": null,
      "outputs": [
        {
          "output_type": "execute_result",
          "data": {
            "text/plain": [
              "(9, 5, array([0., 0., 0., 0., 0., 1., 0., 0., 0., 0.], dtype=float32))"
            ]
          },
          "metadata": {
            "tags": []
          },
          "execution_count": 77
        }
      ]
    },
    {
      "cell_type": "markdown",
      "metadata": {
        "id": "2k0MF5nJZgiv"
      },
      "source": [
        "DNN"
      ]
    },
    {
      "cell_type": "code",
      "metadata": {
        "id": "7-dnD3_-ZiQf"
      },
      "source": [
        "model=keras.Sequential(\n",
        "    [\n",
        "     keras.layers.Flatten(input_shape=(28,28)),\n",
        "     keras.layers.Dense(128,activation='relu'),\n",
        "     keras.layers.Dense(28,activation='relu'),\n",
        "     keras.layers.Dense(10,activation='softmax')\n",
        "    ]\n",
        ")"
      ],
      "execution_count": null,
      "outputs": []
    },
    {
      "cell_type": "code",
      "metadata": {
        "id": "eb2Sw4U4ahx7"
      },
      "source": [
        "#모델을 학습할 수 있게 컴파일\n",
        "#model.compile(optimizer='adam',loss='categorical_crossentropy', metrics=['accuracy'])\n",
        "#분류로 해결할 문제를 회귀로 해결하기 위해 y값을 categorical한 데이터로 변형하여 학습해야함\n",
        "model.compile(optimizer='adam',loss='sparse_categorical_crossentropy', metrics=['accuracy'])\n",
        "#분류로 해결할 문제를 회귀로 해결하기 위해 y값을 categorical한 데이터로 변형하지 않고 학습할 수 있음\n"
      ],
      "execution_count": null,
      "outputs": []
    },
    {
      "cell_type": "code",
      "metadata": {
        "colab": {
          "base_uri": "https://localhost:8080/"
        },
        "id": "IUoAbohVb5y4",
        "outputId": "2d394f0e-c0fe-462f-a528-50683e819056"
      },
      "source": [
        "#학습\n",
        "model.fit(fx_train, fy_train, epochs=10)"
      ],
      "execution_count": null,
      "outputs": [
        {
          "output_type": "stream",
          "text": [
            "Epoch 1/10\n",
            "1875/1875 [==============================] - 4s 2ms/step - loss: 1.9121 - accuracy: 0.5097\n",
            "Epoch 2/10\n",
            "1875/1875 [==============================] - 4s 2ms/step - loss: 1.0422 - accuracy: 0.5820\n",
            "Epoch 3/10\n",
            "1875/1875 [==============================] - 4s 2ms/step - loss: 0.8219 - accuracy: 0.6734\n",
            "Epoch 4/10\n",
            "1875/1875 [==============================] - 4s 2ms/step - loss: 0.6957 - accuracy: 0.7204\n",
            "Epoch 5/10\n",
            "1875/1875 [==============================] - 4s 2ms/step - loss: 0.6301 - accuracy: 0.7378\n",
            "Epoch 6/10\n",
            "1875/1875 [==============================] - 4s 2ms/step - loss: 0.5823 - accuracy: 0.7620\n",
            "Epoch 7/10\n",
            "1875/1875 [==============================] - 4s 2ms/step - loss: 0.5131 - accuracy: 0.8092\n",
            "Epoch 8/10\n",
            "1875/1875 [==============================] - 4s 2ms/step - loss: 0.4756 - accuracy: 0.8307\n",
            "Epoch 9/10\n",
            "1875/1875 [==============================] - 4s 2ms/step - loss: 0.4426 - accuracy: 0.8498\n",
            "Epoch 10/10\n",
            "1875/1875 [==============================] - 4s 2ms/step - loss: 0.4199 - accuracy: 0.8562\n"
          ],
          "name": "stdout"
        },
        {
          "output_type": "execute_result",
          "data": {
            "text/plain": [
              "<tensorflow.python.keras.callbacks.History at 0x7fd546df7350>"
            ]
          },
          "metadata": {
            "tags": []
          },
          "execution_count": 81
        }
      ]
    },
    {
      "cell_type": "code",
      "metadata": {
        "colab": {
          "base_uri": "https://localhost:8080/"
        },
        "id": "yLKLdXg4jA6e",
        "outputId": "4d3b359a-36b7-47ff-c910-dcd40f733c9b"
      },
      "source": [
        "score=model.evaluate(fx_test,fy_test)\n",
        "score"
      ],
      "execution_count": null,
      "outputs": [
        {
          "output_type": "stream",
          "text": [
            "313/313 [==============================] - 1s 2ms/step - loss: 0.4676 - accuracy: 0.8503\n"
          ],
          "name": "stdout"
        },
        {
          "output_type": "execute_result",
          "data": {
            "text/plain": [
              "[0.46759024262428284, 0.8503000140190125]"
            ]
          },
          "metadata": {
            "tags": []
          },
          "execution_count": 82
        }
      ]
    },
    {
      "cell_type": "markdown",
      "metadata": {
        "id": "dqFxghNziknG"
      },
      "source": [
        "CNN\n"
      ]
    },
    {
      "cell_type": "code",
      "metadata": {
        "id": "fWMqqB83jWmT"
      },
      "source": [
        "#모델 임포트\n",
        "import tensorflow as tf\n",
        "import numpy as np\n",
        "import matplotlib.pyplot as plt"
      ],
      "execution_count": null,
      "outputs": []
    },
    {
      "cell_type": "code",
      "metadata": {
        "id": "_pPHbCV8jgbb"
      },
      "source": [
        "cfdata = keras.datasets.fashion_mnist.load_data()"
      ],
      "execution_count": null,
      "outputs": []
    },
    {
      "cell_type": "code",
      "metadata": {
        "id": "0NCNnV0ajr6n"
      },
      "source": [
        "(cf_xtrain, cf_ytrain),(cf_xtest, cf_ytest)= cfdata"
      ],
      "execution_count": null,
      "outputs": []
    },
    {
      "cell_type": "code",
      "metadata": {
        "colab": {
          "base_uri": "https://localhost:8080/"
        },
        "id": "lP-54zaxj306",
        "outputId": "126d2640-388e-490b-c331-e396793c40de"
      },
      "source": [
        "cf_xtrain = cf_xtrain/255\n",
        "cf_xtest = cf_xtest/255.0\n",
        "cf_xtrain.shape, cf_xtest.shape"
      ],
      "execution_count": null,
      "outputs": [
        {
          "output_type": "execute_result",
          "data": {
            "text/plain": [
              "((60000, 28, 28), (10000, 28, 28))"
            ]
          },
          "metadata": {
            "tags": []
          },
          "execution_count": 88
        }
      ]
    },
    {
      "cell_type": "code",
      "metadata": {
        "colab": {
          "base_uri": "https://localhost:8080/"
        },
        "id": "O0560OZLkS3C",
        "outputId": "c6be097d-7c39-401f-d2e4-875b02d66eb3"
      },
      "source": [
        "cf_xtrain = cf_xtrain.reshape(-1,28,28,1)\n",
        "cf_xtest = cf_xtest.reshape(-1,28,28,1)\n",
        "cf_xtrain.shape, cf_xtest.shape"
      ],
      "execution_count": null,
      "outputs": [
        {
          "output_type": "execute_result",
          "data": {
            "text/plain": [
              "((60000, 28, 28, 1), (10000, 28, 28, 1))"
            ]
          },
          "metadata": {
            "tags": []
          },
          "execution_count": 89
        }
      ]
    },
    {
      "cell_type": "code",
      "metadata": {
        "colab": {
          "base_uri": "https://localhost:8080/"
        },
        "id": "4qcl7JjTk-8-",
        "outputId": "59a11342-ca11-4ad4-f9b5-c8881002d45c"
      },
      "source": [
        "cf_ytrain = keras.utils.to_categorical(cf_ytrain, num_classes=10)\n",
        "cf_ytest = keras.utils.to_categorical(cf_ytest, num_classes=10)\n",
        "cf_ytrain[0]"
      ],
      "execution_count": null,
      "outputs": [
        {
          "output_type": "execute_result",
          "data": {
            "text/plain": [
              "array([0., 0., 0., 0., 0., 0., 0., 0., 0., 1.], dtype=float32)"
            ]
          },
          "metadata": {
            "tags": []
          },
          "execution_count": 90
        }
      ]
    },
    {
      "cell_type": "code",
      "metadata": {
        "id": "qCgKaygylWT2"
      },
      "source": [
        "#CNN 모델 생성 및 계층 싸히\n",
        "#1. 모델 생성\n",
        "modelcf=keras.Sequential()\n",
        "#2. CNN\n",
        "#modelcf.add(keras.layers.Conv2D(filters=16,kernel_size=(3,3),input_shape=(28,28,1),activation=\"relu\"))\n",
        "#modelcf.add(keras.layers.MaxPooling2D(pool_size=(2,2)))\n",
        "\n",
        "#modelcf.add(keras.layers.Conv2D(filters=32,kernel_size=(3,3),activation=\"relu\"))\n",
        "#modelcf.add(keras.layers.MaxPooling2D(pool_size=(2,2)))\n",
        "\n",
        "#modelcf.add(keras.layers.Conv2D(filters=64,kernel_size=(3,3),activation=\"relu\"))\n",
        "#modelcf.add(keras.layers.MaxPooling2D(pool_size=(2,2)))\n",
        "#modelcf.add(keras.layers.Flatten())\n",
        "modelcf.add(keras.layers.Conv2D(10,(3,3),activation='relu',padding='same',input_shape=(28,28,1)))\n",
        "modelcf.add(keras.layers.MaxPooling2D(2,2))\n",
        "modelcf.add(keras.layers.Flatten())\n",
        "modelcf.add(keras.layers.Dense(100,activation='relu'))\n",
        "modelcf.add(keras.layers.Dense(10,activation='softmax'))\n",
        "#3. 계층 쌓기\n",
        "#modelcf.add(keras.layers.Dense(100,activation='relu'))\n",
        "#modelcf.add(keras.layers.Dense(28,activation='relu'))\n"
      ],
      "execution_count": null,
      "outputs": []
    },
    {
      "cell_type": "code",
      "metadata": {
        "id": "PA-K5AQ1oU0e"
      },
      "source": [
        "modelcf.compile(loss= 'categorical_crossentropy', optimizer='adam', metrics=['accuracy'])"
      ],
      "execution_count": null,
      "outputs": []
    },
    {
      "cell_type": "code",
      "metadata": {
        "colab": {
          "base_uri": "https://localhost:8080/"
        },
        "id": "c9NxoLtnopex",
        "outputId": "468fec9a-ef8b-4540-98ec-9dc7ec0cd4b2"
      },
      "source": [
        "#컴파일 한 모델이 어떠한 구조인지 확인해 보자\n",
        "modelcf.summary()"
      ],
      "execution_count": null,
      "outputs": [
        {
          "output_type": "stream",
          "text": [
            "Model: \"sequential_7\"\n",
            "_________________________________________________________________\n",
            "Layer (type)                 Output Shape              Param #   \n",
            "=================================================================\n",
            "conv2d_13 (Conv2D)           (None, 28, 28, 10)        100       \n",
            "_________________________________________________________________\n",
            "max_pooling2d_13 (MaxPooling (None, 14, 14, 10)        0         \n",
            "_________________________________________________________________\n",
            "flatten_7 (Flatten)          (None, 1960)              0         \n",
            "_________________________________________________________________\n",
            "dense_16 (Dense)             (None, 100)               196100    \n",
            "_________________________________________________________________\n",
            "dense_17 (Dense)             (None, 10)                1010      \n",
            "=================================================================\n",
            "Total params: 197,210\n",
            "Trainable params: 197,210\n",
            "Non-trainable params: 0\n",
            "_________________________________________________________________\n"
          ],
          "name": "stdout"
        }
      ]
    },
    {
      "cell_type": "code",
      "metadata": {
        "colab": {
          "base_uri": "https://localhost:8080/"
        },
        "id": "zEZ0AK_Ro8hh",
        "outputId": "f159eab8-7791-4c13-86fa-83a8a32989fb"
      },
      "source": [
        "#학습\n",
        "modelcf.fit(cf_xtrain,cf_ytrain, epochs=30,batch_size=128)"
      ],
      "execution_count": null,
      "outputs": [
        {
          "output_type": "stream",
          "text": [
            "Epoch 1/30\n",
            "469/469 [==============================] - 2s 3ms/step - loss: 0.2329 - accuracy: 0.9134\n",
            "Epoch 2/30\n",
            "469/469 [==============================] - 2s 4ms/step - loss: 0.2312 - accuracy: 0.9147\n",
            "Epoch 3/30\n",
            "469/469 [==============================] - 2s 4ms/step - loss: 0.2305 - accuracy: 0.9155\n",
            "Epoch 4/30\n",
            "469/469 [==============================] - 2s 4ms/step - loss: 0.2310 - accuracy: 0.9143\n",
            "Epoch 5/30\n",
            "469/469 [==============================] - 2s 3ms/step - loss: 0.2279 - accuracy: 0.9161\n",
            "Epoch 6/30\n",
            "469/469 [==============================] - 2s 3ms/step - loss: 0.2278 - accuracy: 0.9162\n",
            "Epoch 7/30\n",
            "469/469 [==============================] - 2s 3ms/step - loss: 0.2255 - accuracy: 0.9164\n",
            "Epoch 8/30\n",
            "469/469 [==============================] - 2s 3ms/step - loss: 0.2253 - accuracy: 0.9168\n",
            "Epoch 9/30\n",
            "469/469 [==============================] - 2s 3ms/step - loss: 0.2228 - accuracy: 0.9180\n",
            "Epoch 10/30\n",
            "469/469 [==============================] - 2s 4ms/step - loss: 0.2219 - accuracy: 0.9174\n",
            "Epoch 11/30\n",
            "469/469 [==============================] - 2s 3ms/step - loss: 0.2223 - accuracy: 0.9172\n",
            "Epoch 12/30\n",
            "469/469 [==============================] - 2s 3ms/step - loss: 0.2221 - accuracy: 0.9176\n",
            "Epoch 13/30\n",
            "469/469 [==============================] - 2s 3ms/step - loss: 0.2193 - accuracy: 0.9186\n",
            "Epoch 14/30\n",
            "469/469 [==============================] - 2s 4ms/step - loss: 0.2189 - accuracy: 0.9184\n",
            "Epoch 15/30\n",
            "469/469 [==============================] - 2s 3ms/step - loss: 0.2169 - accuracy: 0.9204\n",
            "Epoch 16/30\n",
            "469/469 [==============================] - 2s 3ms/step - loss: 0.2171 - accuracy: 0.9196\n",
            "Epoch 17/30\n",
            "469/469 [==============================] - 2s 3ms/step - loss: 0.2157 - accuracy: 0.9200\n",
            "Epoch 18/30\n",
            "469/469 [==============================] - 2s 3ms/step - loss: 0.2148 - accuracy: 0.9200\n",
            "Epoch 19/30\n",
            "469/469 [==============================] - 2s 3ms/step - loss: 0.2133 - accuracy: 0.9211\n",
            "Epoch 20/30\n",
            "469/469 [==============================] - 2s 4ms/step - loss: 0.2136 - accuracy: 0.9204\n",
            "Epoch 21/30\n",
            "469/469 [==============================] - 2s 3ms/step - loss: 0.2116 - accuracy: 0.9214\n",
            "Epoch 22/30\n",
            "469/469 [==============================] - 2s 3ms/step - loss: 0.2104 - accuracy: 0.9209\n",
            "Epoch 23/30\n",
            "469/469 [==============================] - 2s 3ms/step - loss: 0.2104 - accuracy: 0.9215\n",
            "Epoch 24/30\n",
            "469/469 [==============================] - 2s 3ms/step - loss: 0.2081 - accuracy: 0.9230\n",
            "Epoch 25/30\n",
            "469/469 [==============================] - 2s 3ms/step - loss: 0.2090 - accuracy: 0.9223\n",
            "Epoch 26/30\n",
            "469/469 [==============================] - 2s 3ms/step - loss: 0.2065 - accuracy: 0.9227\n",
            "Epoch 27/30\n",
            "469/469 [==============================] - 2s 4ms/step - loss: 0.2074 - accuracy: 0.9221\n",
            "Epoch 28/30\n",
            "469/469 [==============================] - 2s 3ms/step - loss: 0.2051 - accuracy: 0.9241\n",
            "Epoch 29/30\n",
            "469/469 [==============================] - 2s 3ms/step - loss: 0.2038 - accuracy: 0.9242\n",
            "Epoch 30/30\n",
            "469/469 [==============================] - 2s 3ms/step - loss: 0.2030 - accuracy: 0.9243\n"
          ],
          "name": "stdout"
        },
        {
          "output_type": "execute_result",
          "data": {
            "text/plain": [
              "<tensorflow.python.keras.callbacks.History at 0x7fd54810e990>"
            ]
          },
          "metadata": {
            "tags": []
          },
          "execution_count": 115
        }
      ]
    },
    {
      "cell_type": "code",
      "metadata": {
        "id": "t0SC12wS1Lpr"
      },
      "source": [
        "from keras import backend\n",
        "from keras.datasets import cifar10\n",
        "from keras.utils import np_utils\n",
        "from keras.models import Sequential\n",
        "from keras.layers.core import Dense, Dropout, Activation, Flatten\n",
        "from keras.layers.convolutional import Conv2D, MaxPooling2D\n",
        "from keras.optimizers import SGD, Adam, RMSprop\n",
        "import numpy as np\n",
        "import matplotlib.pyplot as plt"
      ],
      "execution_count": null,
      "outputs": []
    },
    {
      "cell_type": "code",
      "metadata": {
        "colab": {
          "base_uri": "https://localhost:8080/"
        },
        "id": "ntwUSo-E63zZ",
        "outputId": "2520b175-0b0e-4aaa-a072-24805afcfc2d"
      },
      "source": [
        "#cifar10 데이터 로딩\n",
        "(tr_x, tr_y),(te_x, te_y)= cifar10.load_data()"
      ],
      "execution_count": null,
      "outputs": [
        {
          "output_type": "stream",
          "text": [
            "Downloading data from https://www.cs.toronto.edu/~kriz/cifar-10-python.tar.gz\n",
            "170500096/170498071 [==============================] - 4s 0us/step\n",
            "170508288/170498071 [==============================] - 4s 0us/step\n"
          ],
          "name": "stdout"
        }
      ]
    },
    {
      "cell_type": "code",
      "metadata": {
        "colab": {
          "base_uri": "https://localhost:8080/"
        },
        "id": "E5PBPohu9Ixx",
        "outputId": "d6073208-9a8a-4f3e-cfbb-a6fab1e231f3"
      },
      "source": [
        "tr_x.shape, tr_y.shape"
      ],
      "execution_count": null,
      "outputs": [
        {
          "output_type": "execute_result",
          "data": {
            "text/plain": [
              "((50000, 32, 32, 3), (50000, 1))"
            ]
          },
          "metadata": {
            "tags": []
          },
          "execution_count": 3
        }
      ]
    },
    {
      "cell_type": "code",
      "metadata": {
        "colab": {
          "base_uri": "https://localhost:8080/"
        },
        "id": "4oaDsoOx9khp",
        "outputId": "ee71d20e-4617-4dd4-81fa-20bf34a04861"
      },
      "source": [
        "tr_x2 = tr_x.reshape(-1,)\n",
        "mv = max(tr_x2)\n",
        "mv"
      ],
      "execution_count": null,
      "outputs": [
        {
          "output_type": "execute_result",
          "data": {
            "text/plain": [
              "255"
            ]
          },
          "metadata": {
            "tags": []
          },
          "execution_count": 4
        }
      ]
    },
    {
      "cell_type": "code",
      "metadata": {
        "id": "r9V9_N02-ccH"
      },
      "source": [
        "tr_x = tr_x/255.0\n",
        "te_x=te_x/255.0"
      ],
      "execution_count": null,
      "outputs": []
    },
    {
      "cell_type": "code",
      "metadata": {
        "colab": {
          "base_uri": "https://localhost:8080/"
        },
        "id": "5hpMixAW-pg_",
        "outputId": "5e0d945a-8755-4d74-91e9-47055b320667"
      },
      "source": [
        "tr_y = np_utils.to_categorical(tr_y,10)\n",
        "te_y = np_utils.to_categorical(te_y,10)\n",
        "tr_y[0]"
      ],
      "execution_count": null,
      "outputs": [
        {
          "output_type": "execute_result",
          "data": {
            "text/plain": [
              "array([0., 0., 0., 0., 0., 0., 1., 0., 0., 0.], dtype=float32)"
            ]
          },
          "metadata": {
            "tags": []
          },
          "execution_count": 6
        }
      ]
    },
    {
      "cell_type": "code",
      "metadata": {
        "id": "rRTAp1mo-5hN"
      },
      "source": [
        "def CNN(in_shape):\n",
        "  model = Sequential()\n",
        "  model.add(Conv2D(32,kernel_size=(3,3),input_shape=in_shape, activation='relu'))\n",
        "  model.add(MaxPooling2D(pool_size=(2,2)))\n",
        "  model.add(Flatten())\n",
        "  model.add(Dense(512,activation='relu'))\n",
        "  model.add(Dense(10,activation='softmax'))\n",
        "  return model"
      ],
      "execution_count": null,
      "outputs": []
    },
    {
      "cell_type": "code",
      "metadata": {
        "colab": {
          "base_uri": "https://localhost:8080/"
        },
        "id": "bpZJwNliAGUW",
        "outputId": "0b3245bc-9c6b-47a6-ed46-63139580f9d9"
      },
      "source": [
        "model = CNN(in_shape=(32,32,3))\n",
        "model.compile(loss='categorical_crossentropy',optimizer='adam',metrics=['accuracy'])\n",
        "model.summary()"
      ],
      "execution_count": null,
      "outputs": [
        {
          "output_type": "stream",
          "text": [
            "Model: \"sequential_4\"\n",
            "_________________________________________________________________\n",
            "Layer (type)                 Output Shape              Param #   \n",
            "=================================================================\n",
            "conv2d_4 (Conv2D)            (None, 30, 30, 32)        896       \n",
            "_________________________________________________________________\n",
            "max_pooling2d_2 (MaxPooling2 (None, 15, 15, 32)        0         \n",
            "_________________________________________________________________\n",
            "flatten_2 (Flatten)          (None, 7200)              0         \n",
            "_________________________________________________________________\n",
            "dense_10 (Dense)             (None, 512)               3686912   \n",
            "_________________________________________________________________\n",
            "dense_11 (Dense)             (None, 10)                5130      \n",
            "=================================================================\n",
            "Total params: 3,692,938\n",
            "Trainable params: 3,692,938\n",
            "Non-trainable params: 0\n",
            "_________________________________________________________________\n"
          ],
          "name": "stdout"
        }
      ]
    },
    {
      "cell_type": "code",
      "metadata": {
        "colab": {
          "base_uri": "https://localhost:8080/"
        },
        "id": "UE7SRCg6Bw39",
        "outputId": "dcd67d1f-c54e-4524-fb13-0a49baef250c"
      },
      "source": [
        "hist = model.fit(tr_x, tr_y, batch_size=128, epochs=15)"
      ],
      "execution_count": null,
      "outputs": [
        {
          "output_type": "stream",
          "text": [
            "Epoch 1/15\n",
            "391/391 [==============================] - 2s 6ms/step - loss: 0.1031 - accuracy: 0.9738\n",
            "Epoch 2/15\n",
            "391/391 [==============================] - 2s 6ms/step - loss: 0.0854 - accuracy: 0.9798\n",
            "Epoch 3/15\n",
            "391/391 [==============================] - 2s 6ms/step - loss: 0.0765 - accuracy: 0.9813\n",
            "Epoch 4/15\n",
            "391/391 [==============================] - 2s 6ms/step - loss: 0.0676 - accuracy: 0.9825\n",
            "Epoch 5/15\n",
            "391/391 [==============================] - 2s 6ms/step - loss: 0.0690 - accuracy: 0.9815\n",
            "Epoch 6/15\n",
            "391/391 [==============================] - 2s 6ms/step - loss: 0.0616 - accuracy: 0.9829\n",
            "Epoch 7/15\n",
            "391/391 [==============================] - 2s 6ms/step - loss: 0.0586 - accuracy: 0.9838\n",
            "Epoch 8/15\n",
            "391/391 [==============================] - 2s 6ms/step - loss: 0.0335 - accuracy: 0.9926\n",
            "Epoch 9/15\n",
            "391/391 [==============================] - 2s 6ms/step - loss: 0.0339 - accuracy: 0.9917\n",
            "Epoch 10/15\n",
            "391/391 [==============================] - 2s 6ms/step - loss: 0.0409 - accuracy: 0.9888\n",
            "Epoch 11/15\n",
            "391/391 [==============================] - 2s 6ms/step - loss: 0.0650 - accuracy: 0.9792\n",
            "Epoch 12/15\n",
            "391/391 [==============================] - 2s 6ms/step - loss: 0.0564 - accuracy: 0.9824\n",
            "Epoch 13/15\n",
            "391/391 [==============================] - 2s 6ms/step - loss: 0.0239 - accuracy: 0.9945\n",
            "Epoch 14/15\n",
            "391/391 [==============================] - 2s 6ms/step - loss: 0.0101 - accuracy: 0.9985\n",
            "Epoch 15/15\n",
            "391/391 [==============================] - 2s 6ms/step - loss: 0.0062 - accuracy: 0.9993\n"
          ],
          "name": "stdout"
        }
      ]
    }
  ]
}