{
  "nbformat": 4,
  "nbformat_minor": 0,
  "metadata": {
    "colab": {
      "name": "파이썬 딥러닝 2일차.ipynb",
      "provenance": [],
      "collapsed_sections": [],
      "authorship_tag": "ABX9TyPxzwT7lzQmB9OyNaoB56ek",
      "include_colab_link": true
    },
    "kernelspec": {
      "name": "python3",
      "display_name": "Python 3"
    },
    "language_info": {
      "name": "python"
    }
  },
  "cells": [
    {
      "cell_type": "markdown",
      "metadata": {
        "id": "view-in-github",
        "colab_type": "text"
      },
      "source": [
        "<a href=\"https://colab.research.google.com/github/ahnjongin/deeplearning/blob/main/%ED%8C%8C%EC%9D%B4%EC%8D%AC_%EB%94%A5%EB%9F%AC%EB%8B%9D_2%EC%9D%BC%EC%B0%A8.ipynb\" target=\"_parent\"><img src=\"https://colab.research.google.com/assets/colab-badge.svg\" alt=\"Open In Colab\"/></a>"
      ]
    },
    {
      "cell_type": "markdown",
      "metadata": {
        "id": "q7K6PhUPWN0P"
      },
      "source": [
        "선형회귀"
      ]
    },
    {
      "cell_type": "code",
      "metadata": {
        "colab": {
          "base_uri": "https://localhost:8080/"
        },
        "id": "ZX4R8VxqWPJJ",
        "outputId": "882967c5-2455-4d50-9b1d-5f7814f80a69"
      },
      "source": [
        "x=[1,2,3,4,5,6]\n",
        "y=[2,3,4,5,6,7]\n",
        "x,y"
      ],
      "execution_count": 1,
      "outputs": [
        {
          "output_type": "execute_result",
          "data": {
            "text/plain": [
              "([1, 2, 3, 4, 5, 6], [2, 3, 4, 5, 6, 7])"
            ]
          },
          "metadata": {
            "tags": []
          },
          "execution_count": 1
        }
      ]
    },
    {
      "cell_type": "code",
      "metadata": {
        "id": "2BhoEqL8XBdj"
      },
      "source": [
        "import numpy as np\n",
        "import matplotlib.pyplot as plt"
      ],
      "execution_count": 2,
      "outputs": []
    },
    {
      "cell_type": "code",
      "metadata": {
        "colab": {
          "base_uri": "https://localhost:8080/",
          "height": 374
        },
        "id": "LO7tNtCjXXes",
        "outputId": "eaaf77ce-2054-4e03-fc24-25540e675acf"
      },
      "source": [
        "def Show(xs,ys):\n",
        "  plt.figure(figsize=(8,6))\n",
        "  plt.scatter(xs,ys)\n",
        "  plt.plot(xs,ys)\n",
        "  st=min(min(xs),min(ys))\n",
        "  en=max(max(xs),max(ys))\n",
        "  #plt.xlim(min(xs),max(ys))\n",
        "  #plt.ylim(min(ys),max(ys))\n",
        "Show(x,y)"
      ],
      "execution_count": 3,
      "outputs": [
        {
          "output_type": "display_data",
          "data": {
            "image/png": "[encoded data removed]",
            "text/plain": [
              "<Figure size 576x432 with 1 Axes>"
            ]
          },
          "metadata": {
            "tags": [],
            "needs_background": "light"
          }
        }
      ]
    },
    {
      "cell_type": "code",
      "metadata": {
        "colab": {
          "base_uri": "https://localhost:8080/"
        },
        "id": "3vYBzefAayAs",
        "outputId": "ca119eff-f681-4ba6-8416-d4eeccc5d3be"
      },
      "source": [
        "import numpy as np\n",
        "import matplotlib.pyplot as plt\n",
        "data=list(range(1,10))\n",
        "data"
      ],
      "execution_count": 4,
      "outputs": [
        {
          "output_type": "execute_result",
          "data": {
            "text/plain": [
              "[1, 2, 3, 4, 5, 6, 7, 8, 9]"
            ]
          },
          "metadata": {
            "tags": []
          },
          "execution_count": 4
        }
      ]
    },
    {
      "cell_type": "code",
      "metadata": {
        "colab": {
          "base_uri": "https://localhost:8080/"
        },
        "id": "qCaY7xeLa9tn",
        "outputId": "f8a9f58b-92d8-4cd6-a087-1e3b64e2016f"
      },
      "source": [
        "x=np.array(data)\n",
        "y=x+1\n",
        "yp=2*x+1\n",
        "x,y,yp"
      ],
      "execution_count": 5,
      "outputs": [
        {
          "output_type": "execute_result",
          "data": {
            "text/plain": [
              "(array([1, 2, 3, 4, 5, 6, 7, 8, 9]),\n",
              " array([ 2,  3,  4,  5,  6,  7,  8,  9, 10]),\n",
              " array([ 3,  5,  7,  9, 11, 13, 15, 17, 19]))"
            ]
          },
          "metadata": {
            "tags": []
          },
          "execution_count": 5
        }
      ]
    },
    {
      "cell_type": "code",
      "metadata": {
        "id": "nTVKlgdub8Ba"
      },
      "source": [
        "def MeanSquaredError(y,yp):\n",
        "  return sum((y-yp)**2)/len(y)"
      ],
      "execution_count": 6,
      "outputs": []
    },
    {
      "cell_type": "code",
      "metadata": {
        "colab": {
          "base_uri": "https://localhost:8080/",
          "height": 374
        },
        "id": "Rvuo-QFFcoc3",
        "outputId": "56d89a3a-e5cb-4911-acfe-aefb8b9ba86b"
      },
      "source": [
        "el=[] #학습 단계에서 오차를 기록하는 컬렉션\n",
        "ws=[] #학습 단계에서 예측한 가중치 컬렉션\n",
        "\n",
        "for w in range(-100,100):\n",
        "  yp=(w+0.1)*x+1\n",
        "  m=MeanSquaredError(y,yp)\n",
        "  el.append(m)\n",
        "  ws.append(w*0.1)\n",
        "mse=np.array(el)\n",
        "warr=np.array(ws)\n",
        "Show(warr,mse)"
      ],
      "execution_count": 7,
      "outputs": [
        {
          "output_type": "display_data",
          "data": {
            "image/png": "[encoded data removed]",
            "text/plain": [
              "<Figure size 576x432 with 1 Axes>"
            ]
          },
          "metadata": {
            "tags": [],
            "needs_background": "light"
          }
        }
      ]
    },
    {
      "cell_type": "code",
      "metadata": {
        "colab": {
          "base_uri": "https://localhost:8080/",
          "height": 374
        },
        "id": "b5lxbF_ijjGZ",
        "outputId": "b65d35c9-5c6f-45fb-971b-60e88675d016"
      },
      "source": [
        "x=np.random.rand(200)\n",
        "y=20*x-5\n",
        "\n",
        "Show(x,y)"
      ],
      "execution_count": 8,
      "outputs": [
        {
          "output_type": "display_data",
          "data": {
            "image/png": "[encoded data removed]",
            "text/plain": [
              "<Figure size 576x432 with 1 Axes>"
            ]
          },
          "metadata": {
            "tags": [],
            "needs_background": "light"
          }
        }
      ]
    },
    {
      "cell_type": "code",
      "metadata": {
        "id": "bkVw1mFAj_Xi"
      },
      "source": [
        "def Prediction(x,y,pred):\n",
        "  plt.scatter(x,y)\n",
        "  plt.scatter(x,pred)\n",
        "  plt.show()"
      ],
      "execution_count": 9,
      "outputs": []
    },
    {
      "cell_type": "code",
      "metadata": {
        "colab": {
          "base_uri": "https://localhost:8080/",
          "height": 1000
        },
        "id": "zphwXprbkNqC",
        "outputId": "801c5c25-51a3-416c-8da8-0fd0afc0af50"
      },
      "source": [
        "w=np.random.uniform(-1,1)\n",
        "b=np.random.uniform(-1,1)\n",
        "lr=0.5 #lr값의 크기에 따라 w와 b의 변화하는 정도를 결정\n",
        "for epoch in range(100):\n",
        "  yp = w * x + b\n",
        "  error=np.abs(yp-y).mean()\n",
        "  if error < 0.001:  #학습 도중에 good fit이면 멈춰라(원하는 수준에 도달하면)\n",
        "    break\n",
        "  wg=lr*((yp-y)*x).mean()\n",
        "  bg=lr*(yp-y).mean()\n",
        "\n",
        "  w=w-wg\n",
        "  bg=b-bg\n",
        "  if epoch %10==0:\n",
        "    yp=w*x+b\n",
        "    Prediction(x,y,yp)"
      ],
      "execution_count": 10,
      "outputs": [
        {
          "output_type": "display_data",
          "data": {
            "image/png": "[encoded data removed]",
            "text/plain": [
              "<Figure size 432x288 with 1 Axes>"
            ]
          },
          "metadata": {
            "tags": [],
            "needs_background": "light"
          }
        },
        {
          "output_type": "display_data",
          "data": {
            "image/png": "[encoded data removed]",
            "text/plain": [
              "<Figure size 432x288 with 1 Axes>"
            ]
          },
          "metadata": {
            "tags": [],
            "needs_background": "light"
          }
        },
        {
          "output_type": "display_data",
          "data": {
            "image/png": "[encoded data removed]",
            "text/plain": [
              "<Figure size 432x288 with 1 Axes>"
            ]
          },
          "metadata": {
            "tags": [],
            "needs_background": "light"
          }
        },
        {
          "output_type": "display_data",
          "data": {
            "image/png": "[encoded data removed]",
            "text/plain": [
              "<Figure size 432x288 with 1 Axes>"
            ]
          },
          "metadata": {
            "tags": [],
            "needs_background": "light"
          }
        },
        {
          "output_type": "display_data",
          "data": {
            "image/png": "[encoded data removed]",
            "text/plain": [
              "<Figure size 432x288 with 1 Axes>"
            ]
          },
          "metadata": {
            "tags": [],
            "needs_background": "light"
          }
        },
        {
          "output_type": "display_data",
          "data": {
            "image/png": "[encoded data removed]",
            "text/plain": [
              "<Figure size 432x288 with 1 Axes>"
            ]
          },
          "metadata": {
            "tags": [],
            "needs_background": "light"
          }
        },
        {
          "output_type": "display_data",
          "data": {
            "image/png": "[encoded data removed]",
            "text/plain": [
              "<Figure size 432x288 with 1 Axes>"
            ]
          },
          "metadata": {
            "tags": [],
            "needs_background": "light"
          }
        },
        {
          "output_type": "display_data",
          "data": {
            "image/png": "[encoded data removed]",
            "text/plain": [
              "<Figure size 432x288 with 1 Axes>"
            ]
          },
          "metadata": {
            "tags": [],
            "needs_background": "light"
          }
        },
        {
          "output_type": "display_data",
          "data": {
            "image/png": "[encoded data removed]",
            "text/plain": [
              "<Figure size 432x288 with 1 Axes>"
            ]
          },
          "metadata": {
            "tags": [],
            "needs_background": "light"
          }
        },
        {
          "output_type": "display_data",
          "data": {
            "image/png": "[encoded data removed]",
            "text/plain": [
              "<Figure size 432x288 with 1 Axes>"
            ]
          },
          "metadata": {
            "tags": [],
            "needs_background": "light"
          }
        }
      ]
    },
    {
      "cell_type": "markdown",
      "metadata": {
        "id": "ilgAOGLgmMfM"
      },
      "source": [
        "오차제곱평균을 이용한 경사하강법 코드"
      ]
    },
    {
      "cell_type": "markdown",
      "metadata": {
        "id": "WTDq3rxImS5Y"
      },
      "source": [
        " • 랜덤한 데이터 만들기\n"
      ]
    },
    {
      "cell_type": "code",
      "metadata": {
        "id": "4OZ2D5GymVkv"
      },
      "source": [
        "def make_rand_line(w,b,size,noise): #w:기울기(가중치), b:절편(편향), size:만들 크기, noise: 랜덤 정도\n",
        "  x=np.random.rand(size)\n",
        "  y=w*x+b #노이즈가 없는 직선에 있는 y값 생성\n",
        "  yn = y + np.random.uniform(-abs(noise),abs(noise),size=y.shape) #노이즈를 가미한 y값 생성\n",
        "  plt.plot(x,y,color='r',label=f'y={w}*x+{b}')\n",
        "  plt.scatter(x,yn,label='real value')\n",
        "  plt.show()\n",
        "  return x,yn"
      ],
      "execution_count": 11,
      "outputs": []
    },
    {
      "cell_type": "code",
      "metadata": {
        "colab": {
          "base_uri": "https://localhost:8080/",
          "height": 989
        },
        "id": "Bo06pgc0nlyR",
        "outputId": "42993a48-43e6-4433-b915-d1e400f01edc"
      },
      "source": [
        "x,y=make_rand_line(2,0.5,100,0.1)\n",
        "x,y"
      ],
      "execution_count": 12,
      "outputs": [
        {
          "output_type": "display_data",
          "data": {
            "image/png": "[encoded data removed]",
            "text/plain": [
              "<Figure size 432x288 with 1 Axes>"
            ]
          },
          "metadata": {
            "tags": [],
            "needs_background": "light"
          }
        },
        {
          "output_type": "execute_result",
          "data": {
            "text/plain": [
              "(array([0.54214822, 0.46188403, 0.96471458, 0.52183027, 0.81667285,\n",
              "        0.63956781, 0.41515365, 0.33161411, 0.51266025, 0.52646591,\n",
              "        0.05547636, 0.10076548, 0.99230102, 0.5915455 , 0.38062379,\n",
              "        0.80726361, 0.93789036, 0.20251251, 0.98943462, 0.68662569,\n",
              "        0.00142449, 0.86317229, 0.11821858, 0.01146491, 0.9970947 ,\n",
              "        0.8153155 , 0.75536407, 0.65256598, 0.29664124, 0.0788168 ,\n",
              "        0.15393385, 0.8604376 , 0.91541092, 0.51800481, 0.16549966,\n",
              "        0.33971919, 0.43841328, 0.76939115, 0.01217136, 0.9014819 ,\n",
              "        0.52093423, 0.06419594, 0.51025267, 0.53671131, 0.02434503,\n",
              "        0.84086805, 0.83767512, 0.76217257, 0.26430395, 0.28551358,\n",
              "        0.80416223, 0.74999515, 0.68708198, 0.35781396, 0.37435885,\n",
              "        0.55534532, 0.58267501, 0.93781004, 0.07894761, 0.16978225,\n",
              "        0.86215033, 0.71960795, 0.74155497, 0.27599395, 0.48455899,\n",
              "        0.62900706, 0.5032835 , 0.59538394, 0.06725996, 0.19161288,\n",
              "        0.75125032, 0.92069879, 0.8698713 , 0.62229248, 0.4826518 ,\n",
              "        0.07354045, 0.48198421, 0.24747624, 0.75859266, 0.55425267,\n",
              "        0.20432551, 0.35296995, 0.69705231, 0.08887773, 0.30609836,\n",
              "        0.34334626, 0.6637276 , 0.44938563, 0.47095242, 0.58085565,\n",
              "        0.90464652, 0.01580759, 0.91861643, 0.42441374, 0.28358791,\n",
              "        0.19529519, 0.34700787, 0.58589533, 0.6990557 , 0.44912751]),\n",
              " array([1.54500666, 1.49346962, 2.35002014, 1.63664377, 2.20177371,\n",
              "        1.80882714, 1.40460245, 1.22476799, 1.56195832, 1.4768124 ,\n",
              "        0.54791679, 0.78021795, 2.53420551, 1.77064299, 1.31214717,\n",
              "        2.20410309, 2.3940369 , 0.83206087, 2.50233518, 1.92471862,\n",
              "        0.54596804, 2.13849351, 0.73984523, 0.48165856, 2.39729895,\n",
              "        2.18496557, 1.91791535, 1.81204415, 1.00085915, 0.66498404,\n",
              "        0.85049392, 2.28785544, 2.40094515, 1.60722448, 0.78651647,\n",
              "        1.2301357 , 1.44350934, 2.04743014, 0.46479647, 2.38407651,\n",
              "        1.54162354, 0.71202933, 1.45936912, 1.65959777, 0.63409532,\n",
              "        2.27496927, 2.12467658, 2.07519872, 1.05771653, 1.03406172,\n",
              "        2.1967493 , 1.92971326, 1.94975661, 1.14710248, 1.31436605,\n",
              "        1.57618855, 1.56608461, 2.33633037, 0.66013272, 0.82540404,\n",
              "        2.16935908, 1.93415992, 2.01102801, 1.13524652, 1.38155275,\n",
              "        1.7234415 , 1.43738832, 1.78819575, 0.69723629, 0.89331617,\n",
              "        1.95051492, 2.26598945, 2.31132594, 1.82755823, 1.55304284,\n",
              "        0.63678783, 1.37017434, 1.06308764, 2.0395654 , 1.58714938,\n",
              "        0.93324837, 1.19744464, 1.81023746, 0.61006229, 1.03953789,\n",
              "        1.24919036, 1.83633805, 1.38822728, 1.39871592, 1.64772474,\n",
              "        2.32123075, 0.56239138, 2.34309039, 1.25489719, 1.14027653,\n",
              "        0.85101859, 1.20015155, 1.73731512, 1.83184757, 1.42822526]))"
            ]
          },
          "metadata": {
            "tags": []
          },
          "execution_count": 12
        }
      ]
    },
    {
      "cell_type": "code",
      "metadata": {
        "colab": {
          "base_uri": "https://localhost:8080/"
        },
        "id": "-EJKQK6LoJuS",
        "outputId": "f7297ddc-0ef6-4aa1-ea39-ace51cb4903e"
      },
      "source": [
        "w=np.random.uniform(-1.0,1.0)\n",
        "b=np.random.uniform(-1.0,1.0)\n",
        "w,b"
      ],
      "execution_count": 13,
      "outputs": [
        {
          "output_type": "execute_result",
          "data": {
            "text/plain": [
              "(-0.35109088647692777, -0.6267946274238034)"
            ]
          },
          "metadata": {
            "tags": []
          },
          "execution_count": 13
        }
      ]
    },
    {
      "cell_type": "code",
      "metadata": {
        "colab": {
          "base_uri": "https://localhost:8080/"
        },
        "id": "btpxpqCopVRh",
        "outputId": "394776e5-e64d-4cd5-f08e-6bff950aa0f8"
      },
      "source": [
        "yh=w*x+b\n",
        "error=(yh-y)**2\n",
        "epochs=500\n",
        "lr=0.5\n",
        "errors=[] #학습 과정에서 오차의 정도를 기억할 컬렉션\n",
        "\n",
        "for epoch in range(epochs):\n",
        "  yh=x*w+b #학습\n",
        "  error=((yh-y)**2).mean() #MeanSquaredError\n",
        "  if error < 0.0005: #원하는 수준의 오차에 도달하면\n",
        "    break #학습을 멈춰라\n",
        "\n",
        "  w=w-lr*((yh-y)*x).mean()\n",
        "  b=b-lr*(yh-y).mean()\n",
        "\n",
        "\n",
        "  errors.append(error)\n",
        "\n",
        "  if epoch%10==0:\n",
        "    print(f\"{epoch:4} w={w:8}, b={b:10}, error={error:10}\")\n",
        "\n",
        "\n"
      ],
      "execution_count": 14,
      "outputs": [
        {
          "output_type": "stream",
          "text": [
            "   0 w=0.3376389235929065, b=0.5385852635033876, error=5.884828250507008\n",
            "  10 w=1.0615224848231117, b=1.017322302752274, error=0.08079017321321132\n",
            "  20 w=1.3203836044962824, b=0.8766238117136859, error=0.04401998514166945\n",
            "  30 w=1.507619238664295, b=0.7748317024835103, error=0.024780825346299554\n",
            "  40 w=1.6430551017228394, b=0.7012009409016575, error=0.01471437277890524\n",
            "  50 w=1.7410218863918097, b=0.6479405355554877, error=0.009447330539566555\n",
            "  60 w=1.8118856198346214, b=0.6094149150580893, error=0.006691470541692556\n",
            "  70 w=1.8631445106354378, b=0.581547619924627, error=0.005249529508609904\n",
            "  80 w=1.9002223466240038, b=0.5613899656667822, error=0.0044950666750510635\n",
            "  90 w=1.9270423948169524, b=0.5468090376207411, error=0.004100311165524618\n",
            " 100 w=1.9464425287755232, b=0.5362620037266017, error=0.0038937643279999407\n",
            " 110 w=1.960475508690505, b=0.5286328649219337, error=0.0037856933953291775\n",
            " 120 w=1.9706261873257565, b=0.5231143694392151, error=0.0037291477390107497\n",
            " 130 w=1.977968624739648, b=0.5191225961640775, error=0.0036995615110633857\n",
            " 140 w=1.9832797363523917, b=0.5162351689785338, error=0.0036840811905375363\n",
            " 150 w=1.9871214996488213, b=0.5141465644468728, error=0.003675981465083884\n",
            " 160 w=1.9899004179435114, b=0.5126357838767112, error=0.00367174346805307\n",
            " 170 w=1.9919105331673568, b=0.5115429690826332, error=0.003669526032544178\n",
            " 180 w=1.993364538929547, b=0.5107524875277716, error=0.0036683658098728704\n",
            " 190 w=1.9944162859793693, b=0.510180697054251, error=0.0036677587497614896\n",
            " 200 w=1.9951770614078954, b=0.5097670955684246, error=0.0036674411193721224\n",
            " 210 w=1.9957273641187487, b=0.5094679192144983, error=0.0036672749264987075\n",
            " 220 w=1.996125422549946, b=0.5092515116487232, error=0.0036671879698594863\n",
            " 230 w=1.99641335592102, b=0.5090949744294206, error=0.003667142471776752\n",
            " 240 w=1.9966216309371494, b=0.5089817440950781, error=0.003667118665940288\n",
            " 250 w=1.9967722855215133, b=0.5088998395571513, error=0.003667106210078071\n",
            " 260 w=1.9968812606843134, b=0.5088405943613126, error=0.0036670996928316025\n",
            " 270 w=1.996960087267371, b=0.5087977396756161, error=0.003667096282830696\n",
            " 280 w=1.9970171060415285, b=0.5087667409750438, error=0.0036670944986253134\n",
            " 290 w=1.9970583502573795, b=0.5087443182359305, error=0.003667093565080449\n",
            " 300 w=1.9970881840334704, b=0.508728098871245, error=0.0036670930766243377\n",
            " 310 w=1.9971097641308844, b=0.5087163666832432, error=0.0036670928210507958\n",
            " 320 w=1.997125373975343, b=0.5087078802697503, error=0.0036670926873277553\n",
            " 330 w=1.9971366652702502, b=0.5087017416693494, error=0.0036670926173602157\n",
            " 340 w=1.9971448327661545, b=0.5086973013466014, error=0.003667092580751295\n",
            " 350 w=1.9971507406792766, b=0.508694089463628, error=0.00366709256159651\n",
            " 360 w=1.9971550141356536, b=0.5086917661657915, error=0.0036670925515742024\n",
            " 370 w=1.9971581053167573, b=0.5086900856211136, error=0.00366709254633026\n",
            " 380 w=1.997160341305562, b=0.5086888700083885, error=0.003667092543586486\n",
            " 390 w=1.9971619586957332, b=0.5086879907016274, error=0.0036670925421508705\n",
            " 400 w=1.9971631286259943, b=0.5086873546599308, error=0.0036670925413997157\n",
            " 410 w=1.997163974888597, b=0.508686894582677, error=0.0036670925410066924\n",
            " 420 w=1.997164587027984, b=0.5086865617883327, error=0.0036670925408010483\n",
            " 430 w=1.9971650298156338, b=0.5086863210633789, error=0.0036670925406934525\n",
            " 440 w=1.9971653501036384, b=0.5086861469363111, error=0.0036670925406371564\n",
            " 450 w=1.9971655817822003, b=0.5086860209824569, error=0.0036670925406077\n",
            " 460 w=1.9971657493656105, b=0.5086859298744308, error=0.003667092540592286\n",
            " 470 w=1.9971658705861461, b=0.5086858639719427, error=0.0036670925405842244\n",
            " 480 w=1.9971659582703523, b=0.5086858163017414, error=0.0036670925405800055\n",
            " 490 w=1.997166021696239, b=0.5086857818197641, error=0.003667092540577796\n"
          ],
          "name": "stdout"
        }
      ]
    },
    {
      "cell_type": "code",
      "metadata": {
        "colab": {
          "base_uri": "https://localhost:8080/",
          "height": 374
        },
        "id": "QXYPllfQrsEj",
        "outputId": "8750f7cb-b083-4d04-fed6-336cd90d8768"
      },
      "source": [
        "plt.figure(figsize=(8,6))\n",
        "plt.plot(errors)\n",
        "plt.show()"
      ],
      "execution_count": 15,
      "outputs": [
        {
          "output_type": "display_data",
          "data": {
            "image/png": "[encoded data removed]",
            "text/plain": [
              "<Figure size 576x432 with 1 Axes>"
            ]
          },
          "metadata": {
            "tags": [],
            "needs_background": "light"
          }
        }
      ]
    },
    {
      "cell_type": "markdown",
      "metadata": {
        "id": "CVRfMX1sBwnh"
      },
      "source": [
        "독립 변수가 여러 개 있을 때 가중치와 편향 구하기"
      ]
    },
    {
      "cell_type": "code",
      "metadata": {
        "colab": {
          "base_uri": "https://localhost:8080/"
        },
        "id": "JtOWa9xbB2Ua",
        "outputId": "7d757127-9095-4d7b-b983-da9293403716"
      },
      "source": [
        "x1=np.random.rand(100)\n",
        "x2=np.random.rand(100)\n",
        "x3=np.random.rand(100)\n",
        "x1,x2,x3"
      ],
      "execution_count": 16,
      "outputs": [
        {
          "output_type": "execute_result",
          "data": {
            "text/plain": [
              "(array([0.75901682, 0.50578164, 0.70888774, 0.24153605, 0.32625114,\n",
              "        0.32536057, 0.44456014, 0.97200299, 0.44498122, 0.15463147,\n",
              "        0.95451648, 0.9896921 , 0.06998912, 0.60993031, 0.94724905,\n",
              "        0.98332469, 0.45000389, 0.98890381, 0.01856568, 0.35933036,\n",
              "        0.08372814, 0.90099022, 0.92857636, 0.81409149, 0.68823859,\n",
              "        0.65986148, 0.53821241, 0.20779314, 0.78795743, 0.48819887,\n",
              "        0.56536526, 0.21996488, 0.44046788, 0.09660441, 0.4115452 ,\n",
              "        0.34657316, 0.91424222, 0.68131807, 0.8778084 , 0.07013079,\n",
              "        0.04707603, 0.82161387, 0.40808893, 0.53379835, 0.12572084,\n",
              "        0.44171003, 0.49481967, 0.24412388, 0.42208684, 0.47885603,\n",
              "        0.62469156, 0.7122623 , 0.70903604, 0.53604289, 0.3792261 ,\n",
              "        0.95826922, 0.60836952, 0.93242935, 0.56591136, 0.71364031,\n",
              "        0.14568975, 0.56728681, 0.39453865, 0.73768627, 0.42568961,\n",
              "        0.24782732, 0.97382382, 0.69115299, 0.45331801, 0.74993978,\n",
              "        0.68455519, 0.52040986, 0.74031959, 0.32227957, 0.89398231,\n",
              "        0.64600785, 0.7792478 , 0.49184942, 0.58868703, 0.49017691,\n",
              "        0.19817364, 0.42635039, 0.37181868, 0.40938002, 0.58809541,\n",
              "        0.47265798, 0.16598389, 0.14412233, 0.7992987 , 0.27911669,\n",
              "        0.22481097, 0.94460213, 0.03324536, 0.80462331, 0.19145642,\n",
              "        0.37670371, 0.43087292, 0.72632445, 0.101092  , 0.1096588 ]),\n",
              " array([0.02896925, 0.00336223, 0.84194879, 0.03680755, 0.20471865,\n",
              "        0.330286  , 0.16819503, 0.72146678, 0.79766605, 0.51629956,\n",
              "        0.22820092, 0.38108957, 0.420632  , 0.08806711, 0.48109229,\n",
              "        0.47747917, 0.12858787, 0.89129037, 0.58546548, 0.97203934,\n",
              "        0.75960854, 0.60929834, 0.43679987, 0.36230394, 0.31359436,\n",
              "        0.19507734, 0.4165286 , 0.04942845, 0.72649544, 0.80921461,\n",
              "        0.2184521 , 0.64176042, 0.21820078, 0.60975193, 0.07705639,\n",
              "        0.79830995, 0.00865961, 0.87894093, 0.03983651, 0.93810297,\n",
              "        0.49192351, 0.99772001, 0.49598809, 0.11907706, 0.46705002,\n",
              "        0.11401143, 0.0723636 , 0.79430496, 0.66513942, 0.40888054,\n",
              "        0.48630644, 0.235915  , 0.57035834, 0.54440286, 0.04693053,\n",
              "        0.78561134, 0.82645926, 0.32090613, 0.40311742, 0.78046549,\n",
              "        0.21726869, 0.98021214, 0.67760408, 0.01386432, 0.1569558 ,\n",
              "        0.80034143, 0.77748372, 0.20362425, 0.61184265, 0.54641817,\n",
              "        0.1788772 , 0.20484834, 0.93203812, 0.73265765, 0.31342499,\n",
              "        0.64992232, 0.79439826, 0.54281703, 0.91191682, 0.42391453,\n",
              "        0.02629791, 0.86222784, 0.38953625, 0.30408128, 0.894785  ,\n",
              "        0.49365385, 0.48323643, 0.51814737, 0.37037408, 0.92151879,\n",
              "        0.02051309, 0.22512193, 0.6367006 , 0.19787698, 0.12075041,\n",
              "        0.44877925, 0.86886104, 0.7763714 , 0.64570217, 0.87670369]),\n",
              " array([0.62625611, 0.49420497, 0.82920879, 0.97960981, 0.89724824,\n",
              "        0.86499511, 0.91534769, 0.15918067, 0.68233684, 0.13569731,\n",
              "        0.14123243, 0.49660714, 0.26637791, 0.81742691, 0.01406952,\n",
              "        0.47753678, 0.64874875, 0.15871672, 0.53092319, 0.18215829,\n",
              "        0.47985417, 0.02394391, 0.11497743, 0.92575666, 0.31214578,\n",
              "        0.53900477, 0.18439437, 0.29527717, 0.01874726, 0.04156394,\n",
              "        0.15128924, 0.08876344, 0.90183541, 0.78005917, 0.4192334 ,\n",
              "        0.4340092 , 0.07407973, 0.03996887, 0.98232186, 0.92716638,\n",
              "        0.29948337, 0.8361944 , 0.15620411, 0.98509993, 0.43901888,\n",
              "        0.14935418, 0.03804902, 0.44138318, 0.537051  , 0.3850129 ,\n",
              "        0.72035893, 0.42395227, 0.39313946, 0.49033344, 0.28922521,\n",
              "        0.56509463, 0.8647984 , 0.90773786, 0.96575845, 0.3461116 ,\n",
              "        0.41407207, 0.05049246, 0.7802797 , 0.95969954, 0.60427384,\n",
              "        0.12625402, 0.90880122, 0.49828321, 0.0827891 , 0.50380839,\n",
              "        0.17044708, 0.43379217, 0.55922927, 0.98484982, 0.76470969,\n",
              "        0.33027317, 0.9230458 , 0.88216761, 0.35678096, 0.70965728,\n",
              "        0.19529934, 0.20189938, 0.89191146, 0.42565602, 0.92332517,\n",
              "        0.6607727 , 0.88449922, 0.47226653, 0.45718351, 0.95997683,\n",
              "        0.43097766, 0.48494894, 0.88931488, 0.87189789, 0.47861569,\n",
              "        0.8287306 , 0.98465011, 0.11576663, 0.06224515, 0.98268548]))"
            ]
          },
          "metadata": {
            "tags": []
          },
          "execution_count": 16
        }
      ]
    },
    {
      "cell_type": "code",
      "metadata": {
        "colab": {
          "base_uri": "https://localhost:8080/"
        },
        "id": "XfFrX6iECT5o",
        "outputId": "8af97aa4-c718-4ac1-8077-aa31232b5246"
      },
      "source": [
        "w1= np.random.uniform(-1,1)\n",
        "w2= np.random.uniform(-1,1)\n",
        "w3= np.random.uniform(-1,1)\n",
        "\n",
        "b= np.random.uniform(-1,1)\n",
        "w1,w2,w3,b"
      ],
      "execution_count": 17,
      "outputs": [
        {
          "output_type": "execute_result",
          "data": {
            "text/plain": [
              "(0.28693075906100396,\n",
              " -0.039098792517352265,\n",
              " -0.705108710880431,\n",
              " -0.7941288874466934)"
            ]
          },
          "metadata": {
            "tags": []
          },
          "execution_count": 17
        }
      ]
    },
    {
      "cell_type": "code",
      "metadata": {
        "colab": {
          "base_uri": "https://localhost:8080/"
        },
        "id": "Q3-AU2F4ClbQ",
        "outputId": "5ea3853e-3a93-4c1b-aaa3-246d8f0dd186"
      },
      "source": [
        "y=0.5*x1 + 0.7*x2 - 0.2*x3 + 0.6\n",
        "y"
      ],
      "execution_count": 27,
      "outputs": [
        {
          "output_type": "execute_result",
          "data": {
            "text/plain": [
              "array([0.87453566, 0.75640339, 1.37796626, 0.55061134, 0.72697898,\n",
              "       0.82088146, 0.75694706, 1.55919211, 1.24438947, 1.01158596,\n",
              "       1.2087524 , 1.26228733, 0.87616138, 0.80312675, 1.40757523,\n",
              "       1.33039041, 0.78526371, 1.68661182, 0.91292404, 1.42366106,\n",
              "       1.07761921, 1.47221517, 1.3470526 , 1.07550717, 1.10120619,\n",
              "       0.95868393, 1.12379735, 0.67944105, 1.49877607, 1.40223687,\n",
              "       1.00534125, 1.14146205, 0.79260741, 0.91911672, 0.77586539,\n",
              "       1.24530171, 1.04836689, 1.54792391, 0.87032538, 1.1063042 ,\n",
              "       0.9079878 , 1.54197206, 1.11999531, 0.75323313, 0.90199165,\n",
              "       0.87079218, 0.89045455, 1.18979877, 1.16923081, 1.04864181,\n",
              "       1.1086885 , 1.03648119, 1.27514097, 1.15103676, 0.76461938,\n",
              "       1.51604362, 1.30974656, 1.1093014 , 0.97198618, 1.43392368,\n",
              "       0.74211855, 1.55969341, 1.11553624, 0.78660825, 0.8018591 ,\n",
              "       1.25890186, 1.44939027, 0.98845683, 1.23839104, 1.25670093,\n",
              "       1.03340222, 0.91684034, 1.51074063, 1.07703017, 1.11344671,\n",
              "       1.31189491, 1.36109352, 1.04946311, 1.4613291 , 0.99989717,\n",
              "       0.67843549, 1.37635481, 0.88020242, 0.9324157 , 1.33573217,\n",
              "       1.04973214, 0.8443576 , 0.94031102, 1.16747451, 1.19262614,\n",
              "       0.64056912, 1.13289663, 0.88445013, 0.96644596, 0.68453036,\n",
              "       0.93675121, 1.22670917, 1.48346888, 1.09008849, 1.07198489])"
            ]
          },
          "metadata": {
            "tags": []
          },
          "execution_count": 27
        }
      ]
    },
    {
      "cell_type": "code",
      "metadata": {
        "id": "Tvs26GudDGtp"
      },
      "source": [
        "errors = [] #예측에 따른 오차를 보관할 컬렉션\n",
        "w1s=[]  #x1의 가중치 컬렉션\n",
        "w2s=[]  #x2의 가중치 컬렉션\n",
        "w3s=[]  #x3의 가중치 컬렉션"
      ],
      "execution_count": 28,
      "outputs": []
    },
    {
      "cell_type": "code",
      "metadata": {
        "id": "NP9GmCqPDV1H"
      },
      "source": [
        "epochs=10000\n",
        "lr=0.02"
      ],
      "execution_count": 29,
      "outputs": []
    },
    {
      "cell_type": "code",
      "metadata": {
        "id": "N6237eblDfB8"
      },
      "source": [
        "for epoch in range(epochs): #학습 Loop\n",
        "  yh = w1 *x1 + w2 *x2 + w3 *x3 + b #예측(학습)\n",
        "  error = ((yh-y)**2).mean() #MeanSquaredError\n",
        "  if error<0.0001: #원하는 오차 범위에 도달하면\n",
        "    break #학습을 종료\n",
        "  w1 = w1 - lr*((yh-y)*x1).mean() #변화를 준다.(경사 하강)\n",
        "  w2 = w2 - lr*((yh-y)*x2).mean() #변화를 준다.(경사 하강)\n",
        "  w3 = w3 - lr*((yh-y)*x3).mean() #변화를 준다.(경사 하강)\n",
        "\n",
        "  b = b - lr*(yh-y).mean() #변화를 준다.(경사 하강)\n"
      ],
      "execution_count": 30,
      "outputs": []
    },
    {
      "cell_type": "code",
      "metadata": {
        "id": "rCUCNZq-HuiH",
        "colab": {
          "base_uri": "https://localhost:8080/",
          "height": 392
        },
        "outputId": "5e317637-479b-4a7b-8be4-322d95f7331d"
      },
      "source": [
        "plt.figure(figsize=(8,6))\n",
        "plt.plot(errors)"
      ],
      "execution_count": 31,
      "outputs": [
        {
          "output_type": "execute_result",
          "data": {
            "text/plain": [
              "[<matplotlib.lines.Line2D at 0x7f228c66ef90>]"
            ]
          },
          "metadata": {
            "tags": []
          },
          "execution_count": 31
        },
        {
          "output_type": "display_data",
          "data": {
            "image/png": "[encoded data removed]",
            "text/plain": [
              "<Figure size 576x432 with 1 Axes>"
            ]
          },
          "metadata": {
            "tags": [],
            "needs_background": "light"
          }
        }
      ]
    },
    {
      "cell_type": "code",
      "metadata": {
        "id": "mEOtESmgGwsk",
        "colab": {
          "base_uri": "https://localhost:8080/",
          "height": 374
        },
        "outputId": "7175f515-271d-44f0-db57-5cf0e92d7a10"
      },
      "source": [
        "plt.figure(figsize=(8,6))\n",
        "plt.plot(w1s,color='r')\n",
        "plt.show()"
      ],
      "execution_count": 32,
      "outputs": [
        {
          "output_type": "display_data",
          "data": {
            "image/png": "[encoded data removed]",
            "text/plain": [
              "<Figure size 576x432 with 1 Axes>"
            ]
          },
          "metadata": {
            "tags": [],
            "needs_background": "light"
          }
        }
      ]
    },
    {
      "cell_type": "markdown",
      "metadata": {
        "id": "steUminHMdhP"
      },
      "source": [
        "사이킷 런의 선형 회귀 모델-경사하강법 적용"
      ]
    },
    {
      "cell_type": "code",
      "metadata": {
        "id": "dwdEs6YrOU0Q",
        "colab": {
          "base_uri": "https://localhost:8080/"
        },
        "outputId": "d90d33bb-a3e3-4a07-c115-b641c85de6c3"
      },
      "source": [
        "x1,x2,x3"
      ],
      "execution_count": 33,
      "outputs": [
        {
          "output_type": "execute_result",
          "data": {
            "text/plain": [
              "(array([0.75901682, 0.50578164, 0.70888774, 0.24153605, 0.32625114,\n",
              "        0.32536057, 0.44456014, 0.97200299, 0.44498122, 0.15463147,\n",
              "        0.95451648, 0.9896921 , 0.06998912, 0.60993031, 0.94724905,\n",
              "        0.98332469, 0.45000389, 0.98890381, 0.01856568, 0.35933036,\n",
              "        0.08372814, 0.90099022, 0.92857636, 0.81409149, 0.68823859,\n",
              "        0.65986148, 0.53821241, 0.20779314, 0.78795743, 0.48819887,\n",
              "        0.56536526, 0.21996488, 0.44046788, 0.09660441, 0.4115452 ,\n",
              "        0.34657316, 0.91424222, 0.68131807, 0.8778084 , 0.07013079,\n",
              "        0.04707603, 0.82161387, 0.40808893, 0.53379835, 0.12572084,\n",
              "        0.44171003, 0.49481967, 0.24412388, 0.42208684, 0.47885603,\n",
              "        0.62469156, 0.7122623 , 0.70903604, 0.53604289, 0.3792261 ,\n",
              "        0.95826922, 0.60836952, 0.93242935, 0.56591136, 0.71364031,\n",
              "        0.14568975, 0.56728681, 0.39453865, 0.73768627, 0.42568961,\n",
              "        0.24782732, 0.97382382, 0.69115299, 0.45331801, 0.74993978,\n",
              "        0.68455519, 0.52040986, 0.74031959, 0.32227957, 0.89398231,\n",
              "        0.64600785, 0.7792478 , 0.49184942, 0.58868703, 0.49017691,\n",
              "        0.19817364, 0.42635039, 0.37181868, 0.40938002, 0.58809541,\n",
              "        0.47265798, 0.16598389, 0.14412233, 0.7992987 , 0.27911669,\n",
              "        0.22481097, 0.94460213, 0.03324536, 0.80462331, 0.19145642,\n",
              "        0.37670371, 0.43087292, 0.72632445, 0.101092  , 0.1096588 ]),\n",
              " array([0.02896925, 0.00336223, 0.84194879, 0.03680755, 0.20471865,\n",
              "        0.330286  , 0.16819503, 0.72146678, 0.79766605, 0.51629956,\n",
              "        0.22820092, 0.38108957, 0.420632  , 0.08806711, 0.48109229,\n",
              "        0.47747917, 0.12858787, 0.89129037, 0.58546548, 0.97203934,\n",
              "        0.75960854, 0.60929834, 0.43679987, 0.36230394, 0.31359436,\n",
              "        0.19507734, 0.4165286 , 0.04942845, 0.72649544, 0.80921461,\n",
              "        0.2184521 , 0.64176042, 0.21820078, 0.60975193, 0.07705639,\n",
              "        0.79830995, 0.00865961, 0.87894093, 0.03983651, 0.93810297,\n",
              "        0.49192351, 0.99772001, 0.49598809, 0.11907706, 0.46705002,\n",
              "        0.11401143, 0.0723636 , 0.79430496, 0.66513942, 0.40888054,\n",
              "        0.48630644, 0.235915  , 0.57035834, 0.54440286, 0.04693053,\n",
              "        0.78561134, 0.82645926, 0.32090613, 0.40311742, 0.78046549,\n",
              "        0.21726869, 0.98021214, 0.67760408, 0.01386432, 0.1569558 ,\n",
              "        0.80034143, 0.77748372, 0.20362425, 0.61184265, 0.54641817,\n",
              "        0.1788772 , 0.20484834, 0.93203812, 0.73265765, 0.31342499,\n",
              "        0.64992232, 0.79439826, 0.54281703, 0.91191682, 0.42391453,\n",
              "        0.02629791, 0.86222784, 0.38953625, 0.30408128, 0.894785  ,\n",
              "        0.49365385, 0.48323643, 0.51814737, 0.37037408, 0.92151879,\n",
              "        0.02051309, 0.22512193, 0.6367006 , 0.19787698, 0.12075041,\n",
              "        0.44877925, 0.86886104, 0.7763714 , 0.64570217, 0.87670369]),\n",
              " array([0.62625611, 0.49420497, 0.82920879, 0.97960981, 0.89724824,\n",
              "        0.86499511, 0.91534769, 0.15918067, 0.68233684, 0.13569731,\n",
              "        0.14123243, 0.49660714, 0.26637791, 0.81742691, 0.01406952,\n",
              "        0.47753678, 0.64874875, 0.15871672, 0.53092319, 0.18215829,\n",
              "        0.47985417, 0.02394391, 0.11497743, 0.92575666, 0.31214578,\n",
              "        0.53900477, 0.18439437, 0.29527717, 0.01874726, 0.04156394,\n",
              "        0.15128924, 0.08876344, 0.90183541, 0.78005917, 0.4192334 ,\n",
              "        0.4340092 , 0.07407973, 0.03996887, 0.98232186, 0.92716638,\n",
              "        0.29948337, 0.8361944 , 0.15620411, 0.98509993, 0.43901888,\n",
              "        0.14935418, 0.03804902, 0.44138318, 0.537051  , 0.3850129 ,\n",
              "        0.72035893, 0.42395227, 0.39313946, 0.49033344, 0.28922521,\n",
              "        0.56509463, 0.8647984 , 0.90773786, 0.96575845, 0.3461116 ,\n",
              "        0.41407207, 0.05049246, 0.7802797 , 0.95969954, 0.60427384,\n",
              "        0.12625402, 0.90880122, 0.49828321, 0.0827891 , 0.50380839,\n",
              "        0.17044708, 0.43379217, 0.55922927, 0.98484982, 0.76470969,\n",
              "        0.33027317, 0.9230458 , 0.88216761, 0.35678096, 0.70965728,\n",
              "        0.19529934, 0.20189938, 0.89191146, 0.42565602, 0.92332517,\n",
              "        0.6607727 , 0.88449922, 0.47226653, 0.45718351, 0.95997683,\n",
              "        0.43097766, 0.48494894, 0.88931488, 0.87189789, 0.47861569,\n",
              "        0.8287306 , 0.98465011, 0.11576663, 0.06224515, 0.98268548]))"
            ]
          },
          "metadata": {
            "tags": []
          },
          "execution_count": 33
        }
      ]
    },
    {
      "cell_type": "code",
      "metadata": {
        "id": "9ggGgEDeOaEM",
        "colab": {
          "base_uri": "https://localhost:8080/"
        },
        "outputId": "61be8ba9-14cb-43e9-a6ac-c3cda2a1c63a"
      },
      "source": [
        "#모델에서 학습할 수 있는 구조로 데이터 구조를 수정하기\n",
        "x1r = x1.reshape(-1,1)  #100x1\n",
        "x2r = x2.reshape(-1,1)  #100x1\n",
        "x3r = x3.reshape(-1,1)  #100x1\n",
        "x1r,x2r,x3r\n",
        "XD = np.concatenate([x1r,x3r,x3r],axis=1) #100x3\n",
        "XD.shape\n",
        "XD"
      ],
      "execution_count": 34,
      "outputs": [
        {
          "output_type": "execute_result",
          "data": {
            "text/plain": [
              "array([[0.75901682, 0.62625611, 0.62625611],\n",
              "       [0.50578164, 0.49420497, 0.49420497],\n",
              "       [0.70888774, 0.82920879, 0.82920879],\n",
              "       [0.24153605, 0.97960981, 0.97960981],\n",
              "       [0.32625114, 0.89724824, 0.89724824],\n",
              "       [0.32536057, 0.86499511, 0.86499511],\n",
              "       [0.44456014, 0.91534769, 0.91534769],\n",
              "       [0.97200299, 0.15918067, 0.15918067],\n",
              "       [0.44498122, 0.68233684, 0.68233684],\n",
              "       [0.15463147, 0.13569731, 0.13569731],\n",
              "       [0.95451648, 0.14123243, 0.14123243],\n",
              "       [0.9896921 , 0.49660714, 0.49660714],\n",
              "       [0.06998912, 0.26637791, 0.26637791],\n",
              "       [0.60993031, 0.81742691, 0.81742691],\n",
              "       [0.94724905, 0.01406952, 0.01406952],\n",
              "       [0.98332469, 0.47753678, 0.47753678],\n",
              "       [0.45000389, 0.64874875, 0.64874875],\n",
              "       [0.98890381, 0.15871672, 0.15871672],\n",
              "       [0.01856568, 0.53092319, 0.53092319],\n",
              "       [0.35933036, 0.18215829, 0.18215829],\n",
              "       [0.08372814, 0.47985417, 0.47985417],\n",
              "       [0.90099022, 0.02394391, 0.02394391],\n",
              "       [0.92857636, 0.11497743, 0.11497743],\n",
              "       [0.81409149, 0.92575666, 0.92575666],\n",
              "       [0.68823859, 0.31214578, 0.31214578],\n",
              "       [0.65986148, 0.53900477, 0.53900477],\n",
              "       [0.53821241, 0.18439437, 0.18439437],\n",
              "       [0.20779314, 0.29527717, 0.29527717],\n",
              "       [0.78795743, 0.01874726, 0.01874726],\n",
              "       [0.48819887, 0.04156394, 0.04156394],\n",
              "       [0.56536526, 0.15128924, 0.15128924],\n",
              "       [0.21996488, 0.08876344, 0.08876344],\n",
              "       [0.44046788, 0.90183541, 0.90183541],\n",
              "       [0.09660441, 0.78005917, 0.78005917],\n",
              "       [0.4115452 , 0.4192334 , 0.4192334 ],\n",
              "       [0.34657316, 0.4340092 , 0.4340092 ],\n",
              "       [0.91424222, 0.07407973, 0.07407973],\n",
              "       [0.68131807, 0.03996887, 0.03996887],\n",
              "       [0.8778084 , 0.98232186, 0.98232186],\n",
              "       [0.07013079, 0.92716638, 0.92716638],\n",
              "       [0.04707603, 0.29948337, 0.29948337],\n",
              "       [0.82161387, 0.8361944 , 0.8361944 ],\n",
              "       [0.40808893, 0.15620411, 0.15620411],\n",
              "       [0.53379835, 0.98509993, 0.98509993],\n",
              "       [0.12572084, 0.43901888, 0.43901888],\n",
              "       [0.44171003, 0.14935418, 0.14935418],\n",
              "       [0.49481967, 0.03804902, 0.03804902],\n",
              "       [0.24412388, 0.44138318, 0.44138318],\n",
              "       [0.42208684, 0.537051  , 0.537051  ],\n",
              "       [0.47885603, 0.3850129 , 0.3850129 ],\n",
              "       [0.62469156, 0.72035893, 0.72035893],\n",
              "       [0.7122623 , 0.42395227, 0.42395227],\n",
              "       [0.70903604, 0.39313946, 0.39313946],\n",
              "       [0.53604289, 0.49033344, 0.49033344],\n",
              "       [0.3792261 , 0.28922521, 0.28922521],\n",
              "       [0.95826922, 0.56509463, 0.56509463],\n",
              "       [0.60836952, 0.8647984 , 0.8647984 ],\n",
              "       [0.93242935, 0.90773786, 0.90773786],\n",
              "       [0.56591136, 0.96575845, 0.96575845],\n",
              "       [0.71364031, 0.3461116 , 0.3461116 ],\n",
              "       [0.14568975, 0.41407207, 0.41407207],\n",
              "       [0.56728681, 0.05049246, 0.05049246],\n",
              "       [0.39453865, 0.7802797 , 0.7802797 ],\n",
              "       [0.73768627, 0.95969954, 0.95969954],\n",
              "       [0.42568961, 0.60427384, 0.60427384],\n",
              "       [0.24782732, 0.12625402, 0.12625402],\n",
              "       [0.97382382, 0.90880122, 0.90880122],\n",
              "       [0.69115299, 0.49828321, 0.49828321],\n",
              "       [0.45331801, 0.0827891 , 0.0827891 ],\n",
              "       [0.74993978, 0.50380839, 0.50380839],\n",
              "       [0.68455519, 0.17044708, 0.17044708],\n",
              "       [0.52040986, 0.43379217, 0.43379217],\n",
              "       [0.74031959, 0.55922927, 0.55922927],\n",
              "       [0.32227957, 0.98484982, 0.98484982],\n",
              "       [0.89398231, 0.76470969, 0.76470969],\n",
              "       [0.64600785, 0.33027317, 0.33027317],\n",
              "       [0.7792478 , 0.9230458 , 0.9230458 ],\n",
              "       [0.49184942, 0.88216761, 0.88216761],\n",
              "       [0.58868703, 0.35678096, 0.35678096],\n",
              "       [0.49017691, 0.70965728, 0.70965728],\n",
              "       [0.19817364, 0.19529934, 0.19529934],\n",
              "       [0.42635039, 0.20189938, 0.20189938],\n",
              "       [0.37181868, 0.89191146, 0.89191146],\n",
              "       [0.40938002, 0.42565602, 0.42565602],\n",
              "       [0.58809541, 0.92332517, 0.92332517],\n",
              "       [0.47265798, 0.6607727 , 0.6607727 ],\n",
              "       [0.16598389, 0.88449922, 0.88449922],\n",
              "       [0.14412233, 0.47226653, 0.47226653],\n",
              "       [0.7992987 , 0.45718351, 0.45718351],\n",
              "       [0.27911669, 0.95997683, 0.95997683],\n",
              "       [0.22481097, 0.43097766, 0.43097766],\n",
              "       [0.94460213, 0.48494894, 0.48494894],\n",
              "       [0.03324536, 0.88931488, 0.88931488],\n",
              "       [0.80462331, 0.87189789, 0.87189789],\n",
              "       [0.19145642, 0.47861569, 0.47861569],\n",
              "       [0.37670371, 0.8287306 , 0.8287306 ],\n",
              "       [0.43087292, 0.98465011, 0.98465011],\n",
              "       [0.72632445, 0.11576663, 0.11576663],\n",
              "       [0.101092  , 0.06224515, 0.06224515],\n",
              "       [0.1096588 , 0.98268548, 0.98268548]])"
            ]
          },
          "metadata": {
            "tags": []
          },
          "execution_count": 34
        }
      ]
    },
    {
      "cell_type": "code",
      "metadata": {
        "id": "IrcZW_-4NSgD"
      },
      "source": [
        "from sklearn.linear_model import SGDRegressor #사이킷 런의 선형 모델 중에 경사하강법을 적용한 모델 사용하기 위함"
      ],
      "execution_count": 35,
      "outputs": []
    },
    {
      "cell_type": "code",
      "metadata": {
        "id": "ps-OFi2ONthe"
      },
      "source": [
        "#모델 생성\n",
        "mc = SGDRegressor(max_iter=5000, tol=0.0001, eta0=0.01)"
      ],
      "execution_count": 36,
      "outputs": []
    },
    {
      "cell_type": "code",
      "metadata": {
        "id": "OCW8G71hOOZq",
        "colab": {
          "base_uri": "https://localhost:8080/"
        },
        "outputId": "063489c3-3d56-4d75-bdc0-189da6629896"
      },
      "source": [
        "#학습\n",
        "mc.fit(XD,y)"
      ],
      "execution_count": 37,
      "outputs": [
        {
          "output_type": "execute_result",
          "data": {
            "text/plain": [
              "SGDRegressor(alpha=0.0001, average=False, early_stopping=False, epsilon=0.1,\n",
              "             eta0=0.01, fit_intercept=True, l1_ratio=0.15,\n",
              "             learning_rate='invscaling', loss='squared_loss', max_iter=5000,\n",
              "             n_iter_no_change=5, penalty='l2', power_t=0.25, random_state=None,\n",
              "             shuffle=True, tol=0.0001, validation_fraction=0.1, verbose=0,\n",
              "             warm_start=False)"
            ]
          },
          "metadata": {
            "tags": []
          },
          "execution_count": 37
        }
      ]
    },
    {
      "cell_type": "code",
      "metadata": {
        "id": "tP753QDiPdgE",
        "colab": {
          "base_uri": "https://localhost:8080/"
        },
        "outputId": "09e9fbb0-9aae-4c41-b59c-681ec56416df"
      },
      "source": [
        "mc.coef_[0],mc.coef_[1],mc.coef_[2],mc.intercept_[0]"
      ],
      "execution_count": 38,
      "outputs": [
        {
          "output_type": "execute_result",
          "data": {
            "text/plain": [
              "(0.497497436849507,\n",
              " 0.003506110406327159,\n",
              " 0.003506110406327159,\n",
              " 0.8149597740187283)"
            ]
          },
          "metadata": {
            "tags": []
          },
          "execution_count": 38
        }
      ]
    },
    {
      "cell_type": "markdown",
      "metadata": {
        "id": "-agROrlpQSoA"
      },
      "source": [
        "사이킷 런의 svm.SVC- 머신러닝을 시작합시다."
      ]
    },
    {
      "cell_type": "code",
      "metadata": {
        "id": "mVAplraJQakO"
      },
      "source": [
        "from sklearn import svm #모듈 임포트"
      ],
      "execution_count": 39,
      "outputs": []
    },
    {
      "cell_type": "code",
      "metadata": {
        "id": "9z31ySKpQjd4"
      },
      "source": [
        "#학습에 사용할 데이터\n",
        "X = [[1],[2],[4],[8],[6],[9],[10],[12]]\n",
        "L = [3,5,9,17,13,19,21, 25]\n",
        "#테스트 데이터\n",
        "XT= [[5],[7]]"
      ],
      "execution_count": 40,
      "outputs": []
    },
    {
      "cell_type": "code",
      "metadata": {
        "id": "RiIvzw4TRP05",
        "colab": {
          "base_uri": "https://localhost:8080/"
        },
        "outputId": "482c09c0-2903-45d3-d325-20097cd0c701"
      },
      "source": [
        "mc2 = svm.SVC() #모델 생성\n",
        "mc2.fit(X,L) #학습\n",
        "res=mc2.predict(XT) #맞춰봐\n",
        "res\n"
      ],
      "execution_count": 41,
      "outputs": [
        {
          "output_type": "execute_result",
          "data": {
            "text/plain": [
              "array([13, 17])"
            ]
          },
          "metadata": {
            "tags": []
          },
          "execution_count": 41
        }
      ]
    },
    {
      "cell_type": "markdown",
      "metadata": {
        "id": "CVDmm5h9ULna"
      },
      "source": [
        "고생 좀 해서 만드는 퍼셉트론 이해하기"
      ]
    },
    {
      "cell_type": "code",
      "metadata": {
        "colab": {
          "base_uri": "https://localhost:8080/"
        },
        "id": "T1qb4HclUN_t",
        "outputId": "45f18a24-4a9f-4e9b-d61b-eac817746927"
      },
      "source": [
        "#두 개의 독립 변수를 갖고 하나의 결과에 수렴하는 간단한 문제를 판별하는 모델 내부 이해하기\n",
        "#라이브러리 없이 퍼셉트론 만들기\n",
        "\n",
        "#판별식: w1*x1+w2*x2+b=0\n",
        "w1,w2,b=0,0,0 #w1,w2, b 0이라고 가정\n",
        "\n",
        "def setwb(wt1,wt2,bt): #특정 가중치와 편향(임계치)로 설정하기\n",
        "  global w1,w2,b\n",
        "  w1,w2,b= wt1,wt2, bt\n",
        "def discriminate(x1,x2):  #판별식\n",
        "  if(w1*x1+w2*x2+b <=0):  #판별식보다 아래에 있을 때(판별식 상에 있을 때 포함)\n",
        "    return 0\n",
        "  else:  #판별식보다 위에 있을 때\n",
        "    return 1\n",
        "\n",
        "def test(ds,wt1,wt2,bt):  #테스트 케이스\n",
        "  setwb(wt1,wt2,b)  #전달받은 값으로 가중치와 편향을 설정\n",
        "  ok, total = 0,0\n",
        "  for x1,x2,y in ds:\n",
        "    if(discriminate(x1,x2)==y): #판별식을 적용했을 때 원하는 결과가 나온다면\n",
        "      ok+=1\n",
        "    total+=1\n",
        "  return ok/total #정답률을 반환\n",
        "\n",
        "#range와 비슷하게 동작하는 함수(실수 범위에서 실수 step으로 생성)\n",
        "#0, 0.1, 0.2, 0.3, 0.4, 0.5 처럼 실수 range를 만들어 주는 함수\n",
        "def myr(s,e,st):  #s: 범위 시작, e: 범위 끝, st: 변화폭(step)\n",
        "  r= s\n",
        "  while(r<e):\n",
        "    yield r\n",
        "    r += st\n",
        "\n",
        "#기계 학습-모델의 fit과 같은 역할을 하는 함수\n",
        "def find_wb(ds):\n",
        "  for wt1 in myr(-1,1,0.1):  #-1에서 1까지 0.1씩 증가시켜 가면서 반복하시오\n",
        "    for wt2 in myr(-1,1,0.1):  #-1에서 1까지 0.1씩 증가시켜 가면서 반복하시오\n",
        "      for bt in myr(-1,1,0.1):  #-1에서 1까지 0.1씩 증가시켜 가면서 반복하시오\n",
        "        if(test(ds,wt1,wt2,bt)==1.0):  #100점을 받았다면\n",
        "          return True  #정답을 찾았음\n",
        "  return False  #정답을 구하지 못했음\n",
        "\n",
        "ds_or=[[0,0,0],[0,1,1],[1,0,1],[1,1,1]]\n",
        "res= find_wb(ds_or)\n",
        "res,w1,w2,b"
      ],
      "execution_count": 42,
      "outputs": [
        {
          "output_type": "execute_result",
          "data": {
            "text/plain": [
              "(True, 0.09999999999999987, 0.09999999999999987, 0)"
            ]
          },
          "metadata": {
            "tags": []
          },
          "execution_count": 42
        }
      ]
    },
    {
      "cell_type": "markdown",
      "metadata": {
        "id": "cBnufFfhfUnW"
      },
      "source": [
        "온라인 상에 제공하는 머신러닝에 사용할 데이터 로딩하기"
      ]
    },
    {
      "cell_type": "code",
      "metadata": {
        "colab": {
          "base_uri": "https://localhost:8080/"
        },
        "id": "7gRl5RXofX3I",
        "outputId": "2acab159-96c1-4ccd-9405-78f282bfa0a3"
      },
      "source": [
        "import numpy as np\n",
        "import tensorflow as tf\n",
        "from tensorflow import keras\n",
        "\n",
        "(x_train, y_train),(x_test,y_test)= keras.datasets.mnist.load_data()\n",
        "x_train.shape, y_train.shape, x_test.shape, y_test.shape"
      ],
      "execution_count": 43,
      "outputs": [
        {
          "output_type": "stream",
          "text": [
            "Downloading data from https://storage.googleapis.com/tensorflow/tf-keras-datasets/mnist.npz\n",
            "11493376/11490434 [==============================] - 0s 0us/step\n"
          ],
          "name": "stdout"
        },
        {
          "output_type": "execute_result",
          "data": {
            "text/plain": [
              "((60000, 28, 28), (60000,), (10000, 28, 28), (10000,))"
            ]
          },
          "metadata": {
            "tags": []
          },
          "execution_count": 43
        }
      ]
    },
    {
      "cell_type": "code",
      "metadata": {
        "colab": {
          "base_uri": "https://localhost:8080/"
        },
        "id": "7w5IfDO3tTe6",
        "outputId": "639d93fb-5485-4795-ebc6-aca9e2ba4d90"
      },
      "source": [
        "#모델에서 사용이 가능하게 데이터를 정제화\n",
        "#y값을 카테고리컬 데이터로 변형\n",
        "#3-> [0,0,0,1,0,0,0,0,0] #3은 0일 확률0 %, 1일 확률 0%, 3일 확률 100%..\n",
        "from keras.utils import np_utils\n",
        "y_train2 = np_utils.to_categorical(y_train)\n",
        "y_train,y_train2"
      ],
      "execution_count": 44,
      "outputs": [
        {
          "output_type": "execute_result",
          "data": {
            "text/plain": [
              "(array([5, 0, 4, ..., 5, 6, 8], dtype=uint8),\n",
              " array([[0., 0., 0., ..., 0., 0., 0.],\n",
              "        [1., 0., 0., ..., 0., 0., 0.],\n",
              "        [0., 0., 0., ..., 0., 0., 0.],\n",
              "        ...,\n",
              "        [0., 0., 0., ..., 0., 0., 0.],\n",
              "        [0., 0., 0., ..., 0., 0., 0.],\n",
              "        [0., 0., 0., ..., 0., 1., 0.]], dtype=float32))"
            ]
          },
          "metadata": {
            "tags": []
          },
          "execution_count": 44
        }
      ]
    },
    {
      "cell_type": "code",
      "metadata": {
        "colab": {
          "base_uri": "https://localhost:8080/"
        },
        "id": "6Dq9sIR9wk_c",
        "outputId": "f45a59c9-41a5-45dd-a640-5b0bf99401b7"
      },
      "source": [
        "y_test2=np_utils.to_categorical(y_test)\n",
        "y_test, y_test2"
      ],
      "execution_count": 45,
      "outputs": [
        {
          "output_type": "execute_result",
          "data": {
            "text/plain": [
              "(array([7, 2, 1, ..., 4, 5, 6], dtype=uint8),\n",
              " array([[0., 0., 0., ..., 1., 0., 0.],\n",
              "        [0., 0., 1., ..., 0., 0., 0.],\n",
              "        [0., 1., 0., ..., 0., 0., 0.],\n",
              "        ...,\n",
              "        [0., 0., 0., ..., 0., 0., 0.],\n",
              "        [0., 0., 0., ..., 0., 0., 0.],\n",
              "        [0., 0., 0., ..., 0., 0., 0.]], dtype=float32))"
            ]
          },
          "metadata": {
            "tags": []
          },
          "execution_count": 45
        }
      ]
    },
    {
      "cell_type": "code",
      "metadata": {
        "colab": {
          "base_uri": "https://localhost:8080/"
        },
        "id": "qkSwkz8YxBKS",
        "outputId": "76b83855-874e-428f-938f-1ee84e7ef340"
      },
      "source": [
        "#28*28구조의 이미지를 784*1의 구조로 변환\n",
        "x_train2= x_train.reshape(-1,28*28)\n",
        "x_test2= x_test.reshape(-1,28*28)\n",
        "x_train2,x_train,x_test2, x_test"
      ],
      "execution_count": 53,
      "outputs": [
        {
          "output_type": "execute_result",
          "data": {
            "text/plain": [
              "(array([[0, 0, 0, ..., 0, 0, 0],\n",
              "        [0, 0, 0, ..., 0, 0, 0],\n",
              "        [0, 0, 0, ..., 0, 0, 0],\n",
              "        ...,\n",
              "        [0, 0, 0, ..., 0, 0, 0],\n",
              "        [0, 0, 0, ..., 0, 0, 0],\n",
              "        [0, 0, 0, ..., 0, 0, 0]], dtype=uint8),\n",
              " array([[[0, 0, 0, ..., 0, 0, 0],\n",
              "         [0, 0, 0, ..., 0, 0, 0],\n",
              "         [0, 0, 0, ..., 0, 0, 0],\n",
              "         ...,\n",
              "         [0, 0, 0, ..., 0, 0, 0],\n",
              "         [0, 0, 0, ..., 0, 0, 0],\n",
              "         [0, 0, 0, ..., 0, 0, 0]],\n",
              " \n",
              "        [[0, 0, 0, ..., 0, 0, 0],\n",
              "         [0, 0, 0, ..., 0, 0, 0],\n",
              "         [0, 0, 0, ..., 0, 0, 0],\n",
              "         ...,\n",
              "         [0, 0, 0, ..., 0, 0, 0],\n",
              "         [0, 0, 0, ..., 0, 0, 0],\n",
              "         [0, 0, 0, ..., 0, 0, 0]],\n",
              " \n",
              "        [[0, 0, 0, ..., 0, 0, 0],\n",
              "         [0, 0, 0, ..., 0, 0, 0],\n",
              "         [0, 0, 0, ..., 0, 0, 0],\n",
              "         ...,\n",
              "         [0, 0, 0, ..., 0, 0, 0],\n",
              "         [0, 0, 0, ..., 0, 0, 0],\n",
              "         [0, 0, 0, ..., 0, 0, 0]],\n",
              " \n",
              "        ...,\n",
              " \n",
              "        [[0, 0, 0, ..., 0, 0, 0],\n",
              "         [0, 0, 0, ..., 0, 0, 0],\n",
              "         [0, 0, 0, ..., 0, 0, 0],\n",
              "         ...,\n",
              "         [0, 0, 0, ..., 0, 0, 0],\n",
              "         [0, 0, 0, ..., 0, 0, 0],\n",
              "         [0, 0, 0, ..., 0, 0, 0]],\n",
              " \n",
              "        [[0, 0, 0, ..., 0, 0, 0],\n",
              "         [0, 0, 0, ..., 0, 0, 0],\n",
              "         [0, 0, 0, ..., 0, 0, 0],\n",
              "         ...,\n",
              "         [0, 0, 0, ..., 0, 0, 0],\n",
              "         [0, 0, 0, ..., 0, 0, 0],\n",
              "         [0, 0, 0, ..., 0, 0, 0]],\n",
              " \n",
              "        [[0, 0, 0, ..., 0, 0, 0],\n",
              "         [0, 0, 0, ..., 0, 0, 0],\n",
              "         [0, 0, 0, ..., 0, 0, 0],\n",
              "         ...,\n",
              "         [0, 0, 0, ..., 0, 0, 0],\n",
              "         [0, 0, 0, ..., 0, 0, 0],\n",
              "         [0, 0, 0, ..., 0, 0, 0]]], dtype=uint8),\n",
              " array([[0, 0, 0, ..., 0, 0, 0],\n",
              "        [0, 0, 0, ..., 0, 0, 0],\n",
              "        [0, 0, 0, ..., 0, 0, 0],\n",
              "        ...,\n",
              "        [0, 0, 0, ..., 0, 0, 0],\n",
              "        [0, 0, 0, ..., 0, 0, 0],\n",
              "        [0, 0, 0, ..., 0, 0, 0]], dtype=uint8),\n",
              " array([[[0, 0, 0, ..., 0, 0, 0],\n",
              "         [0, 0, 0, ..., 0, 0, 0],\n",
              "         [0, 0, 0, ..., 0, 0, 0],\n",
              "         ...,\n",
              "         [0, 0, 0, ..., 0, 0, 0],\n",
              "         [0, 0, 0, ..., 0, 0, 0],\n",
              "         [0, 0, 0, ..., 0, 0, 0]],\n",
              " \n",
              "        [[0, 0, 0, ..., 0, 0, 0],\n",
              "         [0, 0, 0, ..., 0, 0, 0],\n",
              "         [0, 0, 0, ..., 0, 0, 0],\n",
              "         ...,\n",
              "         [0, 0, 0, ..., 0, 0, 0],\n",
              "         [0, 0, 0, ..., 0, 0, 0],\n",
              "         [0, 0, 0, ..., 0, 0, 0]],\n",
              " \n",
              "        [[0, 0, 0, ..., 0, 0, 0],\n",
              "         [0, 0, 0, ..., 0, 0, 0],\n",
              "         [0, 0, 0, ..., 0, 0, 0],\n",
              "         ...,\n",
              "         [0, 0, 0, ..., 0, 0, 0],\n",
              "         [0, 0, 0, ..., 0, 0, 0],\n",
              "         [0, 0, 0, ..., 0, 0, 0]],\n",
              " \n",
              "        ...,\n",
              " \n",
              "        [[0, 0, 0, ..., 0, 0, 0],\n",
              "         [0, 0, 0, ..., 0, 0, 0],\n",
              "         [0, 0, 0, ..., 0, 0, 0],\n",
              "         ...,\n",
              "         [0, 0, 0, ..., 0, 0, 0],\n",
              "         [0, 0, 0, ..., 0, 0, 0],\n",
              "         [0, 0, 0, ..., 0, 0, 0]],\n",
              " \n",
              "        [[0, 0, 0, ..., 0, 0, 0],\n",
              "         [0, 0, 0, ..., 0, 0, 0],\n",
              "         [0, 0, 0, ..., 0, 0, 0],\n",
              "         ...,\n",
              "         [0, 0, 0, ..., 0, 0, 0],\n",
              "         [0, 0, 0, ..., 0, 0, 0],\n",
              "         [0, 0, 0, ..., 0, 0, 0]],\n",
              " \n",
              "        [[0, 0, 0, ..., 0, 0, 0],\n",
              "         [0, 0, 0, ..., 0, 0, 0],\n",
              "         [0, 0, 0, ..., 0, 0, 0],\n",
              "         ...,\n",
              "         [0, 0, 0, ..., 0, 0, 0],\n",
              "         [0, 0, 0, ..., 0, 0, 0],\n",
              "         [0, 0, 0, ..., 0, 0, 0]]], dtype=uint8))"
            ]
          },
          "metadata": {
            "tags": []
          },
          "execution_count": 53
        }
      ]
    },
    {
      "cell_type": "code",
      "metadata": {
        "id": "scR4Xajnxl1F"
      },
      "source": [
        "x_train3=x_train2/255.0 #수치를 0~1.0사이의 수로 변환\n",
        "x_test3=x_test2/255.0 #수치를 0~1.0사이의 수로 변환"
      ],
      "execution_count": 54,
      "outputs": []
    },
    {
      "cell_type": "code",
      "metadata": {
        "id": "gMeyeEsbhkE5"
      },
      "source": [
        "from keras import layers,models"
      ],
      "execution_count": 55,
      "outputs": []
    },
    {
      "cell_type": "code",
      "metadata": {
        "id": "tT_nsQNEqTup"
      },
      "source": [
        "#모델 생성\n",
        "model = keras.models.Sequential()\n",
        "[ ]\n",
        "#계층 추가\n",
        "model.add(keras.layers.Dense(100,activation=\"relu\",input_shape=(784,)))\n",
        "model.add(layers.Dense(28,activation=\"relu\"))\n",
        "model.add(layers.Dense(10,activation='softmax'))\n",
        "[ ]\n",
        "#모델 컴파일\n",
        "model.compile(loss ='categorical_crossentropy',optimizer='adam',metrics=['accuracy'])\n"
      ],
      "execution_count": 56,
      "outputs": []
    },
    {
      "cell_type": "code",
      "metadata": {
        "colab": {
          "base_uri": "https://localhost:8080/"
        },
        "id": "ZDXsv4Wss2SZ",
        "outputId": "47f1f328-22c8-408a-d0bf-02effb9cc21b"
      },
      "source": [
        "#학습\n",
        "model.fit(x_train3,y_train2,epochs=15)"
      ],
      "execution_count": 57,
      "outputs": [
        {
          "output_type": "stream",
          "text": [
            "Epoch 1/15\n",
            "1875/1875 [==============================] - 4s 2ms/step - loss: 0.2700 - accuracy: 0.9219\n",
            "Epoch 2/15\n",
            "1875/1875 [==============================] - 4s 2ms/step - loss: 0.1188 - accuracy: 0.9639\n",
            "Epoch 3/15\n",
            "1875/1875 [==============================] - 4s 2ms/step - loss: 0.0837 - accuracy: 0.9745\n",
            "Epoch 4/15\n",
            "1875/1875 [==============================] - 4s 2ms/step - loss: 0.0631 - accuracy: 0.9804\n",
            "Epoch 5/15\n",
            "1875/1875 [==============================] - 4s 2ms/step - loss: 0.0511 - accuracy: 0.9839\n",
            "Epoch 6/15\n",
            "1875/1875 [==============================] - 4s 2ms/step - loss: 0.0425 - accuracy: 0.9862\n",
            "Epoch 7/15\n",
            "1875/1875 [==============================] - 4s 2ms/step - loss: 0.0345 - accuracy: 0.9887\n",
            "Epoch 8/15\n",
            "1875/1875 [==============================] - 4s 2ms/step - loss: 0.0287 - accuracy: 0.9905\n",
            "Epoch 9/15\n",
            "1875/1875 [==============================] - 4s 2ms/step - loss: 0.0247 - accuracy: 0.9922\n",
            "Epoch 10/15\n",
            "1875/1875 [==============================] - 4s 2ms/step - loss: 0.0213 - accuracy: 0.9927\n",
            "Epoch 11/15\n",
            "1875/1875 [==============================] - 4s 2ms/step - loss: 0.0189 - accuracy: 0.9936\n",
            "Epoch 12/15\n",
            "1875/1875 [==============================] - 4s 2ms/step - loss: 0.0190 - accuracy: 0.9937\n",
            "Epoch 13/15\n",
            "1875/1875 [==============================] - 4s 2ms/step - loss: 0.0153 - accuracy: 0.9949\n",
            "Epoch 14/15\n",
            "1875/1875 [==============================] - 4s 2ms/step - loss: 0.0164 - accuracy: 0.9944\n",
            "Epoch 15/15\n",
            "1875/1875 [==============================] - 4s 2ms/step - loss: 0.0131 - accuracy: 0.9958\n"
          ],
          "name": "stdout"
        },
        {
          "output_type": "execute_result",
          "data": {
            "text/plain": [
              "<tensorflow.python.keras.callbacks.History at 0x7f2235b2dc90>"
            ]
          },
          "metadata": {
            "tags": []
          },
          "execution_count": 57
        }
      ]
    },
    {
      "cell_type": "code",
      "metadata": {
        "colab": {
          "base_uri": "https://localhost:8080/"
        },
        "id": "zQllm00nzVvS",
        "outputId": "637e25de-b9a1-4a05-cab6-1650515df6f3"
      },
      "source": [
        "#학습한 것을 토대로 잘 학습했는지 평가\n",
        "score=model.evaluate(x_test3,y_test2)\n",
        "score"
      ],
      "execution_count": 58,
      "outputs": [
        {
          "output_type": "stream",
          "text": [
            "313/313 [==============================] - 1s 1ms/step - loss: 0.0994 - accuracy: 0.9780\n"
          ],
          "name": "stdout"
        },
        {
          "output_type": "execute_result",
          "data": {
            "text/plain": [
              "[0.09944011270999908, 0.9779999852180481]"
            ]
          },
          "metadata": {
            "tags": []
          },
          "execution_count": 58
        }
      ]
    }
  ]
}