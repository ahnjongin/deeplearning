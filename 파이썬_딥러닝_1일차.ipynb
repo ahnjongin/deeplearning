{
  "nbformat": 4,
  "nbformat_minor": 0,
  "metadata": {
    "colab": {
      "name": "파이썬-딥러닝 1일차.ipynb",
      "provenance": [],
      "collapsed_sections": [],
      "authorship_tag": "ABX9TyOWcI24McMm++xkHGdmnwR6",
      "include_colab_link": true
    },
    "kernelspec": {
      "name": "python3",
      "display_name": "Python 3"
    },
    "language_info": {
      "name": "python"
    }
  },
  "cells": [
    {
      "cell_type": "markdown",
      "metadata": {
        "id": "view-in-github",
        "colab_type": "text"
      },
      "source": [
        "<a href=\"https://colab.research.google.com/github/ahnjongin/deeplearning/blob/main/%ED%8C%8C%EC%9D%B4%EC%8D%AC_%EB%94%A5%EB%9F%AC%EB%8B%9D_1%EC%9D%BC%EC%B0%A8.ipynb\" target=\"_parent\"><img src=\"https://colab.research.google.com/assets/colab-badge.svg\" alt=\"Open In Colab\"/></a>"
      ]
    },
    {
      "cell_type": "markdown",
      "metadata": {
        "id": "zI-_P9haEMfl"
      },
      "source": [
        "파이썬 개요-조건문"
      ]
    },
    {
      "cell_type": "code",
      "metadata": {
        "id": "cfPcmwJCEQun"
      },
      "source": [
        "flag=int(input(\"학생이면 1, 아니면 0\"))\n",
        "if(flag!=1):\n",
        "  print(\"학생이 아니군요..\")\n",
        "else:\n",
        "  print(\"학생이군요\") "
      ],
      "execution_count": null,
      "outputs": []
    },
    {
      "cell_type": "markdown",
      "metadata": {
        "id": "3xXKOqbcFDLx"
      },
      "source": [
        "파이썬 개요-반복문"
      ]
    },
    {
      "cell_type": "code",
      "metadata": {
        "colab": {
          "base_uri": "https://localhost:8080/"
        },
        "id": "wPIw-JyiFF2a",
        "outputId": "08acc778-93c9-49fc-9f7f-6617eec211d4"
      },
      "source": [
        "lcnt =1\n",
        "sum=0\n",
        "while(lcnt<=100):\n",
        "  sum+=lcnt\n",
        "  lcnt+=1\n",
        "print(sum)"
      ],
      "execution_count": null,
      "outputs": [
        {
          "output_type": "stream",
          "text": [
            "5050\n"
          ],
          "name": "stdout"
        }
      ]
    },
    {
      "cell_type": "code",
      "metadata": {
        "colab": {
          "base_uri": "https://localhost:8080/"
        },
        "id": "qXK_2_sqFqvk",
        "outputId": "5cb00ceb-251a-435f-9767-6cb43c3a0670"
      },
      "source": [
        "items=[\"국어\",\"영어\",\"수학\"]\n",
        "for subject in items:\n",
        "  print(subject)"
      ],
      "execution_count": null,
      "outputs": [
        {
          "output_type": "stream",
          "text": [
            "국어\n",
            "영어\n",
            "수학\n"
          ],
          "name": "stdout"
        }
      ]
    },
    {
      "cell_type": "code",
      "metadata": {
        "colab": {
          "base_uri": "https://localhost:8080/"
        },
        "id": "PyBfjpw9GIpS",
        "outputId": "41a0472b-3a30-4bca-9f58-bde189fde032"
      },
      "source": [
        "sum=0\n",
        "for i in range(1,100):\n",
        "  sum+=i\n",
        "print(sum)"
      ],
      "execution_count": null,
      "outputs": [
        {
          "output_type": "stream",
          "text": [
            "4950\n"
          ],
          "name": "stdout"
        }
      ]
    },
    {
      "cell_type": "markdown",
      "metadata": {
        "id": "fg4pL1Q7GoLH"
      },
      "source": [
        "파이썬 개요-함수"
      ]
    },
    {
      "cell_type": "code",
      "metadata": {
        "colab": {
          "base_uri": "https://localhost:8080/"
        },
        "id": "PakiW3a1Grb5",
        "outputId": "2fa0fb24-4312-4596-df63-d8c197050b55"
      },
      "source": [
        "def FunA():\n",
        "  print(\"안종인\")\n",
        "def FunB():\n",
        "  print(\"안준영\")\n",
        "def FunC():\n",
        "  print(\"안준준\")\n",
        "\n",
        "FunA()\n",
        "FunB()\n",
        "FunC()"
      ],
      "execution_count": null,
      "outputs": [
        {
          "output_type": "stream",
          "text": [
            "안종인\n",
            "안준영\n",
            "안준준\n"
          ],
          "name": "stdout"
        }
      ]
    },
    {
      "cell_type": "code",
      "metadata": {
        "colab": {
          "base_uri": "https://localhost:8080/"
        },
        "id": "wpWjjD-yH59z",
        "outputId": "359076f2-4947-40c2-d3b8-a2e79a0eac5b"
      },
      "source": [
        "def CalculSum(start,end):\n",
        "  sum=0\n",
        "  for i in range(start,end+1):\n",
        "    sum += i\n",
        "  return sum\n",
        "  \n",
        "print(CalculSum(1,100))"
      ],
      "execution_count": null,
      "outputs": [
        {
          "output_type": "stream",
          "text": [
            "5050\n"
          ],
          "name": "stdout"
        }
      ]
    },
    {
      "cell_type": "code",
      "metadata": {
        "id": "N-6QHRnccnwx"
      },
      "source": [
        "import urllib.request\n",
        "import json\n",
        "def searchbook(title):\n",
        "  client_id=\"bOAumkpzmi4oThG5kN2e\"\n",
        "  client_secret=\"pOsWpxRZNC\"\n",
        "\n",
        "  url= \"https://openapi.naver.com/v1/search/book.json\"\n",
        "  option=\"&display=3&sort=count\"\n",
        "  query=\"?query=\"+urllib.parse.quote(title)\n",
        "\n",
        "  url_query=url+query+option\n",
        "#https://openapi.naver.com/v1/search/book.json?query=[입력내용]&display=3&sort=count\n",
        "  request=urllib.request.Request(url_query)\n",
        "  request.add_header(\"X-Naver-Client-Id\",client_id)\n",
        "  request.add_header(\"X-Naver-Client-Secret\",client_secret)\n",
        "\n",
        "#open API 요청\n",
        "  response=urllib.request.urlopen(request)\n",
        "  rescode=response.getcode()\n",
        "\n",
        "  if(rescode==200): #성공\n",
        "    response_body=response.read()\n",
        "    return response_body.decode('utf-8')\n",
        "  else:\n",
        "    return None"
      ],
      "execution_count": null,
      "outputs": []
    },
    {
      "cell_type": "code",
      "metadata": {
        "id": "_VvL4rh3gpMo"
      },
      "source": [
        "def showitem(item):\n",
        "  print(\"제목:\"+item['title'])\n",
        "  print(\"설명:\"+item['description'])\n",
        "  print(\"url:\"+item['link'])\n",
        "  print(\"===================\")"
      ],
      "execution_count": null,
      "outputs": []
    },
    {
      "cell_type": "code",
      "metadata": {
        "colab": {
          "base_uri": "https://localhost:8080/"
        },
        "id": "KWMVqp7ajNAs",
        "outputId": "a5b1fb10-c3f2-4663-f1c0-adf3b0a27741"
      },
      "source": [
        "  res=searchbook(input(\"질의:\"))\n",
        "  if(res==None):\n",
        "    print(\"검색 실패!!\")\n",
        "  else:\n",
        "    jres=json.loads(res)\n",
        "    if(jres==None):\n",
        "      print(\"json.loads 실패!!!\")\n",
        "    else:\n",
        "      for post in jres['items']:\n",
        "        showitem(post)"
      ],
      "execution_count": null,
      "outputs": [
        {
          "output_type": "stream",
          "text": [
            "질의:행복\n",
            "제목:완전한 <b>행복</b> (정유정 장편소설)\n",
            "설명:《완전한 <b>행복</b>》으로 돌아왔다. 500여 쪽을 꽉 채운 압도적인 서사와 적재적소를 타격하는 속도감... 《완전한 <b>행복</b>》은 버스도 다니지 않는 버려진 시골집에서 늪에 사는 오리들을 먹이기 위해 오리... 얼굴을 맞대고 웃고 있지만 그들이 추구하는 서로 다른 <b>행복</b>은 서서히 불협화음을 만들어낸다. 이 기묘한... \n",
            "url:http://book.naver.com/bookdb/book_detail.php?bid=20578083\n",
            "===================\n",
            "제목:곰돌이 푸, <b>행복</b>한 일은 매일 있어 (아직 <b>행복</b>을 기다리는 우리에게)\n",
            "설명:이 책 『곰돌이 푸, <b>행복</b>한 일은 매일 있어』는 곰돌이 푸의 긍정적인 기운과 ‘나의 삶은 나의 방식으로 정한다’라고 말했던 독일의 철학자 니체의 말... <b>행복</b>은 여전히 먼 곳에 있고, 나는 어떤 사람인지, 나는 무엇을 할 때 <b>행복</b>했는지에 대한 기억도 점차 흐려져 오늘도 ‘<b>행복</b>’을 찾는 일이 영 요원하게... \n",
            "url:http://book.naver.com/bookdb/book_detail.php?bid=13394898\n",
            "===================\n",
            "제목:법륜 스님의 <b>행복</b> (<b>행복</b>해지고 싶지만 길을 몰라 헤매는 당신에게)\n",
            "설명:당신은 <b>행복</b>해질 권리가 있다법륜 스님은 지난 30년 동안 우리나라 전국방방곡곡은 물론 세계 115개 도시의 강연장과 길 위에서 수많은 사람들을 만나왔다.... 일견 다 다른 질문 같지만 자세히 들여다보면 문제는 결국 ‘<b>행복</b>’이다.\n",
            "\n",
            "『법륜 스님의 <b>행복</b>』은 그 간절한 물음에 대한 응답이다. 수많은 사람들이... \n",
            "url:http://book.naver.com/bookdb/book_detail.php?bid=10037014\n",
            "===================\n"
          ],
          "name": "stdout"
        }
      ]
    },
    {
      "cell_type": "markdown",
      "metadata": {
        "id": "ExE02Q_A2XAl"
      },
      "source": [
        "파이썬 개요-Open API활용(XML)"
      ]
    },
    {
      "cell_type": "code",
      "metadata": {
        "id": "r9Ogy9nx2eLd"
      },
      "source": [
        "import urllib.request\n",
        "from bs4 import BeautifulSoup\n",
        "import pandas as pd\n",
        "\n",
        "def searchbook2(title):\n",
        "  client_id=\"bOAumkpzmi4oThG5kN2e\"\n",
        "  client_secret=\"pOsWpxRZNC\"\n",
        "#쿼리 문자열 : 사이트주소?인자명=값&인자명=값...\n",
        "  url = \"https://openapi.naver.com/v1/search/book.xml\"\n",
        "\n",
        "  option=\"&display=3&sort=count\"\n",
        "\n",
        "  query=\"?query=\"+urllib.parse.quote(title)  \n",
        "\n",
        "  url_query=url+query+option #https://openapi.naver.com/v1/search/book.xml?query=[입력]&display=3&sort=count\n",
        "\n",
        "  request=urllib.request.Request(url_query)\n",
        "  request.add_header(\"X-Naver-Client-Id\",client_id)\n",
        "  request.add_header(\"X-Naver-Client-Secret\",client_secret)\n",
        "\n",
        "  response=urllib.request.urlopen(request)\n",
        "  if response.getcode() != 200:\n",
        "    return None\n",
        "  else:\n",
        "   return response.read().decode('utf-8')\n"
      ],
      "execution_count": null,
      "outputs": []
    },
    {
      "cell_type": "code",
      "metadata": {
        "id": "NznzP6Gy4Stz"
      },
      "source": [
        "def showitem2(item):\n",
        "  print(\"<<<<===\")\n",
        "  print(\"제목:\",item.title.get_text())\n",
        "  print(\"설명:\"+item.description.get_text())\n",
        "  print(\"====>>>>\")"
      ],
      "execution_count": null,
      "outputs": []
    },
    {
      "cell_type": "code",
      "metadata": {
        "id": "QhxDgmjl83CU"
      },
      "source": [
        "def makeexcel(items,path):\n",
        "  result=[]\n",
        "  for item in items:\n",
        "    result.append([item.title.get_text()]+[item.description.get_text()])\n",
        "  table=pd.DataFrame(result,columns=('title','description'))\n",
        "  table.to_excel(path)"
      ],
      "execution_count": null,
      "outputs": []
    },
    {
      "cell_type": "code",
      "metadata": {
        "id": "_416V-3PVXqG"
      },
      "source": [
        "def main():\n",
        "  title=input(\"제목:\")\n",
        "  res=searchbook2(title)\n",
        "  if(res==None):\n",
        "    print(\"검색실패!!\")\n",
        "    exit()\n",
        "  xmlsoup=BeautifulSoup(res,'html.parser')\n",
        "  items=xmlsoup.find_all('item')\n",
        "  for item in items:\n",
        "    showitem2(item)\n",
        "  makeexcel(items,\"data.xlsx\")"
      ],
      "execution_count": null,
      "outputs": []
    },
    {
      "cell_type": "code",
      "metadata": {
        "colab": {
          "base_uri": "https://localhost:8080/"
        },
        "id": "dDvC6-m0OPWU",
        "outputId": "de8c0865-0659-4ffc-aac2-efabc2463fff"
      },
      "source": [
        "main()"
      ],
      "execution_count": null,
      "outputs": [
        {
          "output_type": "stream",
          "text": [
            "제목:행복\n",
            "<<<<===\n",
            "제목: 완전한 <b>행복</b> (정유정 장편소설)\n",
            "설명:《완전한 <b>행복</b>》으로 돌아왔다. 500여 쪽을 꽉 채운 압도적인 서사와 적재적소를 타격하는 속도감... 《완전한 <b>행복</b>》은 버스도 다니지 않는 버려진 시골집에서 늪에 사는 오리들을 먹이기 위해 오리... 얼굴을 맞대고 웃고 있지만 그들이 추구하는 서로 다른 <b>행복</b>은 서서히 불협화음을 만들어낸다. 이 기묘한... \n",
            "====>>>>\n",
            "<<<<===\n",
            "제목: 곰돌이 푸, <b>행복</b>한 일은 매일 있어 (아직 <b>행복</b>을 기다리는 우리에게)\n",
            "설명:이 책 『곰돌이 푸, <b>행복</b>한 일은 매일 있어』는 곰돌이 푸의 긍정적인 기운과 ‘나의 삶은 나의 방식으로 정한다’라고 말했던 독일의 철학자 니체의 말... <b>행복</b>은 여전히 먼 곳에 있고, 나는 어떤 사람인지, 나는 무엇을 할 때 <b>행복</b>했는지에 대한 기억도 점차 흐려져 오늘도 ‘<b>행복</b>’을 찾는 일이 영 요원하게... \n",
            "====>>>>\n",
            "<<<<===\n",
            "제목: 법륜 스님의 <b>행복</b> (<b>행복</b>해지고 싶지만 길을 몰라 헤매는 당신에게)\n",
            "설명:당신은 <b>행복</b>해질 권리가 있다법륜 스님은 지난 30년 동안 우리나라 전국방방곡곡은 물론 세계 115개 도시의 강연장과 길 위에서 수많은 사람들을 만나왔다.... 일견 다 다른 질문 같지만 자세히 들여다보면 문제는 결국 ‘<b>행복</b>’이다.\n",
            "\n",
            "『법륜 스님의 <b>행복</b>』은 그 간절한 물음에 대한 응답이다. 수많은 사람들이... \n",
            "====>>>>\n"
          ],
          "name": "stdout"
        }
      ]
    },
    {
      "cell_type": "markdown",
      "metadata": {
        "id": "4dxBYuYEDXUP"
      },
      "source": [
        "파이썬 개요-도표그리기"
      ]
    },
    {
      "cell_type": "code",
      "metadata": {
        "colab": {
          "base_uri": "https://localhost:8080/",
          "height": 265
        },
        "id": "6s5Rw_puDZMr",
        "outputId": "2d9ffd8f-6c7b-4e0a-915d-83b65efb271d"
      },
      "source": [
        "import matplotlib.pyplot as plt\n",
        "\n",
        "plt.plot([1,2,3,4])\n",
        "plt.show()"
      ],
      "execution_count": null,
      "outputs": [
        {
          "output_type": "display_data",
          "data": {
            "image/png": "[encoded data removed]",
            "text/plain": [
              "<Figure size 432x288 with 1 Axes>"
            ]
          },
          "metadata": {
            "tags": [],
            "needs_background": "light"
          }
        }
      ]
    },
    {
      "cell_type": "code",
      "metadata": {
        "colab": {
          "base_uri": "https://localhost:8080/",
          "height": 265
        },
        "id": "A_xclKQFEENe",
        "outputId": "2106ab2a-3094-49b3-d9b2-52917c1e5a70"
      },
      "source": [
        "plt.plot([1,2,3,4],[2,3,4,5]) #plt.plot(x,y)\n",
        "plt.show()"
      ],
      "execution_count": null,
      "outputs": [
        {
          "output_type": "display_data",
          "data": {
            "image/png": "[encoded data removed]",
            "text/plain": [
              "<Figure size 432x288 with 1 Axes>"
            ]
          },
          "metadata": {
            "tags": [],
            "needs_background": "light"
          }
        }
      ]
    },
    {
      "cell_type": "code",
      "metadata": {
        "colab": {
          "base_uri": "https://localhost:8080/",
          "height": 283
        },
        "id": "XxjkmfdjEwTy",
        "outputId": "02fad3d8-faca-4d79-8860-1a280845d95b"
      },
      "source": [
        "plt.plot([1,2,3,4],[3,4,5,6],'go')"
      ],
      "execution_count": null,
      "outputs": [
        {
          "output_type": "execute_result",
          "data": {
            "text/plain": [
              "[<matplotlib.lines.Line2D at 0x7fd1472feed0>]"
            ]
          },
          "metadata": {
            "tags": []
          },
          "execution_count": 81
        },
        {
          "output_type": "display_data",
          "data": {
            "image/png": "[encoded data removed]",
            "text/plain": [
              "<Figure size 432x288 with 1 Axes>"
            ]
          },
          "metadata": {
            "tags": [],
            "needs_background": "light"
          }
        }
      ]
    },
    {
      "cell_type": "code",
      "metadata": {
        "colab": {
          "base_uri": "https://localhost:8080/",
          "height": 301
        },
        "id": "A7EMQTXsFDm2",
        "outputId": "b8cecf97-8a45-4119-91b5-149dbc3940a0"
      },
      "source": [
        "plt.plot([1,2,3,4],[3,4,5,6],'go',[1,2,3,4],[5,7,3,9],'r')"
      ],
      "execution_count": null,
      "outputs": [
        {
          "output_type": "execute_result",
          "data": {
            "text/plain": [
              "[<matplotlib.lines.Line2D at 0x7fd147203550>,\n",
              " <matplotlib.lines.Line2D at 0x7fd1472033d0>]"
            ]
          },
          "metadata": {
            "tags": []
          },
          "execution_count": 83
        },
        {
          "output_type": "display_data",
          "data": {
            "image/png": "[encoded data removed]",
            "text/plain": [
              "<Figure size 432x288 with 1 Axes>"
            ]
          },
          "metadata": {
            "tags": [],
            "needs_background": "light"
          }
        }
      ]
    },
    {
      "cell_type": "code",
      "metadata": {
        "colab": {
          "base_uri": "https://localhost:8080/",
          "height": 319
        },
        "id": "y1tj5FpKFxWf",
        "outputId": "dddf1a63-0478-4819-c014-18b14de081ab"
      },
      "source": [
        "plt.plot([1],'bo',[2],'go',[3],'ro')"
      ],
      "execution_count": null,
      "outputs": [
        {
          "output_type": "execute_result",
          "data": {
            "text/plain": [
              "[<matplotlib.lines.Line2D at 0x7fd1470c9990>,\n",
              " <matplotlib.lines.Line2D at 0x7fd1470c9810>,\n",
              " <matplotlib.lines.Line2D at 0x7fd1470c9d10>]"
            ]
          },
          "metadata": {
            "tags": []
          },
          "execution_count": 85
        },
        {
          "output_type": "display_data",
          "data": {
            "image/png": "[encoded data removed]",
            "text/plain": [
              "<Figure size 432x288 with 1 Axes>"
            ]
          },
          "metadata": {
            "tags": [],
            "needs_background": "light"
          }
        }
      ]
    },
    {
      "cell_type": "code",
      "metadata": {
        "colab": {
          "base_uri": "https://localhost:8080/",
          "height": 319
        },
        "id": "RA_gbDIZGcvc",
        "outputId": "e6afda56-be96-415e-ff50-b94d133a45bb"
      },
      "source": [
        "plt.plot([1,2,3],'-',[2,3,4],'-',[3,4,5],'-.')"
      ],
      "execution_count": null,
      "outputs": [
        {
          "output_type": "execute_result",
          "data": {
            "text/plain": [
              "[<matplotlib.lines.Line2D at 0x7fd1470a8c50>,\n",
              " <matplotlib.lines.Line2D at 0x7fd1470a8790>,\n",
              " <matplotlib.lines.Line2D at 0x7fd1470a8290>]"
            ]
          },
          "metadata": {
            "tags": []
          },
          "execution_count": 86
        },
        {
          "output_type": "display_data",
          "data": {
            "image/png": "[encoded data removed]",
            "text/plain": [
              "<Figure size 432x288 with 1 Axes>"
            ]
          },
          "metadata": {
            "tags": [],
            "needs_background": "light"
          }
        }
      ]
    },
    {
      "cell_type": "markdown",
      "metadata": {
        "id": "OyD8qK_EKGsK"
      },
      "source": [
        "파이썬 개요-pandas Series"
      ]
    },
    {
      "cell_type": "code",
      "metadata": {
        "colab": {
          "base_uri": "https://localhost:8080/"
        },
        "id": "23hjogwMKMaN",
        "outputId": "b415034e-53c4-482f-e7c3-03ec5bf182d7"
      },
      "source": [
        "import pandas as pd\n",
        "scores=[85,34,65,78,94]\n",
        "\n",
        "psl=pd.Series(scores)\n",
        "print(psl)\n"
      ],
      "execution_count": null,
      "outputs": [
        {
          "output_type": "stream",
          "text": [
            "0    85\n",
            "1    34\n",
            "2    65\n",
            "3    78\n",
            "4    94\n",
            "dtype: int64\n"
          ],
          "name": "stdout"
        }
      ]
    },
    {
      "cell_type": "code",
      "metadata": {
        "colab": {
          "base_uri": "https://localhost:8080/",
          "height": 111
        },
        "id": "DGCtqytjLWIf",
        "outputId": "a2053e10-e7ae-4477-e8fe-a58060551555"
      },
      "source": [
        "x_list=[1,2,3,4]\n",
        "y_list=[10,90,44,23]\n",
        "df=pd.DataFrame([x_list,y_list])\n",
        "df"
      ],
      "execution_count": null,
      "outputs": [
        {
          "output_type": "execute_result",
          "data": {
            "text/html": [
              "<div>\n",
              "<style scoped>\n",
              "    .dataframe tbody tr th:only-of-type {\n",
              "        vertical-align: middle;\n",
              "    }\n",
              "\n",
              "    .dataframe tbody tr th {\n",
              "        vertical-align: top;\n",
              "    }\n",
              "\n",
              "    .dataframe thead th {\n",
              "        text-align: right;\n",
              "    }\n",
              "</style>\n",
              "<table border=\"1\" class=\"dataframe\">\n",
              "  <thead>\n",
              "    <tr style=\"text-align: right;\">\n",
              "      <th></th>\n",
              "      <th>0</th>\n",
              "      <th>1</th>\n",
              "      <th>2</th>\n",
              "      <th>3</th>\n",
              "    </tr>\n",
              "  </thead>\n",
              "  <tbody>\n",
              "    <tr>\n",
              "      <th>0</th>\n",
              "      <td>1</td>\n",
              "      <td>2</td>\n",
              "      <td>3</td>\n",
              "      <td>4</td>\n",
              "    </tr>\n",
              "    <tr>\n",
              "      <th>1</th>\n",
              "      <td>10</td>\n",
              "      <td>90</td>\n",
              "      <td>44</td>\n",
              "      <td>23</td>\n",
              "    </tr>\n",
              "  </tbody>\n",
              "</table>\n",
              "</div>"
            ],
            "text/plain": [
              "    0   1   2   3\n",
              "0   1   2   3   4\n",
              "1  10  90  44  23"
            ]
          },
          "metadata": {
            "tags": []
          },
          "execution_count": 97
        }
      ]
    },
    {
      "cell_type": "markdown",
      "metadata": {
        "id": "Nz_BGU-fHuUo"
      },
      "source": [
        "# 새 섹션"
      ]
    },
    {
      "cell_type": "markdown",
      "metadata": {
        "id": "6GXSU5tdL5WR"
      },
      "source": [
        "• 헤더"
      ]
    },
    {
      "cell_type": "code",
      "metadata": {
        "colab": {
          "base_uri": "https://localhost:8080/",
          "height": 111
        },
        "id": "CgmyKNY4L91n",
        "outputId": "290b3768-40a3-460d-a3bb-be44c22ae1c4"
      },
      "source": [
        "rh=[\"번호\",\"점수\"]\n",
        "df2=pd.DataFrame([x_list,y_list],index=rh)\n",
        "df2"
      ],
      "execution_count": null,
      "outputs": [
        {
          "output_type": "execute_result",
          "data": {
            "text/html": [
              "<div>\n",
              "<style scoped>\n",
              "    .dataframe tbody tr th:only-of-type {\n",
              "        vertical-align: middle;\n",
              "    }\n",
              "\n",
              "    .dataframe tbody tr th {\n",
              "        vertical-align: top;\n",
              "    }\n",
              "\n",
              "    .dataframe thead th {\n",
              "        text-align: right;\n",
              "    }\n",
              "</style>\n",
              "<table border=\"1\" class=\"dataframe\">\n",
              "  <thead>\n",
              "    <tr style=\"text-align: right;\">\n",
              "      <th></th>\n",
              "      <th>0</th>\n",
              "      <th>1</th>\n",
              "      <th>2</th>\n",
              "      <th>3</th>\n",
              "    </tr>\n",
              "  </thead>\n",
              "  <tbody>\n",
              "    <tr>\n",
              "      <th>번호</th>\n",
              "      <td>1</td>\n",
              "      <td>2</td>\n",
              "      <td>3</td>\n",
              "      <td>4</td>\n",
              "    </tr>\n",
              "    <tr>\n",
              "      <th>점수</th>\n",
              "      <td>10</td>\n",
              "      <td>90</td>\n",
              "      <td>44</td>\n",
              "      <td>23</td>\n",
              "    </tr>\n",
              "  </tbody>\n",
              "</table>\n",
              "</div>"
            ],
            "text/plain": [
              "     0   1   2   3\n",
              "번호   1   2   3   4\n",
              "점수  10  90  44  23"
            ]
          },
          "metadata": {
            "tags": []
          },
          "execution_count": 98
        }
      ]
    },
    {
      "cell_type": "code",
      "metadata": {
        "colab": {
          "base_uri": "https://localhost:8080/",
          "height": 142
        },
        "id": "MI8eRML0Wr8w",
        "outputId": "b66cd989-1fb7-496e-faec-c4e575a06ea0"
      },
      "source": [
        "names=['홍길동','을지문덕','강감찬']\n",
        "ages=[20,40,45]\n",
        "\n",
        "td={\n",
        "    '이름':names,\n",
        "    '나이':ages\n",
        "}\n",
        "df4=pd.DataFrame(td)\n",
        "df4"
      ],
      "execution_count": null,
      "outputs": [
        {
          "output_type": "execute_result",
          "data": {
            "text/html": [
              "<div>\n",
              "<style scoped>\n",
              "    .dataframe tbody tr th:only-of-type {\n",
              "        vertical-align: middle;\n",
              "    }\n",
              "\n",
              "    .dataframe tbody tr th {\n",
              "        vertical-align: top;\n",
              "    }\n",
              "\n",
              "    .dataframe thead th {\n",
              "        text-align: right;\n",
              "    }\n",
              "</style>\n",
              "<table border=\"1\" class=\"dataframe\">\n",
              "  <thead>\n",
              "    <tr style=\"text-align: right;\">\n",
              "      <th></th>\n",
              "      <th>이름</th>\n",
              "      <th>나이</th>\n",
              "    </tr>\n",
              "  </thead>\n",
              "  <tbody>\n",
              "    <tr>\n",
              "      <th>0</th>\n",
              "      <td>홍길동</td>\n",
              "      <td>20</td>\n",
              "    </tr>\n",
              "    <tr>\n",
              "      <th>1</th>\n",
              "      <td>을지문덕</td>\n",
              "      <td>40</td>\n",
              "    </tr>\n",
              "    <tr>\n",
              "      <th>2</th>\n",
              "      <td>강감찬</td>\n",
              "      <td>45</td>\n",
              "    </tr>\n",
              "  </tbody>\n",
              "</table>\n",
              "</div>"
            ],
            "text/plain": [
              "     이름  나이\n",
              "0   홍길동  20\n",
              "1  을지문덕  40\n",
              "2   강감찬  45"
            ]
          },
          "metadata": {
            "tags": []
          },
          "execution_count": 32
        }
      ]
    },
    {
      "cell_type": "code",
      "metadata": {
        "colab": {
          "base_uri": "https://localhost:8080/"
        },
        "id": "OkqoDHssXjGM",
        "outputId": "c77a8eaa-0895-4d5d-cd7c-5b29c40702bc"
      },
      "source": [
        "df4.values,df4.columns,df4.index"
      ],
      "execution_count": null,
      "outputs": [
        {
          "output_type": "execute_result",
          "data": {
            "text/plain": [
              "(array([['홍길동', 20],\n",
              "        ['을지문덕', 40],\n",
              "        ['강감찬', 45]], dtype=object),\n",
              " Index(['이름', '나이'], dtype='object'),\n",
              " RangeIndex(start=0, stop=3, step=1))"
            ]
          },
          "metadata": {
            "tags": []
          },
          "execution_count": 39
        }
      ]
    },
    {
      "cell_type": "markdown",
      "metadata": {
        "id": "BJG4HgVkYvxd"
      },
      "source": [
        "파이썬 개요-Pandas(빈 DataFrame)"
      ]
    },
    {
      "cell_type": "code",
      "metadata": {
        "colab": {
          "base_uri": "https://localhost:8080/",
          "height": 49
        },
        "id": "FRdMyZ2gY1-0",
        "outputId": "5531c995-e93f-4278-d3cd-6ac99b3966f8"
      },
      "source": [
        "edf=pd.DataFrame(columns=range(5)) #DataFrame 스키마 정의\n",
        "edf"
      ],
      "execution_count": null,
      "outputs": [
        {
          "output_type": "execute_result",
          "data": {
            "text/html": [
              "<div>\n",
              "<style scoped>\n",
              "    .dataframe tbody tr th:only-of-type {\n",
              "        vertical-align: middle;\n",
              "    }\n",
              "\n",
              "    .dataframe tbody tr th {\n",
              "        vertical-align: top;\n",
              "    }\n",
              "\n",
              "    .dataframe thead th {\n",
              "        text-align: right;\n",
              "    }\n",
              "</style>\n",
              "<table border=\"1\" class=\"dataframe\">\n",
              "  <thead>\n",
              "    <tr style=\"text-align: right;\">\n",
              "      <th></th>\n",
              "      <th>0</th>\n",
              "      <th>1</th>\n",
              "      <th>2</th>\n",
              "      <th>3</th>\n",
              "      <th>4</th>\n",
              "    </tr>\n",
              "  </thead>\n",
              "  <tbody>\n",
              "  </tbody>\n",
              "</table>\n",
              "</div>"
            ],
            "text/plain": [
              "Empty DataFrame\n",
              "Columns: [0, 1, 2, 3, 4]\n",
              "Index: []"
            ]
          },
          "metadata": {
            "tags": []
          },
          "execution_count": 41
        }
      ]
    },
    {
      "cell_type": "code",
      "metadata": {
        "colab": {
          "base_uri": "https://localhost:8080/",
          "height": 80
        },
        "id": "IIVxkvVuZYRi",
        "outputId": "5fe60a11-1710-4179-c07d-5ebbe0ca616c"
      },
      "source": [
        "edf.loc[0]=[1,2,3,4,5] #DataFrame 개체에 데이터추가\n",
        "edf"
      ],
      "execution_count": null,
      "outputs": [
        {
          "output_type": "execute_result",
          "data": {
            "text/html": [
              "<div>\n",
              "<style scoped>\n",
              "    .dataframe tbody tr th:only-of-type {\n",
              "        vertical-align: middle;\n",
              "    }\n",
              "\n",
              "    .dataframe tbody tr th {\n",
              "        vertical-align: top;\n",
              "    }\n",
              "\n",
              "    .dataframe thead th {\n",
              "        text-align: right;\n",
              "    }\n",
              "</style>\n",
              "<table border=\"1\" class=\"dataframe\">\n",
              "  <thead>\n",
              "    <tr style=\"text-align: right;\">\n",
              "      <th></th>\n",
              "      <th>0</th>\n",
              "      <th>1</th>\n",
              "      <th>2</th>\n",
              "      <th>3</th>\n",
              "      <th>4</th>\n",
              "    </tr>\n",
              "  </thead>\n",
              "  <tbody>\n",
              "    <tr>\n",
              "      <th>0</th>\n",
              "      <td>1</td>\n",
              "      <td>2</td>\n",
              "      <td>3</td>\n",
              "      <td>4</td>\n",
              "      <td>5</td>\n",
              "    </tr>\n",
              "  </tbody>\n",
              "</table>\n",
              "</div>"
            ],
            "text/plain": [
              "   0  1  2  3  4\n",
              "0  1  2  3  4  5"
            ]
          },
          "metadata": {
            "tags": []
          },
          "execution_count": 43
        }
      ]
    },
    {
      "cell_type": "code",
      "metadata": {
        "colab": {
          "base_uri": "https://localhost:8080/",
          "height": 49
        },
        "id": "c72kmoVvZwAb",
        "outputId": "fcadfbc6-259e-4dec-f49d-687362996174"
      },
      "source": [
        "edf2=pd.DataFrame(columns=range(5)) #DataFrame 스키마 정의\n",
        "edf2"
      ],
      "execution_count": null,
      "outputs": [
        {
          "output_type": "execute_result",
          "data": {
            "text/html": [
              "<div>\n",
              "<style scoped>\n",
              "    .dataframe tbody tr th:only-of-type {\n",
              "        vertical-align: middle;\n",
              "    }\n",
              "\n",
              "    .dataframe tbody tr th {\n",
              "        vertical-align: top;\n",
              "    }\n",
              "\n",
              "    .dataframe thead th {\n",
              "        text-align: right;\n",
              "    }\n",
              "</style>\n",
              "<table border=\"1\" class=\"dataframe\">\n",
              "  <thead>\n",
              "    <tr style=\"text-align: right;\">\n",
              "      <th></th>\n",
              "      <th>0</th>\n",
              "      <th>1</th>\n",
              "      <th>2</th>\n",
              "      <th>3</th>\n",
              "      <th>4</th>\n",
              "    </tr>\n",
              "  </thead>\n",
              "  <tbody>\n",
              "  </tbody>\n",
              "</table>\n",
              "</div>"
            ],
            "text/plain": [
              "Empty DataFrame\n",
              "Columns: [0, 1, 2, 3, 4]\n",
              "Index: []"
            ]
          },
          "metadata": {
            "tags": []
          },
          "execution_count": 44
        }
      ]
    },
    {
      "cell_type": "code",
      "metadata": {
        "colab": {
          "base_uri": "https://localhost:8080/",
          "height": 80
        },
        "id": "h3fWhpufZ7BO",
        "outputId": "36a9ed22-2c06-46f5-d99e-d064a26d493f"
      },
      "source": [
        "edf2.loc[0]=[1,2,3,4,5] #DataFrame 개체에 데이터추가\n",
        "edf2"
      ],
      "execution_count": null,
      "outputs": [
        {
          "output_type": "execute_result",
          "data": {
            "text/html": [
              "<div>\n",
              "<style scoped>\n",
              "    .dataframe tbody tr th:only-of-type {\n",
              "        vertical-align: middle;\n",
              "    }\n",
              "\n",
              "    .dataframe tbody tr th {\n",
              "        vertical-align: top;\n",
              "    }\n",
              "\n",
              "    .dataframe thead th {\n",
              "        text-align: right;\n",
              "    }\n",
              "</style>\n",
              "<table border=\"1\" class=\"dataframe\">\n",
              "  <thead>\n",
              "    <tr style=\"text-align: right;\">\n",
              "      <th></th>\n",
              "      <th>0</th>\n",
              "      <th>1</th>\n",
              "      <th>2</th>\n",
              "      <th>3</th>\n",
              "      <th>4</th>\n",
              "    </tr>\n",
              "  </thead>\n",
              "  <tbody>\n",
              "    <tr>\n",
              "      <th>0</th>\n",
              "      <td>1</td>\n",
              "      <td>2</td>\n",
              "      <td>3</td>\n",
              "      <td>4</td>\n",
              "      <td>5</td>\n",
              "    </tr>\n",
              "  </tbody>\n",
              "</table>\n",
              "</div>"
            ],
            "text/plain": [
              "   0  1  2  3  4\n",
              "0  1  2  3  4  5"
            ]
          },
          "metadata": {
            "tags": []
          },
          "execution_count": 45
        }
      ]
    },
    {
      "cell_type": "code",
      "metadata": {
        "colab": {
          "base_uri": "https://localhost:8080/",
          "height": 111
        },
        "id": "sRi4nVxyZ9j7",
        "outputId": "4ab90e3d-cd5a-4a4b-e184-b4e7a2757f6c"
      },
      "source": [
        "edf3=edf.append(edf2)\n",
        "edf3"
      ],
      "execution_count": null,
      "outputs": [
        {
          "output_type": "execute_result",
          "data": {
            "text/html": [
              "<div>\n",
              "<style scoped>\n",
              "    .dataframe tbody tr th:only-of-type {\n",
              "        vertical-align: middle;\n",
              "    }\n",
              "\n",
              "    .dataframe tbody tr th {\n",
              "        vertical-align: top;\n",
              "    }\n",
              "\n",
              "    .dataframe thead th {\n",
              "        text-align: right;\n",
              "    }\n",
              "</style>\n",
              "<table border=\"1\" class=\"dataframe\">\n",
              "  <thead>\n",
              "    <tr style=\"text-align: right;\">\n",
              "      <th></th>\n",
              "      <th>0</th>\n",
              "      <th>1</th>\n",
              "      <th>2</th>\n",
              "      <th>3</th>\n",
              "      <th>4</th>\n",
              "    </tr>\n",
              "  </thead>\n",
              "  <tbody>\n",
              "    <tr>\n",
              "      <th>0</th>\n",
              "      <td>1</td>\n",
              "      <td>2</td>\n",
              "      <td>3</td>\n",
              "      <td>4</td>\n",
              "      <td>5</td>\n",
              "    </tr>\n",
              "    <tr>\n",
              "      <th>0</th>\n",
              "      <td>1</td>\n",
              "      <td>2</td>\n",
              "      <td>3</td>\n",
              "      <td>4</td>\n",
              "      <td>5</td>\n",
              "    </tr>\n",
              "  </tbody>\n",
              "</table>\n",
              "</div>"
            ],
            "text/plain": [
              "   0  1  2  3  4\n",
              "0  1  2  3  4  5\n",
              "0  1  2  3  4  5"
            ]
          },
          "metadata": {
            "tags": []
          },
          "execution_count": 46
        }
      ]
    },
    {
      "cell_type": "code",
      "metadata": {
        "colab": {
          "base_uri": "https://localhost:8080/",
          "height": 111
        },
        "id": "r9Uj6GvEasAW",
        "outputId": "5317755d-ac0d-46e4-c3bf-6b8bff906f4f"
      },
      "source": [
        "edf4=pd.DataFrame([[6],[16]],columns=range(5,6))\n",
        "edf4"
      ],
      "execution_count": null,
      "outputs": [
        {
          "output_type": "execute_result",
          "data": {
            "text/html": [
              "<div>\n",
              "<style scoped>\n",
              "    .dataframe tbody tr th:only-of-type {\n",
              "        vertical-align: middle;\n",
              "    }\n",
              "\n",
              "    .dataframe tbody tr th {\n",
              "        vertical-align: top;\n",
              "    }\n",
              "\n",
              "    .dataframe thead th {\n",
              "        text-align: right;\n",
              "    }\n",
              "</style>\n",
              "<table border=\"1\" class=\"dataframe\">\n",
              "  <thead>\n",
              "    <tr style=\"text-align: right;\">\n",
              "      <th></th>\n",
              "      <th>5</th>\n",
              "    </tr>\n",
              "  </thead>\n",
              "  <tbody>\n",
              "    <tr>\n",
              "      <th>0</th>\n",
              "      <td>6</td>\n",
              "    </tr>\n",
              "    <tr>\n",
              "      <th>1</th>\n",
              "      <td>16</td>\n",
              "    </tr>\n",
              "  </tbody>\n",
              "</table>\n",
              "</div>"
            ],
            "text/plain": [
              "    5\n",
              "0   6\n",
              "1  16"
            ]
          },
          "metadata": {
            "tags": []
          },
          "execution_count": 49
        }
      ]
    },
    {
      "cell_type": "code",
      "metadata": {
        "colab": {
          "base_uri": "https://localhost:8080/",
          "height": 111
        },
        "id": "oVRHF-X8fO-y",
        "outputId": "bd457ba2-41cb-4d56-f3ea-cde30e912c0c"
      },
      "source": [
        "edf5=edf3.join(edf4)\n",
        "edf5"
      ],
      "execution_count": null,
      "outputs": [
        {
          "output_type": "execute_result",
          "data": {
            "text/html": [
              "<div>\n",
              "<style scoped>\n",
              "    .dataframe tbody tr th:only-of-type {\n",
              "        vertical-align: middle;\n",
              "    }\n",
              "\n",
              "    .dataframe tbody tr th {\n",
              "        vertical-align: top;\n",
              "    }\n",
              "\n",
              "    .dataframe thead th {\n",
              "        text-align: right;\n",
              "    }\n",
              "</style>\n",
              "<table border=\"1\" class=\"dataframe\">\n",
              "  <thead>\n",
              "    <tr style=\"text-align: right;\">\n",
              "      <th></th>\n",
              "      <th>0</th>\n",
              "      <th>1</th>\n",
              "      <th>2</th>\n",
              "      <th>3</th>\n",
              "      <th>4</th>\n",
              "      <th>5</th>\n",
              "    </tr>\n",
              "  </thead>\n",
              "  <tbody>\n",
              "    <tr>\n",
              "      <th>0</th>\n",
              "      <td>1</td>\n",
              "      <td>2</td>\n",
              "      <td>3</td>\n",
              "      <td>4</td>\n",
              "      <td>5</td>\n",
              "      <td>6</td>\n",
              "    </tr>\n",
              "    <tr>\n",
              "      <th>0</th>\n",
              "      <td>1</td>\n",
              "      <td>2</td>\n",
              "      <td>3</td>\n",
              "      <td>4</td>\n",
              "      <td>5</td>\n",
              "      <td>6</td>\n",
              "    </tr>\n",
              "  </tbody>\n",
              "</table>\n",
              "</div>"
            ],
            "text/plain": [
              "   0  1  2  3  4  5\n",
              "0  1  2  3  4  5  6\n",
              "0  1  2  3  4  5  6"
            ]
          },
          "metadata": {
            "tags": []
          },
          "execution_count": 50
        }
      ]
    },
    {
      "cell_type": "code",
      "metadata": {
        "colab": {
          "base_uri": "https://localhost:8080/",
          "height": 111
        },
        "id": "Zwl9owpzfstM",
        "outputId": "73f0f142-69aa-4195-a41e-d2df1eab9cd2"
      },
      "source": [
        "edf5.index=range(1,3)\n",
        "edf5"
      ],
      "execution_count": null,
      "outputs": [
        {
          "output_type": "execute_result",
          "data": {
            "text/html": [
              "<div>\n",
              "<style scoped>\n",
              "    .dataframe tbody tr th:only-of-type {\n",
              "        vertical-align: middle;\n",
              "    }\n",
              "\n",
              "    .dataframe tbody tr th {\n",
              "        vertical-align: top;\n",
              "    }\n",
              "\n",
              "    .dataframe thead th {\n",
              "        text-align: right;\n",
              "    }\n",
              "</style>\n",
              "<table border=\"1\" class=\"dataframe\">\n",
              "  <thead>\n",
              "    <tr style=\"text-align: right;\">\n",
              "      <th></th>\n",
              "      <th>1</th>\n",
              "      <th>2</th>\n",
              "      <th>3</th>\n",
              "      <th>4</th>\n",
              "      <th>5</th>\n",
              "      <th>6</th>\n",
              "    </tr>\n",
              "  </thead>\n",
              "  <tbody>\n",
              "    <tr>\n",
              "      <th>1</th>\n",
              "      <td>1</td>\n",
              "      <td>2</td>\n",
              "      <td>3</td>\n",
              "      <td>4</td>\n",
              "      <td>5</td>\n",
              "      <td>6</td>\n",
              "    </tr>\n",
              "    <tr>\n",
              "      <th>2</th>\n",
              "      <td>1</td>\n",
              "      <td>2</td>\n",
              "      <td>3</td>\n",
              "      <td>4</td>\n",
              "      <td>5</td>\n",
              "      <td>6</td>\n",
              "    </tr>\n",
              "  </tbody>\n",
              "</table>\n",
              "</div>"
            ],
            "text/plain": [
              "   1  2  3  4  5  6\n",
              "1  1  2  3  4  5  6\n",
              "2  1  2  3  4  5  6"
            ]
          },
          "metadata": {
            "tags": []
          },
          "execution_count": 56
        }
      ]
    },
    {
      "cell_type": "code",
      "metadata": {
        "colab": {
          "base_uri": "https://localhost:8080/",
          "height": 111
        },
        "id": "RH1J9C2egJ3A",
        "outputId": "0aa8f6cd-8e9d-4e8b-8974-7b14bd59f9d8"
      },
      "source": [
        "edf5.columns=range(1,7)\n",
        "edf5"
      ],
      "execution_count": null,
      "outputs": [
        {
          "output_type": "execute_result",
          "data": {
            "text/html": [
              "<div>\n",
              "<style scoped>\n",
              "    .dataframe tbody tr th:only-of-type {\n",
              "        vertical-align: middle;\n",
              "    }\n",
              "\n",
              "    .dataframe tbody tr th {\n",
              "        vertical-align: top;\n",
              "    }\n",
              "\n",
              "    .dataframe thead th {\n",
              "        text-align: right;\n",
              "    }\n",
              "</style>\n",
              "<table border=\"1\" class=\"dataframe\">\n",
              "  <thead>\n",
              "    <tr style=\"text-align: right;\">\n",
              "      <th></th>\n",
              "      <th>1</th>\n",
              "      <th>2</th>\n",
              "      <th>3</th>\n",
              "      <th>4</th>\n",
              "      <th>5</th>\n",
              "      <th>6</th>\n",
              "    </tr>\n",
              "  </thead>\n",
              "  <tbody>\n",
              "    <tr>\n",
              "      <th>1</th>\n",
              "      <td>1</td>\n",
              "      <td>2</td>\n",
              "      <td>3</td>\n",
              "      <td>4</td>\n",
              "      <td>5</td>\n",
              "      <td>6</td>\n",
              "    </tr>\n",
              "    <tr>\n",
              "      <th>2</th>\n",
              "      <td>1</td>\n",
              "      <td>2</td>\n",
              "      <td>3</td>\n",
              "      <td>4</td>\n",
              "      <td>5</td>\n",
              "      <td>6</td>\n",
              "    </tr>\n",
              "  </tbody>\n",
              "</table>\n",
              "</div>"
            ],
            "text/plain": [
              "   1  2  3  4  5  6\n",
              "1  1  2  3  4  5  6\n",
              "2  1  2  3  4  5  6"
            ]
          },
          "metadata": {
            "tags": []
          },
          "execution_count": 54
        }
      ]
    },
    {
      "cell_type": "code",
      "metadata": {
        "colab": {
          "base_uri": "https://localhost:8080/",
          "height": 111
        },
        "id": "sDycS7QCgvs6",
        "outputId": "b400899c-6c69-43bf-c10a-fb459c8644f2"
      },
      "source": [
        "edf5.rename(index={2:6},inplace=True)\n",
        "edf5"
      ],
      "execution_count": null,
      "outputs": [
        {
          "output_type": "execute_result",
          "data": {
            "text/html": [
              "<div>\n",
              "<style scoped>\n",
              "    .dataframe tbody tr th:only-of-type {\n",
              "        vertical-align: middle;\n",
              "    }\n",
              "\n",
              "    .dataframe tbody tr th {\n",
              "        vertical-align: top;\n",
              "    }\n",
              "\n",
              "    .dataframe thead th {\n",
              "        text-align: right;\n",
              "    }\n",
              "</style>\n",
              "<table border=\"1\" class=\"dataframe\">\n",
              "  <thead>\n",
              "    <tr style=\"text-align: right;\">\n",
              "      <th></th>\n",
              "      <th>1</th>\n",
              "      <th>2</th>\n",
              "      <th>3</th>\n",
              "      <th>4</th>\n",
              "      <th>5</th>\n",
              "      <th>6</th>\n",
              "    </tr>\n",
              "  </thead>\n",
              "  <tbody>\n",
              "    <tr>\n",
              "      <th>1</th>\n",
              "      <td>1</td>\n",
              "      <td>2</td>\n",
              "      <td>3</td>\n",
              "      <td>4</td>\n",
              "      <td>5</td>\n",
              "      <td>6</td>\n",
              "    </tr>\n",
              "    <tr>\n",
              "      <th>6</th>\n",
              "      <td>1</td>\n",
              "      <td>2</td>\n",
              "      <td>3</td>\n",
              "      <td>4</td>\n",
              "      <td>5</td>\n",
              "      <td>6</td>\n",
              "    </tr>\n",
              "  </tbody>\n",
              "</table>\n",
              "</div>"
            ],
            "text/plain": [
              "   1  2  3  4  5  6\n",
              "1  1  2  3  4  5  6\n",
              "6  1  2  3  4  5  6"
            ]
          },
          "metadata": {
            "tags": []
          },
          "execution_count": 58
        }
      ]
    },
    {
      "cell_type": "code",
      "metadata": {
        "colab": {
          "base_uri": "https://localhost:8080/",
          "height": 111
        },
        "id": "rbFyPBGwhIic",
        "outputId": "cf5b0943-3af7-467a-af06-430737cf19d1"
      },
      "source": [
        "edf5.rename(columns={6:7},inplace=True)\n",
        "edf5"
      ],
      "execution_count": null,
      "outputs": [
        {
          "output_type": "execute_result",
          "data": {
            "text/html": [
              "<div>\n",
              "<style scoped>\n",
              "    .dataframe tbody tr th:only-of-type {\n",
              "        vertical-align: middle;\n",
              "    }\n",
              "\n",
              "    .dataframe tbody tr th {\n",
              "        vertical-align: top;\n",
              "    }\n",
              "\n",
              "    .dataframe thead th {\n",
              "        text-align: right;\n",
              "    }\n",
              "</style>\n",
              "<table border=\"1\" class=\"dataframe\">\n",
              "  <thead>\n",
              "    <tr style=\"text-align: right;\">\n",
              "      <th></th>\n",
              "      <th>1</th>\n",
              "      <th>2</th>\n",
              "      <th>3</th>\n",
              "      <th>4</th>\n",
              "      <th>5</th>\n",
              "      <th>7</th>\n",
              "    </tr>\n",
              "  </thead>\n",
              "  <tbody>\n",
              "    <tr>\n",
              "      <th>1</th>\n",
              "      <td>1</td>\n",
              "      <td>2</td>\n",
              "      <td>3</td>\n",
              "      <td>4</td>\n",
              "      <td>5</td>\n",
              "      <td>6</td>\n",
              "    </tr>\n",
              "    <tr>\n",
              "      <th>6</th>\n",
              "      <td>1</td>\n",
              "      <td>2</td>\n",
              "      <td>3</td>\n",
              "      <td>4</td>\n",
              "      <td>5</td>\n",
              "      <td>6</td>\n",
              "    </tr>\n",
              "  </tbody>\n",
              "</table>\n",
              "</div>"
            ],
            "text/plain": [
              "   1  2  3  4  5  7\n",
              "1  1  2  3  4  5  6\n",
              "6  1  2  3  4  5  6"
            ]
          },
          "metadata": {
            "tags": []
          },
          "execution_count": 59
        }
      ]
    },
    {
      "cell_type": "code",
      "metadata": {
        "colab": {
          "base_uri": "https://localhost:8080/",
          "height": 142
        },
        "id": "I-9qEnLVhqJc",
        "outputId": "2c7fbfbf-fc00-45ab-bd60-0b8939197a65"
      },
      "source": [
        "edf5.loc[2]=[21,22,23,24,25,26]\n",
        "edf5"
      ],
      "execution_count": null,
      "outputs": [
        {
          "output_type": "execute_result",
          "data": {
            "text/html": [
              "<div>\n",
              "<style scoped>\n",
              "    .dataframe tbody tr th:only-of-type {\n",
              "        vertical-align: middle;\n",
              "    }\n",
              "\n",
              "    .dataframe tbody tr th {\n",
              "        vertical-align: top;\n",
              "    }\n",
              "\n",
              "    .dataframe thead th {\n",
              "        text-align: right;\n",
              "    }\n",
              "</style>\n",
              "<table border=\"1\" class=\"dataframe\">\n",
              "  <thead>\n",
              "    <tr style=\"text-align: right;\">\n",
              "      <th></th>\n",
              "      <th>1</th>\n",
              "      <th>2</th>\n",
              "      <th>3</th>\n",
              "      <th>4</th>\n",
              "      <th>5</th>\n",
              "      <th>7</th>\n",
              "    </tr>\n",
              "  </thead>\n",
              "  <tbody>\n",
              "    <tr>\n",
              "      <th>1</th>\n",
              "      <td>1</td>\n",
              "      <td>2</td>\n",
              "      <td>3</td>\n",
              "      <td>4</td>\n",
              "      <td>5</td>\n",
              "      <td>6</td>\n",
              "    </tr>\n",
              "    <tr>\n",
              "      <th>6</th>\n",
              "      <td>1</td>\n",
              "      <td>2</td>\n",
              "      <td>3</td>\n",
              "      <td>4</td>\n",
              "      <td>5</td>\n",
              "      <td>6</td>\n",
              "    </tr>\n",
              "    <tr>\n",
              "      <th>2</th>\n",
              "      <td>21</td>\n",
              "      <td>22</td>\n",
              "      <td>23</td>\n",
              "      <td>24</td>\n",
              "      <td>25</td>\n",
              "      <td>26</td>\n",
              "    </tr>\n",
              "  </tbody>\n",
              "</table>\n",
              "</div>"
            ],
            "text/plain": [
              "    1   2   3   4   5   7\n",
              "1   1   2   3   4   5   6\n",
              "6   1   2   3   4   5   6\n",
              "2  21  22  23  24  25  26"
            ]
          },
          "metadata": {
            "tags": []
          },
          "execution_count": 60
        }
      ]
    },
    {
      "cell_type": "code",
      "metadata": {
        "colab": {
          "base_uri": "https://localhost:8080/",
          "height": 142
        },
        "id": "TweLSJo-hyD5",
        "outputId": "7bbde6ec-db44-4771-9b55-2bea82588c19"
      },
      "source": [
        "import numpy as np\n",
        "edf5[6]=np.nan\n",
        "edf5"
      ],
      "execution_count": null,
      "outputs": [
        {
          "output_type": "execute_result",
          "data": {
            "text/html": [
              "<div>\n",
              "<style scoped>\n",
              "    .dataframe tbody tr th:only-of-type {\n",
              "        vertical-align: middle;\n",
              "    }\n",
              "\n",
              "    .dataframe tbody tr th {\n",
              "        vertical-align: top;\n",
              "    }\n",
              "\n",
              "    .dataframe thead th {\n",
              "        text-align: right;\n",
              "    }\n",
              "</style>\n",
              "<table border=\"1\" class=\"dataframe\">\n",
              "  <thead>\n",
              "    <tr style=\"text-align: right;\">\n",
              "      <th></th>\n",
              "      <th>1</th>\n",
              "      <th>2</th>\n",
              "      <th>3</th>\n",
              "      <th>4</th>\n",
              "      <th>5</th>\n",
              "      <th>7</th>\n",
              "      <th>6</th>\n",
              "    </tr>\n",
              "  </thead>\n",
              "  <tbody>\n",
              "    <tr>\n",
              "      <th>1</th>\n",
              "      <td>1</td>\n",
              "      <td>2</td>\n",
              "      <td>3</td>\n",
              "      <td>4</td>\n",
              "      <td>5</td>\n",
              "      <td>6</td>\n",
              "      <td>NaN</td>\n",
              "    </tr>\n",
              "    <tr>\n",
              "      <th>6</th>\n",
              "      <td>1</td>\n",
              "      <td>2</td>\n",
              "      <td>3</td>\n",
              "      <td>4</td>\n",
              "      <td>5</td>\n",
              "      <td>6</td>\n",
              "      <td>NaN</td>\n",
              "    </tr>\n",
              "    <tr>\n",
              "      <th>2</th>\n",
              "      <td>21</td>\n",
              "      <td>22</td>\n",
              "      <td>23</td>\n",
              "      <td>24</td>\n",
              "      <td>25</td>\n",
              "      <td>26</td>\n",
              "      <td>NaN</td>\n",
              "    </tr>\n",
              "  </tbody>\n",
              "</table>\n",
              "</div>"
            ],
            "text/plain": [
              "    1   2   3   4   5   7   6\n",
              "1   1   2   3   4   5   6 NaN\n",
              "6   1   2   3   4   5   6 NaN\n",
              "2  21  22  23  24  25  26 NaN"
            ]
          },
          "metadata": {
            "tags": []
          },
          "execution_count": 61
        }
      ]
    },
    {
      "cell_type": "code",
      "metadata": {
        "colab": {
          "base_uri": "https://localhost:8080/",
          "height": 142
        },
        "id": "IqvFqSmpiSzZ",
        "outputId": "8bfcde62-18bb-41cb-e0c0-0f9b9ab16087"
      },
      "source": [
        "edf6=edf5.reindex(index=[1,2,6])\n",
        "edf6"
      ],
      "execution_count": null,
      "outputs": [
        {
          "output_type": "execute_result",
          "data": {
            "text/html": [
              "<div>\n",
              "<style scoped>\n",
              "    .dataframe tbody tr th:only-of-type {\n",
              "        vertical-align: middle;\n",
              "    }\n",
              "\n",
              "    .dataframe tbody tr th {\n",
              "        vertical-align: top;\n",
              "    }\n",
              "\n",
              "    .dataframe thead th {\n",
              "        text-align: right;\n",
              "    }\n",
              "</style>\n",
              "<table border=\"1\" class=\"dataframe\">\n",
              "  <thead>\n",
              "    <tr style=\"text-align: right;\">\n",
              "      <th></th>\n",
              "      <th>1</th>\n",
              "      <th>2</th>\n",
              "      <th>3</th>\n",
              "      <th>4</th>\n",
              "      <th>5</th>\n",
              "      <th>7</th>\n",
              "      <th>6</th>\n",
              "    </tr>\n",
              "  </thead>\n",
              "  <tbody>\n",
              "    <tr>\n",
              "      <th>1</th>\n",
              "      <td>1</td>\n",
              "      <td>2</td>\n",
              "      <td>3</td>\n",
              "      <td>4</td>\n",
              "      <td>5</td>\n",
              "      <td>6</td>\n",
              "      <td>NaN</td>\n",
              "    </tr>\n",
              "    <tr>\n",
              "      <th>2</th>\n",
              "      <td>21</td>\n",
              "      <td>22</td>\n",
              "      <td>23</td>\n",
              "      <td>24</td>\n",
              "      <td>25</td>\n",
              "      <td>26</td>\n",
              "      <td>NaN</td>\n",
              "    </tr>\n",
              "    <tr>\n",
              "      <th>6</th>\n",
              "      <td>1</td>\n",
              "      <td>2</td>\n",
              "      <td>3</td>\n",
              "      <td>4</td>\n",
              "      <td>5</td>\n",
              "      <td>6</td>\n",
              "      <td>NaN</td>\n",
              "    </tr>\n",
              "  </tbody>\n",
              "</table>\n",
              "</div>"
            ],
            "text/plain": [
              "    1   2   3   4   5   7   6\n",
              "1   1   2   3   4   5   6 NaN\n",
              "2  21  22  23  24  25  26 NaN\n",
              "6   1   2   3   4   5   6 NaN"
            ]
          },
          "metadata": {
            "tags": []
          },
          "execution_count": 62
        }
      ]
    },
    {
      "cell_type": "code",
      "metadata": {
        "colab": {
          "base_uri": "https://localhost:8080/",
          "height": 142
        },
        "id": "yCW8bmxwi2BH",
        "outputId": "eea7e20d-1e90-409a-be96-3a17f6fd7030"
      },
      "source": [
        "edf7=edf6[list(range(1,8))]\n",
        "edf7"
      ],
      "execution_count": null,
      "outputs": [
        {
          "output_type": "execute_result",
          "data": {
            "text/html": [
              "<div>\n",
              "<style scoped>\n",
              "    .dataframe tbody tr th:only-of-type {\n",
              "        vertical-align: middle;\n",
              "    }\n",
              "\n",
              "    .dataframe tbody tr th {\n",
              "        vertical-align: top;\n",
              "    }\n",
              "\n",
              "    .dataframe thead th {\n",
              "        text-align: right;\n",
              "    }\n",
              "</style>\n",
              "<table border=\"1\" class=\"dataframe\">\n",
              "  <thead>\n",
              "    <tr style=\"text-align: right;\">\n",
              "      <th></th>\n",
              "      <th>1</th>\n",
              "      <th>2</th>\n",
              "      <th>3</th>\n",
              "      <th>4</th>\n",
              "      <th>5</th>\n",
              "      <th>6</th>\n",
              "      <th>7</th>\n",
              "    </tr>\n",
              "  </thead>\n",
              "  <tbody>\n",
              "    <tr>\n",
              "      <th>1</th>\n",
              "      <td>1</td>\n",
              "      <td>2</td>\n",
              "      <td>3</td>\n",
              "      <td>4</td>\n",
              "      <td>5</td>\n",
              "      <td>NaN</td>\n",
              "      <td>6</td>\n",
              "    </tr>\n",
              "    <tr>\n",
              "      <th>2</th>\n",
              "      <td>21</td>\n",
              "      <td>22</td>\n",
              "      <td>23</td>\n",
              "      <td>24</td>\n",
              "      <td>25</td>\n",
              "      <td>NaN</td>\n",
              "      <td>26</td>\n",
              "    </tr>\n",
              "    <tr>\n",
              "      <th>6</th>\n",
              "      <td>1</td>\n",
              "      <td>2</td>\n",
              "      <td>3</td>\n",
              "      <td>4</td>\n",
              "      <td>5</td>\n",
              "      <td>NaN</td>\n",
              "      <td>6</td>\n",
              "    </tr>\n",
              "  </tbody>\n",
              "</table>\n",
              "</div>"
            ],
            "text/plain": [
              "    1   2   3   4   5   6   7\n",
              "1   1   2   3   4   5 NaN   6\n",
              "2  21  22  23  24  25 NaN  26\n",
              "6   1   2   3   4   5 NaN   6"
            ]
          },
          "metadata": {
            "tags": []
          },
          "execution_count": 65
        }
      ]
    }
  ]
}